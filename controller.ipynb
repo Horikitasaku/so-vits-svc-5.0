{
 "cells": [
  {
   "cell_type": "markdown",
   "id": "5d96ae37",
   "metadata": {},
   "source": [
    "# Preprocessing"
   ]
  },
  {
   "cell_type": "code",
   "execution_count": null,
   "id": "35aef9ba",
   "metadata": {
    "collapsed": true,
    "jupyter": {
     "outputs_hidden": true
    },
    "tags": []
   },
   "outputs": [],
   "source": [
    "!python prepare/Format_conversion.py -i ./wakamo_train -o ./wakamo_train/wakamo_prepared -t 10"
   ]
  },
  {
   "cell_type": "code",
   "execution_count": null,
   "id": "893a5816",
   "metadata": {},
   "outputs": [],
   "source": [
    "!python prepare/preprocess_a.py -w ./soyo_train -o ./data_svc/waves-16k -s 16000"
   ]
  },
  {
   "cell_type": "code",
   "execution_count": null,
   "id": "cb3b68c0",
   "metadata": {},
   "outputs": [],
   "source": [
    "!python prepare/preprocess_a.py -w ./soyo_train -o ./data_svc/waves-32k -s 32000"
   ]
  },
  {
   "cell_type": "markdown",
   "id": "d70d5139",
   "metadata": {},
   "source": [
    "#### aug"
   ]
  },
  {
   "cell_type": "code",
   "execution_count": null,
   "id": "f91a5cec-8984-4d9a-bc59-a34c7e2d1489",
   "metadata": {
    "jupyter": {
     "source_hidden": true
    },
    "tags": []
   },
   "outputs": [],
   "source": [
    "# !python prepare/data_augmentation.py -w ./wakamo_train -o ./data_svc/waves-16k -s 16000 -t 0 --overall_prob 1 --gaussian_noise_prob 0.4 --time_stretch_prob 0.4 --pitch_shift_prob 0.4 --frequency_mask_prob 0.4 --time_mask_prob 0.4"
   ]
  },
  {
   "cell_type": "code",
   "execution_count": null,
   "id": "8454ea2f-f15d-4628-80b1-33dc32509d7b",
   "metadata": {},
   "outputs": [],
   "source": [
    "# !python prepare/data_augmentation.py -w ./kikyo_wav -o ./data_svc/waves-16k -s 16000 -t 0 --overall_prob 1 --gaussian_noise_prob 0.4 --time_stretch_prob 0.4 --pitch_shift_prob 0.4 --frequency_mask_prob 0.4 --time_mask_prob 0.4"
   ]
  },
  {
   "cell_type": "code",
   "execution_count": null,
   "id": "4512a0f7",
   "metadata": {},
   "outputs": [],
   "source": [
    "# !python prepare/data_augmentation.py -w ./kikyo_wav -o ./data_svc/waves-16k -s 16000 -t 0 --overall_prob 0 --gaussian_noise_prob 0 --time_stretch_prob 0 --pitch_shift_prob 0 --frequency_mask_prob 0 --time_mask_prob 0"
   ]
  },
  {
   "cell_type": "code",
   "execution_count": null,
   "id": "abb26dcd",
   "metadata": {},
   "outputs": [],
   "source": [
    "# !python prepare/data_augmentation.py -w ./kikyo_wav -o ./data_svc/waves-32k -s 32000 -t 0 --overall_prob 1 --gaussian_noise_prob 0.4 --time_stretch_prob 0.4 --pitch_shift_prob 0.4 --frequency_mask_prob 0.4 --time_mask_prob 0.4"
   ]
  },
  {
   "cell_type": "code",
   "execution_count": null,
   "id": "af08d197",
   "metadata": {
    "tags": []
   },
   "outputs": [],
   "source": [
    "# !python prepare/data_augmentation.py -w ./kikyo_wav -o ./data_svc/waves-32k -s 32000 -t 0 --overall_prob 0 --gaussian_noise_prob 0 --time_stretch_prob 0 --pitch_shift_prob 0 --frequency_mask_prob 0 --time_mask_prob 0"
   ]
  },
  {
   "cell_type": "markdown",
   "id": "f369543d",
   "metadata": {},
   "source": [
    "#### Go"
   ]
  },
  {
   "cell_type": "code",
   "execution_count": 4,
   "id": "996e6967",
   "metadata": {},
   "outputs": [
    {
     "data": {
      "text/plain": [
       "'2.3.0+cu121'"
      ]
     },
     "execution_count": 4,
     "metadata": {},
     "output_type": "execute_result"
    }
   ],
   "source": [
    "import torch\n",
    "torch.__version__"
   ]
  },
  {
   "cell_type": "code",
   "execution_count": 1,
   "id": "e60b241d-cfab-45d5-a1c4-360dcf042c80",
   "metadata": {
    "tags": []
   },
   "outputs": [
    {
     "name": "stdout",
     "output_type": "stream",
     "text": [
      "data_svc/waves-16k/\n",
      "data_svc/pitch\n"
     ]
    },
    {
     "name": "stderr",
     "output_type": "stream",
     "text": [
      "\n",
      "Processing crepe soyo:   0%|          | 0/137 [00:00<?, ?it/s]e:\\.env\\sovit5\\lib\\site-packages\\torch\\nn\\modules\\conv.py:456: UserWarning: Plan failed with a cudnnException: CUDNN_BACKEND_EXECUTION_PLAN_DESCRIPTOR: cudnnFinalize Descriptor Failed cudnn_status: CUDNN_STATUS_NOT_SUPPORTED (Triggered internally at C:\\actions-runner\\_work\\pytorch\\pytorch\\builder\\windows\\pytorch\\aten\\src\\ATen\\native\\cudnn\\Conv_v8.cpp:919.)\n",
      "  return F.conv2d(input, weight, bias, self.stride,\n",
      "\n",
      "Processing crepe soyo:   1%|          | 1/137 [00:13<30:05, 13.28s/it]\n",
      "Processing crepe soyo:   1%|▏         | 2/137 [00:14<14:23,  6.40s/it]\n",
      "Processing crepe soyo:   2%|▏         | 3/137 [00:16<09:26,  4.23s/it]\n",
      "Processing crepe soyo:   3%|▎         | 4/137 [00:18<07:08,  3.22s/it]\n",
      "Processing crepe soyo:   4%|▎         | 5/137 [00:19<05:49,  2.64s/it]\n",
      "Processing crepe soyo:   4%|▍         | 6/137 [00:21<04:56,  2.26s/it]\n",
      "Processing crepe soyo:   5%|▌         | 7/137 [00:22<04:21,  2.01s/it]\n",
      "Processing crepe soyo:   6%|▌         | 8/137 [00:24<04:03,  1.89s/it]\n",
      "Processing crepe soyo:   7%|▋         | 9/137 [00:25<03:47,  1.78s/it]\n",
      "Processing crepe soyo:   7%|▋         | 10/137 [00:27<03:30,  1.66s/it]\n",
      "Processing crepe soyo:   8%|▊         | 11/137 [00:28<03:24,  1.63s/it]\n",
      "Processing crepe soyo:   9%|▉         | 12/137 [00:30<03:16,  1.57s/it]\n",
      "Processing crepe soyo:   9%|▉         | 13/137 [00:31<03:09,  1.53s/it]\n",
      "Processing crepe soyo:  10%|█         | 14/137 [00:33<03:05,  1.50s/it]\n",
      "Processing crepe soyo:  11%|█         | 15/137 [00:34<03:03,  1.51s/it]\n",
      "Processing crepe soyo:  12%|█▏        | 16/137 [00:36<02:58,  1.48s/it]\n",
      "Processing crepe soyo:  12%|█▏        | 17/137 [00:37<02:57,  1.48s/it]\n",
      "Processing crepe soyo:  13%|█▎        | 18/137 [00:39<02:52,  1.45s/it]\n",
      "Processing crepe soyo:  14%|█▍        | 19/137 [00:40<02:49,  1.44s/it]\n",
      "Processing crepe soyo:  15%|█▍        | 20/137 [00:41<02:49,  1.45s/it]\n",
      "Processing crepe soyo:  15%|█▌        | 21/137 [00:43<02:49,  1.46s/it]\n",
      "Processing crepe soyo:  16%|█▌        | 22/137 [00:44<02:48,  1.47s/it]\n",
      "Processing crepe soyo:  17%|█▋        | 23/137 [00:46<02:48,  1.48s/it]\n",
      "Processing crepe soyo:  18%|█▊        | 24/137 [00:47<02:47,  1.48s/it]\n",
      "Processing crepe soyo:  18%|█▊        | 25/137 [00:49<02:47,  1.49s/it]\n",
      "Processing crepe soyo:  19%|█▉        | 26/137 [00:50<02:45,  1.49s/it]\n",
      "Processing crepe soyo:  20%|█▉        | 27/137 [00:52<02:41,  1.47s/it]\n",
      "Processing crepe soyo:  20%|██        | 28/137 [00:53<02:40,  1.47s/it]\n",
      "Processing crepe soyo:  21%|██        | 29/137 [00:55<02:39,  1.48s/it]\n",
      "Processing crepe soyo:  22%|██▏       | 30/137 [00:56<02:40,  1.50s/it]\n",
      "Processing crepe soyo:  23%|██▎       | 31/137 [00:58<02:40,  1.52s/it]\n",
      "Processing crepe soyo:  23%|██▎       | 32/137 [00:59<02:37,  1.50s/it]\n",
      "Processing crepe soyo:  24%|██▍       | 33/137 [01:01<02:37,  1.52s/it]\n",
      "Processing crepe soyo:  25%|██▍       | 34/137 [01:02<02:37,  1.53s/it]\n",
      "Processing crepe soyo:  26%|██▌       | 35/137 [01:04<02:38,  1.55s/it]\n",
      "Processing crepe soyo:  26%|██▋       | 36/137 [01:06<02:33,  1.52s/it]\n",
      "Processing crepe soyo:  27%|██▋       | 37/137 [01:07<02:35,  1.55s/it]\n",
      "Processing crepe soyo:  28%|██▊       | 38/137 [01:09<02:31,  1.53s/it]\n",
      "Processing crepe soyo:  28%|██▊       | 39/137 [01:10<02:30,  1.54s/it]\n",
      "Processing crepe soyo:  29%|██▉       | 40/137 [01:12<02:27,  1.52s/it]\n",
      "Processing crepe soyo:  30%|██▉       | 41/137 [01:13<02:24,  1.51s/it]\n",
      "Processing crepe soyo:  31%|███       | 42/137 [01:15<02:24,  1.52s/it]\n",
      "Processing crepe soyo:  31%|███▏      | 43/137 [01:16<02:24,  1.54s/it]\n",
      "Processing crepe soyo:  32%|███▏      | 44/137 [01:18<02:22,  1.53s/it]\n",
      "Processing crepe soyo:  33%|███▎      | 45/137 [01:19<02:18,  1.51s/it]\n",
      "Processing crepe soyo:  34%|███▎      | 46/137 [01:21<02:17,  1.51s/it]\n",
      "Processing crepe soyo:  34%|███▍      | 47/137 [01:22<02:16,  1.52s/it]\n",
      "Processing crepe soyo:  35%|███▌      | 48/137 [01:24<02:14,  1.52s/it]\n",
      "Processing crepe soyo:  36%|███▌      | 49/137 [01:25<02:13,  1.52s/it]\n",
      "Processing crepe soyo:  36%|███▋      | 50/137 [01:27<02:13,  1.53s/it]\n",
      "Processing crepe soyo:  37%|███▋      | 51/137 [01:28<02:12,  1.54s/it]\n",
      "Processing crepe soyo:  38%|███▊      | 52/137 [01:30<02:12,  1.56s/it]\n",
      "Processing crepe soyo:  39%|███▊      | 53/137 [01:32<02:10,  1.55s/it]\n",
      "Processing crepe soyo:  39%|███▉      | 54/137 [01:33<02:07,  1.54s/it]\n",
      "Processing crepe soyo:  40%|████      | 55/137 [01:35<02:07,  1.55s/it]\n",
      "Processing crepe soyo:  41%|████      | 56/137 [01:36<02:07,  1.58s/it]\n",
      "Processing crepe soyo:  42%|████▏     | 57/137 [01:38<02:05,  1.57s/it]\n",
      "Processing crepe soyo:  42%|████▏     | 58/137 [01:39<02:04,  1.57s/it]\n",
      "Processing crepe soyo:  43%|████▎     | 59/137 [01:41<02:02,  1.57s/it]\n",
      "Processing crepe soyo:  44%|████▍     | 60/137 [01:43<02:00,  1.56s/it]\n",
      "Processing crepe soyo:  45%|████▍     | 61/137 [01:44<01:58,  1.56s/it]\n",
      "Processing crepe soyo:  45%|████▌     | 62/137 [01:46<01:55,  1.54s/it]\n",
      "Processing crepe soyo:  46%|████▌     | 63/137 [01:47<01:54,  1.55s/it]\n",
      "Processing crepe soyo:  47%|████▋     | 64/137 [01:49<01:52,  1.55s/it]\n",
      "Processing crepe soyo:  47%|████▋     | 65/137 [01:50<01:50,  1.54s/it]\n",
      "Processing crepe soyo:  48%|████▊     | 66/137 [01:52<01:50,  1.56s/it]\n",
      "Processing crepe soyo:  49%|████▉     | 67/137 [01:53<01:48,  1.55s/it]\n",
      "Processing crepe soyo:  50%|████▉     | 68/137 [01:55<01:45,  1.53s/it]\n",
      "Processing crepe soyo:  50%|█████     | 69/137 [01:56<01:44,  1.53s/it]\n",
      "Processing crepe soyo:  51%|█████     | 70/137 [01:58<01:43,  1.55s/it]\n",
      "Processing crepe soyo:  52%|█████▏    | 71/137 [01:59<01:41,  1.54s/it]\n",
      "Processing crepe soyo:  53%|█████▎    | 72/137 [02:01<01:30,  1.39s/it]\n",
      "Processing crepe soyo:  53%|█████▎    | 73/137 [02:02<01:30,  1.42s/it]\n",
      "Processing crepe soyo:  54%|█████▍    | 74/137 [02:04<01:30,  1.44s/it]\n",
      "Processing crepe soyo:  55%|█████▍    | 75/137 [02:05<01:37,  1.56s/it]\n",
      "Processing crepe soyo:  55%|█████▌    | 76/137 [02:07<01:40,  1.65s/it]\n",
      "Processing crepe soyo:  56%|█████▌    | 77/137 [02:09<01:42,  1.70s/it]\n",
      "Processing crepe soyo:  57%|█████▋    | 78/137 [02:11<01:41,  1.73s/it]\n",
      "Processing crepe soyo:  58%|█████▊    | 79/137 [02:13<01:43,  1.78s/it]\n",
      "Processing crepe soyo:  58%|█████▊    | 80/137 [02:15<01:42,  1.79s/it]\n",
      "Processing crepe soyo:  59%|█████▉    | 81/137 [02:16<01:41,  1.81s/it]\n",
      "Processing crepe soyo:  60%|█████▉    | 82/137 [02:18<01:40,  1.83s/it]\n",
      "Processing crepe soyo:  61%|██████    | 83/137 [02:20<01:39,  1.84s/it]\n",
      "Processing crepe soyo:  61%|██████▏   | 84/137 [02:22<01:37,  1.83s/it]\n",
      "Processing crepe soyo:  62%|██████▏   | 85/137 [02:24<01:36,  1.86s/it]\n",
      "Processing crepe soyo:  63%|██████▎   | 86/137 [02:26<01:36,  1.90s/it]\n",
      "Processing crepe soyo:  64%|██████▎   | 87/137 [02:28<01:35,  1.90s/it]\n",
      "Processing crepe soyo:  64%|██████▍   | 88/137 [02:30<01:31,  1.86s/it]\n",
      "Processing crepe soyo:  65%|██████▍   | 89/137 [02:32<01:31,  1.90s/it]\n",
      "Processing crepe soyo:  66%|██████▌   | 90/137 [02:34<01:33,  2.00s/it]\n",
      "Processing crepe soyo:  66%|██████▋   | 91/137 [02:36<01:33,  2.03s/it]\n",
      "Processing crepe soyo:  67%|██████▋   | 92/137 [02:38<01:30,  2.01s/it]\n",
      "Processing crepe soyo:  68%|██████▊   | 93/137 [02:40<01:27,  1.98s/it]\n",
      "Processing crepe soyo:  69%|██████▊   | 94/137 [02:42<01:22,  1.92s/it]\n",
      "Processing crepe soyo:  69%|██████▉   | 95/137 [02:43<01:20,  1.93s/it]\n",
      "Processing crepe soyo:  70%|███████   | 96/137 [02:45<01:19,  1.93s/it]\n",
      "Processing crepe soyo:  71%|███████   | 97/137 [02:47<01:16,  1.90s/it]\n",
      "Processing crepe soyo:  72%|███████▏  | 98/137 [02:49<01:13,  1.88s/it]\n",
      "Processing crepe soyo:  72%|███████▏  | 99/137 [02:51<01:11,  1.88s/it]\n",
      "Processing crepe soyo:  73%|███████▎  | 100/137 [02:53<01:10,  1.89s/it]\n",
      "Processing crepe soyo:  74%|███████▎  | 101/137 [02:55<01:09,  1.92s/it]\n",
      "Processing crepe soyo:  74%|███████▍  | 102/137 [02:57<01:07,  1.94s/it]\n",
      "Processing crepe soyo:  75%|███████▌  | 103/137 [02:59<01:05,  1.93s/it]\n",
      "Processing crepe soyo:  76%|███████▌  | 104/137 [03:01<01:02,  1.90s/it]\n",
      "Processing crepe soyo:  77%|███████▋  | 105/137 [03:02<01:00,  1.88s/it]\n",
      "Processing crepe soyo:  77%|███████▋  | 106/137 [03:04<00:57,  1.87s/it]\n",
      "Processing crepe soyo:  78%|███████▊  | 107/137 [03:06<00:57,  1.91s/it]\n",
      "Processing crepe soyo:  79%|███████▉  | 108/137 [03:08<00:53,  1.86s/it]\n",
      "Processing crepe soyo:  80%|███████▉  | 109/137 [03:10<00:52,  1.86s/it]\n",
      "Processing crepe soyo:  80%|████████  | 110/137 [03:12<00:51,  1.92s/it]\n",
      "Processing crepe soyo:  81%|████████  | 111/137 [03:14<00:49,  1.91s/it]\n",
      "Processing crepe soyo:  82%|████████▏ | 112/137 [03:16<00:47,  1.91s/it]\n",
      "Processing crepe soyo:  82%|████████▏ | 113/137 [03:18<00:45,  1.91s/it]\n",
      "Processing crepe soyo:  83%|████████▎ | 114/137 [03:20<00:44,  1.95s/it]\n",
      "Processing crepe soyo:  84%|████████▍ | 115/137 [03:22<00:42,  1.94s/it]\n",
      "Processing crepe soyo:  85%|████████▍ | 116/137 [03:24<00:41,  1.97s/it]\n",
      "Processing crepe soyo:  85%|████████▌ | 117/137 [03:26<00:39,  1.95s/it]\n",
      "Processing crepe soyo:  86%|████████▌ | 118/137 [03:28<00:37,  1.97s/it]\n",
      "Processing crepe soyo:  87%|████████▋ | 119/137 [03:29<00:35,  1.95s/it]\n",
      "Processing crepe soyo:  88%|████████▊ | 120/137 [03:31<00:32,  1.92s/it]\n",
      "Processing crepe soyo:  88%|████████▊ | 121/137 [03:33<00:30,  1.88s/it]\n",
      "Processing crepe soyo:  89%|████████▉ | 122/137 [03:35<00:28,  1.91s/it]\n",
      "Processing crepe soyo:  90%|████████▉ | 123/137 [03:37<00:27,  1.94s/it]\n",
      "Processing crepe soyo:  91%|█████████ | 124/137 [03:37<00:18,  1.42s/it]\n",
      "Processing crepe soyo:  91%|█████████ | 125/137 [03:39<00:18,  1.58s/it]\n",
      "Processing crepe soyo:  92%|█████████▏| 126/137 [03:41<00:18,  1.67s/it]\n",
      "Processing crepe soyo:  93%|█████████▎| 127/137 [03:43<00:17,  1.76s/it]\n",
      "Processing crepe soyo:  93%|█████████▎| 128/137 [03:45<00:16,  1.80s/it]\n",
      "Processing crepe soyo:  94%|█████████▍| 129/137 [03:46<00:12,  1.58s/it]\n",
      "Processing crepe soyo:  95%|█████████▍| 130/137 [03:49<00:13,  1.90s/it]\n",
      "Processing crepe soyo:  96%|█████████▌| 131/137 [03:50<00:09,  1.66s/it]\n",
      "Processing crepe soyo:  96%|█████████▋| 132/137 [03:52<00:08,  1.73s/it]\n",
      "Processing crepe soyo:  97%|█████████▋| 133/137 [03:52<00:05,  1.26s/it]\n",
      "Processing crepe soyo:  98%|█████████▊| 134/137 [03:54<00:04,  1.39s/it]\n",
      "Processing crepe soyo:  99%|█████████▊| 135/137 [03:54<00:02,  1.19s/it]\n",
      "Processing crepe soyo:  99%|█████████▉| 136/137 [03:56<00:01,  1.39s/it]\n",
      "Processing crepe soyo: 100%|██████████| 137/137 [03:57<00:00,  1.19s/it]\n",
      "Processing crepe soyo: 100%|██████████| 137/137 [03:57<00:00,  1.73s/it]\n"
     ]
    }
   ],
   "source": [
    "!python prepare/preprocess_crepe.py -w data_svc/waves-16k/ -p data_svc/pitch"
   ]
  },
  {
   "cell_type": "code",
   "execution_count": 2,
   "id": "55d3c396-3f1e-42b1-a33a-990e03965c9f",
   "metadata": {
    "tags": []
   },
   "outputs": [
    {
     "name": "stdout",
     "output_type": "stream",
     "text": [
      "data_svc/waves-16k/\n",
      "data_svc/whisper\n",
      "ModelDimensions(n_mels=128, n_audio_ctx=1500, n_audio_state=1280, n_audio_head=20, n_audio_layer=32, n_vocab=51866, n_text_ctx=448, n_text_state=1280, n_text_head=20, n_text_layer=32)\n"
     ]
    },
    {
     "name": "stderr",
     "output_type": "stream",
     "text": [
      "\n",
      "Processing ppg soyo:   0%|          | 0/137 [00:00<?, ?it/s]\n",
      "Processing ppg soyo: 100%|██████████| 137/137 [00:00<00:00, 8093.01it/s]\n"
     ]
    }
   ],
   "source": [
    "!python prepare/preprocess_ppg.py -w data_svc/waves-16k/ -p data_svc/whisper"
   ]
  },
  {
   "cell_type": "code",
   "execution_count": 3,
   "id": "04a23f2a",
   "metadata": {},
   "outputs": [
    {
     "name": "stdout",
     "output_type": "stream",
     "text": [
      "ppg.dim: (1276, 1280)\n",
      "spk.dim: (256,)\n"
     ]
    }
   ],
   "source": [
    "import numpy as np\n",
    "print(\"ppg.dim:\",np.load(\"E:\\Data\\Code\\so-vits-svc-5.0\\data_svc\\whisper\\soyo\\soyo不夹_0.ppg.npy\").shape)\n",
    "print(\"spk.dim:\",np.load(\"E:\\Data\\Code\\so-vits-svc-5.0\\data_svc\\speaker\\soyo\\soyo不夹_0.spk.npy\").shape)"
   ]
  },
  {
   "cell_type": "code",
   "execution_count": 4,
   "id": "1e70e7b3-730b-4ae6-bc33-6c7a250c4fc7",
   "metadata": {
    "scrolled": true,
    "tags": []
   },
   "outputs": [
    {
     "name": "stdout",
     "output_type": "stream",
     "text": [
      "data_svc/waves-16k/\n",
      "data_svc/hubert\n"
     ]
    },
    {
     "name": "stderr",
     "output_type": "stream",
     "text": [
      "e:\\.env\\sovit5\\lib\\site-packages\\torch\\nn\\utils\\weight_norm.py:28: UserWarning: torch.nn.utils.weight_norm is deprecated in favor of torch.nn.utils.parametrizations.weight_norm.\n",
      "  warnings.warn(\"torch.nn.utils.weight_norm is deprecated in favor of torch.nn.utils.parametrizations.weight_norm.\")\n",
      "\n",
      "Processing vec soyo:   0%|          | 0/137 [00:00<?, ?it/s]e:\\.env\\sovit5\\lib\\site-packages\\torch\\nn\\modules\\conv.py:306: UserWarning: Plan failed with a cudnnException: CUDNN_BACKEND_EXECUTION_PLAN_DESCRIPTOR: cudnnFinalize Descriptor Failed cudnn_status: CUDNN_STATUS_NOT_SUPPORTED (Triggered internally at C:\\actions-runner\\_work\\pytorch\\pytorch\\builder\\windows\\pytorch\\aten\\src\\ATen\\native\\cudnn\\Conv_v8.cpp:919.)\n",
      "  return F.conv1d(input, weight, bias, self.stride,\n",
      "e:\\.env\\sovit5\\lib\\site-packages\\torch\\nn\\modules\\transformer.py:720: UserWarning: 1Torch was not compiled with flash attention. (Triggered internally at C:\\actions-runner\\_work\\pytorch\\pytorch\\builder\\windows\\pytorch\\aten\\src\\ATen\\native\\transformers\\cuda\\sdp_utils.cpp:455.)\n",
      "  return torch._transformer_encoder_layer_fwd(\n",
      "\n",
      "Processing vec soyo:   1%|          | 1/137 [00:01<04:14,  1.87s/it]\n",
      "Processing vec soyo:   2%|▏         | 3/137 [00:01<01:10,  1.90it/s]\n",
      "Processing vec soyo:   4%|▎         | 5/137 [00:02<00:37,  3.53it/s]\n",
      "Processing vec soyo:   6%|▌         | 8/137 [00:02<00:20,  6.19it/s]\n",
      "Processing vec soyo:   8%|▊         | 11/137 [00:02<00:14,  8.86it/s]\n",
      "Processing vec soyo:  10%|█         | 14/137 [00:02<00:10, 11.33it/s]\n",
      "Processing vec soyo:  12%|█▏        | 17/137 [00:02<00:08, 13.48it/s]\n",
      "Processing vec soyo:  15%|█▍        | 20/137 [00:02<00:07, 15.35it/s]\n",
      "Processing vec soyo:  17%|█▋        | 23/137 [00:02<00:06, 16.58it/s]\n",
      "Processing vec soyo:  19%|█▉        | 26/137 [00:03<00:06, 17.63it/s]\n",
      "Processing vec soyo:  21%|██        | 29/137 [00:03<00:05, 18.44it/s]\n",
      "Processing vec soyo:  23%|██▎       | 32/137 [00:03<00:05, 19.09it/s]\n",
      "Processing vec soyo:  26%|██▌       | 35/137 [00:03<00:05, 19.14it/s]\n",
      "Processing vec soyo:  28%|██▊       | 38/137 [00:03<00:05, 19.37it/s]\n",
      "Processing vec soyo:  30%|██▉       | 41/137 [00:03<00:04, 19.79it/s]\n",
      "Processing vec soyo:  32%|███▏      | 44/137 [00:03<00:04, 20.10it/s]\n",
      "Processing vec soyo:  34%|███▍      | 47/137 [00:04<00:04, 20.58it/s]\n",
      "Processing vec soyo:  36%|███▋      | 50/137 [00:04<00:04, 20.88it/s]\n",
      "Processing vec soyo:  39%|███▊      | 53/137 [00:04<00:04, 20.89it/s]\n",
      "Processing vec soyo:  41%|████      | 56/137 [00:04<00:03, 20.83it/s]\n",
      "Processing vec soyo:  43%|████▎     | 59/137 [00:04<00:03, 20.86it/s]\n",
      "Processing vec soyo:  45%|████▌     | 62/137 [00:04<00:03, 20.94it/s]\n",
      "Processing vec soyo:  47%|████▋     | 65/137 [00:04<00:03, 21.03it/s]\n",
      "Processing vec soyo:  50%|████▉     | 68/137 [00:05<00:03, 20.93it/s]\n",
      "Processing vec soyo:  52%|█████▏    | 71/137 [00:05<00:03, 21.00it/s]\n",
      "Processing vec soyo:  54%|█████▍    | 74/137 [00:05<00:02, 21.30it/s]\n",
      "Processing vec soyo:  56%|█████▌    | 77/137 [00:05<00:03, 19.53it/s]\n",
      "Processing vec soyo:  58%|█████▊    | 79/137 [00:05<00:03, 18.72it/s]\n",
      "Processing vec soyo:  59%|█████▉    | 81/137 [00:05<00:03, 18.14it/s]\n",
      "Processing vec soyo:  61%|██████    | 83/137 [00:05<00:02, 18.11it/s]\n",
      "Processing vec soyo:  62%|██████▏   | 85/137 [00:06<00:02, 17.45it/s]\n",
      "Processing vec soyo:  64%|██████▎   | 87/137 [00:06<00:02, 17.01it/s]\n",
      "Processing vec soyo:  65%|██████▍   | 89/137 [00:06<00:02, 16.79it/s]\n",
      "Processing vec soyo:  66%|██████▋   | 91/137 [00:06<00:02, 15.82it/s]\n",
      "Processing vec soyo:  68%|██████▊   | 93/137 [00:06<00:02, 16.08it/s]\n",
      "Processing vec soyo:  69%|██████▉   | 95/137 [00:06<00:02, 16.32it/s]\n",
      "Processing vec soyo:  71%|███████   | 97/137 [00:06<00:02, 16.46it/s]\n",
      "Processing vec soyo:  72%|███████▏  | 99/137 [00:06<00:02, 16.80it/s]\n",
      "Processing vec soyo:  74%|███████▎  | 101/137 [00:07<00:02, 16.79it/s]\n",
      "Processing vec soyo:  75%|███████▌  | 103/137 [00:07<00:01, 17.03it/s]\n",
      "Processing vec soyo:  77%|███████▋  | 105/137 [00:07<00:01, 17.11it/s]\n",
      "Processing vec soyo:  78%|███████▊  | 107/137 [00:07<00:01, 16.85it/s]\n",
      "Processing vec soyo:  80%|███████▉  | 109/137 [00:07<00:01, 16.45it/s]\n",
      "Processing vec soyo:  81%|████████  | 111/137 [00:07<00:01, 16.49it/s]\n",
      "Processing vec soyo:  82%|████████▏ | 113/137 [00:07<00:01, 16.41it/s]\n",
      "Processing vec soyo:  84%|████████▍ | 115/137 [00:07<00:01, 16.15it/s]\n",
      "Processing vec soyo:  85%|████████▌ | 117/137 [00:08<00:01, 16.56it/s]\n",
      "Processing vec soyo:  87%|████████▋ | 119/137 [00:08<00:01, 16.54it/s]\n",
      "Processing vec soyo:  88%|████████▊ | 121/137 [00:08<00:00, 16.61it/s]\n",
      "Processing vec soyo:  90%|████████▉ | 123/137 [00:08<00:00, 16.65it/s]\n",
      "Processing vec soyo:  92%|█████████▏| 126/137 [00:08<00:00, 18.06it/s]\n",
      "Processing vec soyo:  93%|█████████▎| 128/137 [00:08<00:00, 17.29it/s]\n",
      "Processing vec soyo:  95%|█████████▍| 130/137 [00:08<00:00, 16.18it/s]\n",
      "Processing vec soyo:  97%|█████████▋| 133/137 [00:08<00:00, 18.50it/s]\n",
      "Processing vec soyo:  99%|█████████▉| 136/137 [00:09<00:00, 20.35it/s]\n",
      "Processing vec soyo: 100%|██████████| 137/137 [00:09<00:00, 15.10it/s]\n"
     ]
    }
   ],
   "source": [
    "!python prepare/preprocess_hubert.py -w data_svc/waves-16k/ -v data_svc/hubert"
   ]
  },
  {
   "cell_type": "code",
   "execution_count": 5,
   "id": "f09470bb-de30-44c4-ab04-62abd15215ea",
   "metadata": {
    "tags": []
   },
   "outputs": [
    {
     "name": "stdout",
     "output_type": "stream",
     "text": [
      " > Setting up Audio Processor...\n",
      " | > sample_rate:16000\n",
      " | > resample:False\n",
      " | > num_mels:80\n",
      " | > log_func:np.log10\n",
      " | > min_level_db:-100\n",
      " | > frame_shift_ms:None\n",
      " | > frame_length_ms:None\n",
      " | > ref_level_db:20\n",
      " | > fft_size:1024\n",
      " | > power:1.5\n",
      " | > preemphasis:0.98\n",
      " | > griffin_lim_iters:60\n",
      " | > signal_norm:True\n",
      " | > symmetric_norm:True\n",
      " | > mel_fmin:0\n",
      " | > mel_fmax:8000.0\n",
      " | > spec_gain:20.0\n",
      " | > stft_pad_mode:reflect\n",
      " | > max_norm:4.0\n",
      " | > clip_norm:True\n",
      " | > do_trim_silence:True\n",
      " | > trim_db:60\n",
      " | > do_sound_norm:False\n",
      " | > do_amp_to_db_linear:True\n",
      " | > do_amp_to_db_mel:True\n",
      " | > stats_path:None\n",
      " | > base:10\n",
      " | > hop_length:256\n",
      " | > win_length:1024\n"
     ]
    },
    {
     "name": "stderr",
     "output_type": "stream",
     "text": [
      "\n",
      "  0%|          | 0/137 [00:00<?, ?it/s]\n",
      "  1%|          | 1/137 [00:06<15:24,  6.80s/it]\n",
      "  2%|▏         | 3/137 [00:06<04:01,  1.81s/it]\n",
      "  4%|▎         | 5/137 [00:07<01:59,  1.10it/s]\n",
      "  5%|▌         | 7/137 [00:07<01:11,  1.81it/s]\n",
      "  7%|▋         | 9/137 [00:07<00:46,  2.75it/s]\n",
      "  8%|▊         | 11/137 [00:07<00:32,  3.90it/s]\n",
      "  9%|▉         | 13/137 [00:07<00:23,  5.32it/s]\n",
      " 11%|█         | 15/137 [00:07<00:17,  6.91it/s]\n",
      " 13%|█▎        | 18/137 [00:07<00:12,  9.42it/s]\n",
      " 15%|█▌        | 21/137 [00:07<00:09, 11.98it/s]\n",
      " 17%|█▋        | 23/137 [00:07<00:08, 13.13it/s]\n",
      " 19%|█▉        | 26/137 [00:08<00:07, 15.11it/s]\n",
      " 20%|██        | 28/137 [00:08<00:06, 15.95it/s]\n",
      " 22%|██▏       | 30/137 [00:08<00:06, 16.84it/s]\n",
      " 24%|██▍       | 33/137 [00:08<00:05, 17.96it/s]\n",
      " 26%|██▌       | 35/137 [00:08<00:05, 18.42it/s]\n",
      " 27%|██▋       | 37/137 [00:08<00:05, 18.43it/s]\n",
      " 28%|██▊       | 39/137 [00:08<00:05, 18.26it/s]\n",
      " 31%|███       | 42/137 [00:08<00:04, 19.28it/s]\n",
      " 33%|███▎      | 45/137 [00:09<00:04, 20.15it/s]\n",
      " 35%|███▌      | 48/137 [00:09<00:04, 19.56it/s]\n",
      " 36%|███▋      | 50/137 [00:09<00:04, 19.46it/s]\n",
      " 38%|███▊      | 52/137 [00:09<00:04, 19.51it/s]\n",
      " 40%|████      | 55/137 [00:09<00:04, 19.99it/s]\n",
      " 42%|████▏     | 58/137 [00:09<00:03, 19.92it/s]\n",
      " 45%|████▍     | 61/137 [00:09<00:03, 20.25it/s]\n",
      " 47%|████▋     | 64/137 [00:10<00:03, 20.25it/s]\n",
      " 49%|████▉     | 67/137 [00:10<00:03, 20.10it/s]\n",
      " 51%|█████     | 70/137 [00:10<00:03, 20.05it/s]\n",
      " 53%|█████▎    | 73/137 [00:10<00:03, 20.37it/s]\n",
      " 55%|█████▌    | 76/137 [00:10<00:03, 19.84it/s]\n",
      " 57%|█████▋    | 78/137 [00:10<00:03, 18.57it/s]\n",
      " 58%|█████▊    | 80/137 [00:10<00:03, 17.94it/s]\n",
      " 60%|█████▉    | 82/137 [00:11<00:03, 17.14it/s]\n",
      " 61%|██████▏   | 84/137 [00:11<00:03, 17.09it/s]\n",
      " 63%|██████▎   | 86/137 [00:11<00:03, 16.65it/s]\n",
      " 64%|██████▍   | 88/137 [00:11<00:02, 16.99it/s]\n",
      " 66%|██████▌   | 90/137 [00:11<00:02, 17.24it/s]\n",
      " 67%|██████▋   | 92/137 [00:11<00:02, 17.08it/s]\n",
      " 69%|██████▊   | 94/137 [00:11<00:02, 16.39it/s]\n",
      " 70%|███████   | 96/137 [00:11<00:02, 17.11it/s]\n",
      " 72%|███████▏  | 98/137 [00:11<00:02, 17.30it/s]\n",
      " 73%|███████▎  | 100/137 [00:12<00:02, 17.26it/s]\n",
      " 74%|███████▍  | 102/137 [00:12<00:02, 16.89it/s]\n",
      " 76%|███████▌  | 104/137 [00:12<00:01, 17.21it/s]\n",
      " 77%|███████▋  | 106/137 [00:12<00:01, 16.37it/s]\n",
      " 79%|███████▉  | 108/137 [00:12<00:01, 16.46it/s]\n",
      " 80%|████████  | 110/137 [00:12<00:01, 16.27it/s]\n",
      " 82%|████████▏ | 112/137 [00:12<00:01, 16.95it/s]\n",
      " 83%|████████▎ | 114/137 [00:12<00:01, 17.05it/s]\n",
      " 85%|████████▍ | 116/137 [00:13<00:01, 17.55it/s]\n",
      " 86%|████████▌ | 118/137 [00:13<00:01, 16.96it/s]\n",
      " 88%|████████▊ | 120/137 [00:13<00:00, 17.29it/s]\n",
      " 89%|████████▉ | 122/137 [00:13<00:00, 16.75it/s]\n",
      " 91%|█████████ | 125/137 [00:13<00:00, 18.18it/s]\n",
      " 93%|█████████▎| 127/137 [00:13<00:00, 17.66it/s]\n",
      " 95%|█████████▍| 130/137 [00:13<00:00, 17.23it/s]\n",
      " 97%|█████████▋| 133/137 [00:13<00:00, 19.79it/s]\n",
      " 99%|█████████▉| 136/137 [00:14<00:00, 20.43it/s]\n",
      "100%|██████████| 137/137 [00:14<00:00,  9.69it/s]\n"
     ]
    }
   ],
   "source": [
    "!python prepare/preprocess_speaker.py data_svc/waves-16k/ data_svc/speaker"
   ]
  },
  {
   "cell_type": "code",
   "execution_count": 6,
   "id": "6db4dea3-013a-4d1e-8428-ddc7e7ac73a0",
   "metadata": {
    "tags": []
   },
   "outputs": [
    {
     "name": "stderr",
     "output_type": "stream",
     "text": [
      "\n",
      "average soyo:   0%|          | 0/137 [00:00<?, ?it/s]\n",
      "average soyo: 100%|██████████| 137/137 [00:00<00:00, 7535.60it/s]\n"
     ]
    }
   ],
   "source": [
    "!python prepare/preprocess_speaker_ave.py data_svc/speaker/ data_svc/singer"
   ]
  },
  {
   "cell_type": "code",
   "execution_count": 7,
   "id": "a3977c3b-dc2c-4862-8a3c-ca4d5900789d",
   "metadata": {
    "tags": []
   },
   "outputs": [
    {
     "name": "stdout",
     "output_type": "stream",
     "text": [
      "data_svc/waves-32k/\n",
      "data_svc/specs\n"
     ]
    },
    {
     "name": "stderr",
     "output_type": "stream",
     "text": [
      "\n",
      "Processing spec soyo:   0%|          | 0/137 [00:00<?, ?it/s]e:\\.env\\sovit5\\lib\\site-packages\\torch\\functional.py:665: UserWarning: stft with return_complex=False is deprecated. In a future pytorch release, stft will return complex tensors for all inputs, and return_complex=False will raise an error.\n",
      "Note: you can still call torch.view_as_real on the complex output to recover the old return format. (Triggered internally at C:\\actions-runner\\_work\\pytorch\\pytorch\\builder\\windows\\pytorch\\aten\\src\\ATen\\native\\SpectralOps.cpp:878.)\n",
      "  return _VF.stft(input, n_fft, hop_length, win_length, window,  # type: ignore[attr-defined]\n",
      "\n",
      "Processing spec soyo:   1%|          | 1/137 [00:00<00:20,  6.60it/s]\n",
      "Processing spec soyo:   5%|▌         | 7/137 [00:00<00:04, 30.75it/s]\n",
      "Processing spec soyo:   9%|▉         | 13/137 [00:00<00:02, 41.39it/s]\n",
      "Processing spec soyo:  14%|█▍        | 19/137 [00:00<00:02, 47.72it/s]\n",
      "Processing spec soyo:  18%|█▊        | 25/137 [00:00<00:02, 50.32it/s]\n",
      "Processing spec soyo:  23%|██▎       | 31/137 [00:00<00:02, 52.80it/s]\n",
      "Processing spec soyo:  27%|██▋       | 37/137 [00:00<00:01, 54.28it/s]\n",
      "Processing spec soyo:  31%|███▏      | 43/137 [00:00<00:01, 54.35it/s]\n",
      "Processing spec soyo:  36%|███▌      | 49/137 [00:01<00:01, 54.85it/s]\n",
      "Processing spec soyo:  40%|████      | 55/137 [00:01<00:01, 55.34it/s]\n",
      "Processing spec soyo:  45%|████▍     | 61/137 [00:01<00:01, 56.24it/s]\n",
      "Processing spec soyo:  49%|████▉     | 67/137 [00:01<00:01, 56.44it/s]\n",
      "Processing spec soyo:  54%|█████▍    | 74/137 [00:01<00:01, 58.13it/s]\n",
      "Processing spec soyo:  58%|█████▊    | 80/137 [00:01<00:01, 56.14it/s]\n",
      "Processing spec soyo:  63%|██████▎   | 86/137 [00:01<00:00, 54.90it/s]\n",
      "Processing spec soyo:  67%|██████▋   | 92/137 [00:01<00:00, 53.08it/s]\n",
      "Processing spec soyo:  72%|███████▏  | 98/137 [00:01<00:00, 52.57it/s]\n",
      "Processing spec soyo:  76%|███████▌  | 104/137 [00:02<00:00, 52.49it/s]\n",
      "Processing spec soyo:  80%|████████  | 110/137 [00:02<00:00, 51.91it/s]\n",
      "Processing spec soyo:  85%|████████▍ | 116/137 [00:02<00:00, 51.31it/s]\n",
      "Processing spec soyo:  89%|████████▉ | 122/137 [00:02<00:00, 51.36it/s]\n",
      "Processing spec soyo:  93%|█████████▎| 128/137 [00:02<00:00, 53.04it/s]\n",
      "Processing spec soyo:  98%|█████████▊| 134/137 [00:02<00:00, 53.64it/s]\n",
      "Processing spec soyo: 100%|██████████| 137/137 [00:02<00:00, 52.13it/s]\n"
     ]
    }
   ],
   "source": [
    "!python prepare/preprocess_spec.py -w data_svc/waves-32k/ -s data_svc/specs"
   ]
  },
  {
   "cell_type": "code",
   "execution_count": 8,
   "id": "5d473682-e8dd-4905-8a42-6b61b86e6927",
   "metadata": {
    "tags": []
   },
   "outputs": [
    {
     "name": "stdout",
     "output_type": "stream",
     "text": [
      "././data_svc/waves-32k//soyo\n"
     ]
    }
   ],
   "source": [
    "!python prepare/preprocess_train.py"
   ]
  },
  {
   "cell_type": "code",
   "execution_count": 9,
   "id": "959e4a1f",
   "metadata": {},
   "outputs": [
    {
     "name": "stdout",
     "output_type": "stream",
     "text": [
      "----------10----------\n"
     ]
    },
    {
     "name": "stderr",
     "output_type": "stream",
     "text": [
      "\n",
      "  0%|          | 0/10 [00:00<?, ?it/s]\n",
      " 50%|█████     | 5/10 [00:00<00:00, 43.66it/s]\n",
      "100%|██████████| 10/10 [00:00<00:00, 42.89it/s]\n",
      "100%|██████████| 10/10 [00:00<00:00, 43.01it/s]\n",
      "\n",
      "  0%|          | 0/3 [00:00<?, ?it/s]\n",
      " 33%|███▎      | 1/3 [00:00<00:00,  4.10it/s]\n",
      "100%|██████████| 3/3 [00:00<00:00,  9.63it/s]\n",
      "100%|██████████| 3/3 [00:00<00:00,  8.49it/s]\n"
     ]
    }
   ],
   "source": [
    "!python prepare/preprocess_zzz.py"
   ]
  },
  {
   "cell_type": "code",
   "execution_count": null,
   "id": "aad019ac-f1e9-4d47-8262-425833a28410",
   "metadata": {
    "collapsed": true,
    "jupyter": {
     "outputs_hidden": true
    },
    "scrolled": true,
    "tags": []
   },
   "outputs": [],
   "source": [
    "!python svc_trainer.py -c configs/base.yaml -n soyo"
   ]
  },
  {
   "cell_type": "code",
   "execution_count": 1,
   "id": "96319503-1e62-47fc-a305-9c0e0b695ab6",
   "metadata": {
    "collapsed": true,
    "jupyter": {
     "outputs_hidden": true
    },
    "tags": []
   },
   "outputs": [],
   "source": [
    "!python svc_trainer.py -c configs/base.yaml -n soyo -p chkpt/soyo/soyo_1165.pt"
   ]
  },
  {
   "cell_type": "code",
   "execution_count": null,
   "id": "40f9740d-b314-43ff-93d4-2748f5333cb8",
   "metadata": {
    "collapsed": true,
    "jupyter": {
     "outputs_hidden": true
    },
    "tags": []
   },
   "outputs": [],
   "source": [
    "!python svc_trainer.py -c configs/base.yaml -n sovits5_no_aug_2 -p chkpt/sovits5_no_aug/sovits5_no_aug_6800.pt"
   ]
  },
  {
   "cell_type": "code",
   "execution_count": null,
   "id": "4d43f96e-7bd7-4792-b718-a7b25e7e14f6",
   "metadata": {
    "tags": []
   },
   "outputs": [],
   "source": [
    "!python svc_train_retrieval.py --speakers soyo"
   ]
  },
  {
   "cell_type": "code",
   "execution_count": null,
   "id": "6581e654",
   "metadata": {},
   "outputs": [],
   "source": [
    "!tar -czvf archive.tar.gz data_scv data_svc_no_aug chkpt"
   ]
  },
  {
   "cell_type": "markdown",
   "id": "bd0e4e3b-c605-4604-938e-de0c02c9e00f",
   "metadata": {},
   "source": [
    "# 提取，融合"
   ]
  },
  {
   "cell_type": "code",
   "execution_count": null,
   "id": "714501bb",
   "metadata": {},
   "outputs": [],
   "source": [
    "!python svc_merge.py --model1 chkpt\\soyo\\soyo_0425.pt --model2 chkpt\\soyo\\soyo_0385.pt --rate 0.5"
   ]
  },
  {
   "cell_type": "code",
   "execution_count": 13,
   "id": "97b03a91",
   "metadata": {},
   "outputs": [],
   "source": [
    "from svc_merge import load_model,average_model,save_model\n",
    "# s1 = load_model('chkpt\\soyo\\soyo_0425.pt')\n",
    "s2 = load_model('chkpt\\soyo\\soyo_1165.pt')\n",
    "s3 = load_model('chkpt\\soyo\\soyo_1170.pt')\n",
    "s4 = load_model('chkpt\\soyo\\soyo_1400.pt')\n",
    "s5 = load_model('vits_pretrain\\sovits5.0.pretrain.pth')\n",
    "\n",
    "# s3 = load_model('chkpt\\sovits5.0\\sovits5.0_0655.pt')\n",
    "\n",
    "avg_model = average_model([s2,s3,s4,s5],[0.02,0.02,0.02,0.94])\n",
    "save_model(avg_model, \"soyo_avg.pth\")"
   ]
  },
  {
   "cell_type": "code",
   "execution_count": null,
   "id": "9ac68cb5",
   "metadata": {},
   "outputs": [],
   "source": [
    "!python svc_train_retrieval.py"
   ]
  },
  {
   "cell_type": "code",
   "execution_count": null,
   "id": "5cab3617",
   "metadata": {},
   "outputs": [],
   "source": [
    "!python svc_export.py --config configs/base.yaml --checkpoint_path chkpt\\soyo\\soyo_1125.pt"
   ]
  },
  {
   "cell_type": "code",
   "execution_count": null,
   "id": "aed58ce6-c7cd-48f4-8e74-8cbbe053ca2a",
   "metadata": {
    "tags": []
   },
   "outputs": [],
   "source": [
    "!python svc_export.py --config configs/base.yaml --checkpoint_path sovits5_no_aug_kikyo_8200.pt"
   ]
  },
  {
   "cell_type": "code",
   "execution_count": null,
   "id": "128d8842-d226-4cce-9b5f-fba661023762",
   "metadata": {
    "tags": []
   },
   "outputs": [],
   "source": [
    "!python svc_export.py --config configs/base.yaml --checkpoint_path sovits5_kikyo_10000.pt"
   ]
  },
  {
   "cell_type": "code",
   "execution_count": null,
   "id": "1de417e2-f734-45b5-b181-6fc0abfb80ff",
   "metadata": {
    "tags": []
   },
   "outputs": [],
   "source": [
    "!python svc_merge.py --model1 sovits5_kikyo_10000.pt --model2 sovits5_no_aug_kikyo_8200.pt --rate 0.5"
   ]
  },
  {
   "cell_type": "code",
   "execution_count": null,
   "id": "27263a19-9e5a-4b49-b430-3e8d93aa130b",
   "metadata": {
    "tags": []
   },
   "outputs": [],
   "source": [
    "!python svc_eva.py"
   ]
  },
  {
   "cell_type": "markdown",
   "id": "c90079c6-1de3-49de-a4ca-36c9a2b888c7",
   "metadata": {},
   "source": [
    "# 推理"
   ]
  },
  {
   "cell_type": "code",
   "execution_count": null,
   "id": "9c23d2b1",
   "metadata": {},
   "outputs": [],
   "source": [
    "!python svc_inference.py --config configs/base.yaml --model soyo_avg.pth --spk ./data_svc/singer/soyo.spk.npy --wave カタオモイ.wav --shift 2\n",
    "#--enable-retrieval --retrieval-ratio 0.5 --n-retrieval-vectors 3"
   ]
  },
  {
   "cell_type": "code",
   "execution_count": null,
   "id": "c9904db9",
   "metadata": {},
   "outputs": [],
   "source": [
    "!ffmpeg -i raw/Beautiful_Soldier1.wav -ac 1 Beautiful_Soldier.wav -y"
   ]
  },
  {
   "cell_type": "code",
   "execution_count": 1,
   "id": "66e0438a-2ac2-4a32-99a1-659c21d34d09",
   "metadata": {
    "tags": []
   },
   "outputs": [],
   "source": [
    "!python svc_inference.py --config configs/base.yaml --model sovits5_no_aug_kikyo_8200.pth --spk kikyo.spk.npy --wave Beautiful_Soldier.wav --shift 1 #--enable-retrieval --retrieval-ratio 0.5 --n-retrieval-vectors 3"
   ]
  },
  {
   "cell_type": "code",
   "execution_count": null,
   "id": "6fd8b7a4-bd1d-47db-9934-ac0b529f825f",
   "metadata": {
    "tags": []
   },
   "outputs": [],
   "source": [
    "!python svc_inference_post.py --ref 1_1_化石.wav --svc svc_out.wav --out svc_out_post.wav"
   ]
  },
  {
   "cell_type": "code",
   "execution_count": null,
   "id": "84562e8c-4496-4fde-9144-b81377efa53e",
   "metadata": {
    "tags": []
   },
   "outputs": [],
   "source": [
    "!python whisper/inference.py -w Beautiful_Soldier.wav -p Beautiful_Soldier.ppg.npy"
   ]
  },
  {
   "cell_type": "code",
   "execution_count": null,
   "id": "72793333-a3ca-43d5-bbac-b3c88d28ac5b",
   "metadata": {
    "tags": []
   },
   "outputs": [],
   "source": [
    "!python hubert/inference.py -w Beautiful_Soldier.wav -v Beautiful_Soldier.vec.npy"
   ]
  },
  {
   "cell_type": "code",
   "execution_count": null,
   "id": "97b9d268-870b-46dc-b56d-b997ced8d5c9",
   "metadata": {
    "tags": []
   },
   "outputs": [],
   "source": [
    "!python pitch/inference.py -w Beautiful_Soldier.wav -p Beautiful_Soldier.csv"
   ]
  },
  {
   "cell_type": "code",
   "execution_count": null,
   "id": "daea8539-5640-4b1a-b2f6-826cac32cf15",
   "metadata": {
    "tags": []
   },
   "outputs": [],
   "source": [
    "!python svc_inference.py --config configs/base.yaml --model sovits5_no_aug_kikyo.pth --spk kikyo.spk.npy --wave Rainy_proof.wav --ppg Rainy_proof.ppg.npy --vec Rainy_proof.vec.npy --pit Rainy_proof.csv --shift 0 \n",
    "# --enable-retrieval --retrieval-ratio 0.5 --n-retrieval-vectors 3"
   ]
  },
  {
   "cell_type": "code",
   "execution_count": null,
   "id": "a5dd91c0-df2f-485a-9598-2b421235dc34",
   "metadata": {
    "tags": []
   },
   "outputs": [],
   "source": [
    "!python svc_inference_post.py --ref Rainy_proof.wav --svc svc_out.wav --out svc_out_post.wav"
   ]
  }
 ],
 "metadata": {
  "kernelspec": {
   "display_name": "Python 3 (ipykernel)",
   "language": "python",
   "name": "python3"
  },
  "language_info": {
   "codemirror_mode": {
    "name": "ipython",
    "version": 3
   },
   "file_extension": ".py",
   "mimetype": "text/x-python",
   "name": "python",
   "nbconvert_exporter": "python",
   "pygments_lexer": "ipython3",
   "version": "3.9.6"
  }
 },
 "nbformat": 4,
 "nbformat_minor": 5
}
