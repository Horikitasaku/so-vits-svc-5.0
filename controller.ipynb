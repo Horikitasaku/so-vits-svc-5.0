{
 "cells": [
  {
   "cell_type": "markdown",
   "id": "5d96ae37",
   "metadata": {},
   "source": [
    "# Preprocessing"
   ]
  },
  {
   "cell_type": "code",
   "execution_count": 1,
   "id": "35aef9ba",
   "metadata": {
    "collapsed": true,
    "jupyter": {
     "outputs_hidden": true
    },
    "tags": []
   },
   "outputs": [
    {
     "name": "stdout",
     "output_type": "stream",
     "text": [
      "./wakamo_train\n",
      "./wakamo_train/wakamo_prepared\n"
     ]
    },
    {
     "name": "stderr",
     "output_type": "stream",
     "text": [
      "\n",
      "Converting to WAV: 0it [00:00, ?it/s]\n",
      "Converting to WAV: 0it [00:00, ?it/s]\n"
     ]
    }
   ],
   "source": [
    "!python prepare/Format_conversion.py -i ./wakamo_train -o ./wakamo_train/wakamo_prepared -t 10"
   ]
  },
  {
   "cell_type": "code",
   "execution_count": 1,
   "id": "893a5816",
   "metadata": {},
   "outputs": [
    {
     "name": "stdout",
     "output_type": "stream",
     "text": [
      "./soyo_train\n",
      "./data_svc/waves-16k\n",
      "16000\n"
     ]
    },
    {
     "name": "stderr",
     "output_type": "stream",
     "text": [
      "\n",
      "Processing 16000 soyo:   0%|          | 0/137 [00:00<?, ?it/s]\n",
      "Processing 16000 soyo:   1%|          | 1/137 [00:02<05:23,  2.38s/it]\n",
      "Processing 16000 soyo:   4%|▍         | 6/137 [00:02<00:40,  3.21it/s]\n",
      "Processing 16000 soyo:   8%|▊         | 11/137 [00:02<00:18,  6.65it/s]\n",
      "Processing 16000 soyo:  12%|█▏        | 16/137 [00:02<00:11, 10.71it/s]\n",
      "Processing 16000 soyo:  15%|█▌        | 21/137 [00:02<00:07, 15.21it/s]\n",
      "Processing 16000 soyo:  19%|█▉        | 26/137 [00:02<00:05, 19.91it/s]\n",
      "Processing 16000 soyo:  23%|██▎       | 31/137 [00:03<00:04, 24.54it/s]\n",
      "Processing 16000 soyo:  26%|██▋       | 36/137 [00:03<00:03, 28.84it/s]\n",
      "Processing 16000 soyo:  30%|██▉       | 41/137 [00:03<00:02, 32.68it/s]\n",
      "Processing 16000 soyo:  34%|███▎      | 46/137 [00:03<00:02, 35.73it/s]\n",
      "Processing 16000 soyo:  37%|███▋      | 51/137 [00:03<00:02, 38.34it/s]\n",
      "Processing 16000 soyo:  41%|████      | 56/137 [00:03<00:02, 39.93it/s]\n",
      "Processing 16000 soyo:  45%|████▍     | 61/137 [00:03<00:01, 40.94it/s]\n",
      "Processing 16000 soyo:  48%|████▊     | 66/137 [00:03<00:01, 41.30it/s]\n",
      "Processing 16000 soyo:  52%|█████▏    | 71/137 [00:03<00:01, 42.71it/s]\n",
      "Processing 16000 soyo:  55%|█████▌    | 76/137 [00:04<00:01, 43.31it/s]\n",
      "Processing 16000 soyo:  59%|█████▉    | 81/137 [00:04<00:01, 41.68it/s]\n",
      "Processing 16000 soyo:  63%|██████▎   | 86/137 [00:04<00:01, 38.80it/s]\n",
      "Processing 16000 soyo:  66%|██████▌   | 90/137 [00:04<00:01, 35.53it/s]\n",
      "Processing 16000 soyo:  69%|██████▊   | 94/137 [00:04<00:01, 33.67it/s]\n",
      "Processing 16000 soyo:  72%|███████▏  | 98/137 [00:04<00:01, 32.49it/s]\n",
      "Processing 16000 soyo:  74%|███████▍  | 102/137 [00:04<00:01, 31.89it/s]\n",
      "Processing 16000 soyo:  77%|███████▋  | 106/137 [00:04<00:00, 31.45it/s]\n",
      "Processing 16000 soyo:  80%|████████  | 110/137 [00:05<00:00, 30.75it/s]\n",
      "Processing 16000 soyo:  83%|████████▎ | 114/137 [00:05<00:00, 30.20it/s]\n",
      "Processing 16000 soyo:  86%|████████▌ | 118/137 [00:05<00:00, 30.38it/s]\n",
      "Processing 16000 soyo:  89%|████████▉ | 122/137 [00:05<00:00, 29.92it/s]\n",
      "Processing 16000 soyo:  92%|█████████▏| 126/137 [00:05<00:00, 30.21it/s]\n",
      "Processing 16000 soyo:  95%|█████████▍| 130/137 [00:05<00:00, 29.56it/s]\n",
      "Processing 16000 soyo:  98%|█████████▊| 134/137 [00:05<00:00, 31.76it/s]\n",
      "Processing 16000 soyo: 100%|██████████| 137/137 [00:05<00:00, 22.90it/s]\n"
     ]
    }
   ],
   "source": [
    "!python prepare/preprocess_a.py -w ./soyo_train -o ./data_svc/waves-16k -s 16000"
   ]
  },
  {
   "cell_type": "code",
   "execution_count": 2,
   "id": "cb3b68c0",
   "metadata": {},
   "outputs": [
    {
     "name": "stdout",
     "output_type": "stream",
     "text": [
      "./soyo_train\n",
      "./data_svc/waves-32k\n",
      "32000\n"
     ]
    },
    {
     "name": "stderr",
     "output_type": "stream",
     "text": [
      "\n",
      "Processing 32000 soyo:   0%|          | 0/137 [00:00<?, ?it/s]\n",
      "Processing 32000 soyo:   1%|          | 1/137 [00:01<04:28,  1.98s/it]\n",
      "Processing 32000 soyo:   4%|▎         | 5/137 [00:02<00:42,  3.14it/s]\n",
      "Processing 32000 soyo:   7%|▋         | 9/137 [00:02<00:20,  6.23it/s]\n",
      "Processing 32000 soyo:   9%|▉         | 13/137 [00:02<00:12,  9.68it/s]\n",
      "Processing 32000 soyo:  12%|█▏        | 17/137 [00:02<00:08, 13.36it/s]\n",
      "Processing 32000 soyo:  15%|█▌        | 21/137 [00:02<00:06, 17.08it/s]\n",
      "Processing 32000 soyo:  18%|█▊        | 25/137 [00:02<00:05, 20.69it/s]\n",
      "Processing 32000 soyo:  21%|██        | 29/137 [00:02<00:04, 24.13it/s]\n",
      "Processing 32000 soyo:  24%|██▍       | 33/137 [00:02<00:03, 26.60it/s]\n",
      "Processing 32000 soyo:  27%|██▋       | 37/137 [00:03<00:03, 29.18it/s]\n",
      "Processing 32000 soyo:  30%|██▉       | 41/137 [00:03<00:03, 31.24it/s]\n",
      "Processing 32000 soyo:  33%|███▎      | 45/137 [00:03<00:02, 31.48it/s]\n",
      "Processing 32000 soyo:  36%|███▌      | 49/137 [00:03<00:02, 31.51it/s]\n",
      "Processing 32000 soyo:  39%|███▊      | 53/137 [00:03<00:02, 32.60it/s]\n",
      "Processing 32000 soyo:  42%|████▏     | 57/137 [00:03<00:02, 33.17it/s]\n",
      "Processing 32000 soyo:  45%|████▍     | 61/137 [00:03<00:02, 33.96it/s]\n",
      "Processing 32000 soyo:  47%|████▋     | 65/137 [00:03<00:02, 33.44it/s]\n",
      "Processing 32000 soyo:  50%|█████     | 69/137 [00:03<00:02, 33.25it/s]\n",
      "Processing 32000 soyo:  53%|█████▎    | 73/137 [00:04<00:01, 33.99it/s]\n",
      "Processing 32000 soyo:  56%|█████▌    | 77/137 [00:04<00:01, 32.97it/s]\n",
      "Processing 32000 soyo:  59%|█████▉    | 81/137 [00:04<00:01, 31.97it/s]\n",
      "Processing 32000 soyo:  62%|██████▏   | 85/137 [00:04<00:01, 30.08it/s]\n",
      "Processing 32000 soyo:  65%|██████▍   | 89/137 [00:04<00:01, 29.06it/s]\n",
      "Processing 32000 soyo:  67%|██████▋   | 92/137 [00:04<00:01, 28.95it/s]\n",
      "Processing 32000 soyo:  69%|██████▉   | 95/137 [00:04<00:01, 28.86it/s]\n",
      "Processing 32000 soyo:  72%|███████▏  | 98/137 [00:04<00:01, 29.08it/s]\n",
      "Processing 32000 soyo:  74%|███████▎  | 101/137 [00:05<00:01, 28.69it/s]\n",
      "Processing 32000 soyo:  76%|███████▌  | 104/137 [00:05<00:01, 27.37it/s]\n",
      "Processing 32000 soyo:  78%|███████▊  | 107/137 [00:05<00:01, 27.74it/s]\n",
      "Processing 32000 soyo:  80%|████████  | 110/137 [00:05<00:00, 28.35it/s]\n",
      "Processing 32000 soyo:  83%|████████▎ | 114/137 [00:05<00:00, 28.59it/s]\n",
      "Processing 32000 soyo:  85%|████████▌ | 117/137 [00:05<00:00, 28.90it/s]\n",
      "Processing 32000 soyo:  88%|████████▊ | 120/137 [00:05<00:00, 29.02it/s]\n",
      "Processing 32000 soyo:  91%|█████████ | 124/137 [00:05<00:00, 31.57it/s]\n",
      "Processing 32000 soyo:  93%|█████████▎| 128/137 [00:05<00:00, 29.69it/s]\n",
      "Processing 32000 soyo:  96%|█████████▋| 132/137 [00:06<00:00, 30.47it/s]\n",
      "Processing 32000 soyo: 100%|██████████| 137/137 [00:06<00:00, 22.10it/s]\n"
     ]
    }
   ],
   "source": [
    "!python prepare/preprocess_a.py -w ./soyo_train -o ./data_svc/waves-32k -s 32000"
   ]
  },
  {
   "cell_type": "markdown",
   "id": "d70d5139",
   "metadata": {},
   "source": [
    "#### aug"
   ]
  },
  {
   "cell_type": "code",
   "execution_count": null,
   "id": "f91a5cec-8984-4d9a-bc59-a34c7e2d1489",
   "metadata": {
    "jupyter": {
     "source_hidden": true
    },
    "tags": []
   },
   "outputs": [],
   "source": [
    "# !python prepare/data_augmentation.py -w ./wakamo_train -o ./data_svc/waves-16k -s 16000 -t 0 --overall_prob 1 --gaussian_noise_prob 0.4 --time_stretch_prob 0.4 --pitch_shift_prob 0.4 --frequency_mask_prob 0.4 --time_mask_prob 0.4"
   ]
  },
  {
   "cell_type": "code",
   "execution_count": null,
   "id": "8454ea2f-f15d-4628-80b1-33dc32509d7b",
   "metadata": {},
   "outputs": [],
   "source": [
    "# !python prepare/data_augmentation.py -w ./kikyo_wav -o ./data_svc/waves-16k -s 16000 -t 0 --overall_prob 1 --gaussian_noise_prob 0.4 --time_stretch_prob 0.4 --pitch_shift_prob 0.4 --frequency_mask_prob 0.4 --time_mask_prob 0.4"
   ]
  },
  {
   "cell_type": "code",
   "execution_count": null,
   "id": "4512a0f7",
   "metadata": {},
   "outputs": [],
   "source": [
    "# !python prepare/data_augmentation.py -w ./kikyo_wav -o ./data_svc/waves-16k -s 16000 -t 0 --overall_prob 0 --gaussian_noise_prob 0 --time_stretch_prob 0 --pitch_shift_prob 0 --frequency_mask_prob 0 --time_mask_prob 0"
   ]
  },
  {
   "cell_type": "code",
   "execution_count": null,
   "id": "abb26dcd",
   "metadata": {},
   "outputs": [],
   "source": [
    "# !python prepare/data_augmentation.py -w ./kikyo_wav -o ./data_svc/waves-32k -s 32000 -t 0 --overall_prob 1 --gaussian_noise_prob 0.4 --time_stretch_prob 0.4 --pitch_shift_prob 0.4 --frequency_mask_prob 0.4 --time_mask_prob 0.4"
   ]
  },
  {
   "cell_type": "code",
   "execution_count": null,
   "id": "af08d197",
   "metadata": {
    "tags": []
   },
   "outputs": [],
   "source": [
    "# !python prepare/data_augmentation.py -w ./kikyo_wav -o ./data_svc/waves-32k -s 32000 -t 0 --overall_prob 0 --gaussian_noise_prob 0 --time_stretch_prob 0 --pitch_shift_prob 0 --frequency_mask_prob 0 --time_mask_prob 0"
   ]
  },
  {
   "cell_type": "markdown",
   "id": "f369543d",
   "metadata": {},
   "source": [
    "#### Go"
   ]
  },
  {
   "cell_type": "code",
   "execution_count": 1,
   "id": "e60b241d-cfab-45d5-a1c4-360dcf042c80",
   "metadata": {
    "tags": []
   },
   "outputs": [
    {
     "name": "stdout",
     "output_type": "stream",
     "text": [
      "data_svc/waves-16k/\n",
      "data_svc/pitch\n"
     ]
    },
    {
     "name": "stderr",
     "output_type": "stream",
     "text": [
      "\n",
      "Processing crepe soyo:   0%|          | 0/137 [00:00<?, ?it/s]e:\\.env\\sovit5\\lib\\site-packages\\torch\\nn\\modules\\conv.py:456: UserWarning: Plan failed with a cudnnException: CUDNN_BACKEND_EXECUTION_PLAN_DESCRIPTOR: cudnnFinalize Descriptor Failed cudnn_status: CUDNN_STATUS_NOT_SUPPORTED (Triggered internally at C:\\actions-runner\\_work\\pytorch\\pytorch\\builder\\windows\\pytorch\\aten\\src\\ATen\\native\\cudnn\\Conv_v8.cpp:919.)\n",
      "  return F.conv2d(input, weight, bias, self.stride,\n",
      "\n",
      "Processing crepe soyo:   1%|          | 1/137 [00:10<23:20, 10.30s/it]\n",
      "Processing crepe soyo:   1%|▏         | 2/137 [00:12<12:47,  5.69s/it]\n",
      "Processing crepe soyo:   2%|▏         | 3/137 [00:15<09:30,  4.25s/it]\n",
      "Processing crepe soyo:   3%|▎         | 4/137 [00:17<07:54,  3.57s/it]\n",
      "Processing crepe soyo:   4%|▎         | 5/137 [00:20<07:16,  3.30s/it]\n",
      "Processing crepe soyo:   4%|▍         | 6/137 [00:23<06:32,  2.99s/it]\n",
      "Processing crepe soyo:   5%|▌         | 7/137 [00:25<06:15,  2.89s/it]\n",
      "Processing crepe soyo:   6%|▌         | 8/137 [00:28<06:05,  2.83s/it]\n",
      "Processing crepe soyo:   7%|▋         | 9/137 [00:31<05:56,  2.78s/it]\n",
      "Processing crepe soyo:   7%|▋         | 10/137 [00:33<05:53,  2.78s/it]\n",
      "Processing crepe soyo:   8%|▊         | 11/137 [00:36<05:57,  2.84s/it]\n",
      "Processing crepe soyo:   9%|▉         | 12/137 [00:39<05:48,  2.79s/it]\n",
      "Processing crepe soyo:   9%|▉         | 13/137 [00:42<05:42,  2.76s/it]\n",
      "Processing crepe soyo:  10%|█         | 14/137 [00:45<05:46,  2.82s/it]\n",
      "Processing crepe soyo:  11%|█         | 15/137 [00:48<05:47,  2.85s/it]\n",
      "Processing crepe soyo:  12%|█▏        | 16/137 [00:50<05:39,  2.80s/it]\n",
      "Processing crepe soyo:  12%|█▏        | 17/137 [00:53<05:30,  2.75s/it]\n",
      "Processing crepe soyo:  13%|█▎        | 18/137 [00:56<05:27,  2.75s/it]\n",
      "Processing crepe soyo:  14%|█▍        | 19/137 [00:58<05:26,  2.76s/it]\n",
      "Processing crepe soyo:  15%|█▍        | 20/137 [01:01<05:26,  2.79s/it]\n",
      "Processing crepe soyo:  15%|█▌        | 21/137 [01:04<05:29,  2.84s/it]\n",
      "Processing crepe soyo:  16%|█▌        | 22/137 [01:07<05:31,  2.89s/it]\n",
      "Processing crepe soyo:  17%|█▋        | 23/137 [01:10<05:26,  2.87s/it]\n",
      "Processing crepe soyo:  18%|█▊        | 24/137 [01:13<05:26,  2.89s/it]\n",
      "Processing crepe soyo:  18%|█▊        | 25/137 [01:16<05:27,  2.92s/it]\n",
      "Processing crepe soyo:  19%|█▉        | 26/137 [01:19<05:18,  2.87s/it]\n",
      "Processing crepe soyo:  20%|█▉        | 27/137 [01:22<05:15,  2.87s/it]\n",
      "Processing crepe soyo:  20%|██        | 28/137 [01:25<05:15,  2.89s/it]\n",
      "Processing crepe soyo:  21%|██        | 29/137 [01:28<05:15,  2.92s/it]\n",
      "Processing crepe soyo:  22%|██▏       | 30/137 [01:30<05:08,  2.89s/it]\n",
      "Processing crepe soyo:  23%|██▎       | 31/137 [01:33<05:07,  2.90s/it]\n",
      "Processing crepe soyo:  23%|██▎       | 32/137 [01:36<05:01,  2.87s/it]\n",
      "Processing crepe soyo:  24%|██▍       | 33/137 [01:39<04:52,  2.81s/it]\n",
      "Processing crepe soyo:  25%|██▍       | 34/137 [01:41<04:45,  2.77s/it]\n",
      "Processing crepe soyo:  26%|██▌       | 35/137 [01:44<04:40,  2.75s/it]\n",
      "Processing crepe soyo:  26%|██▋       | 36/137 [01:47<04:38,  2.76s/it]\n",
      "Processing crepe soyo:  27%|██▋       | 37/137 [01:50<04:47,  2.88s/it]\n",
      "Processing crepe soyo:  28%|██▊       | 38/137 [01:53<04:47,  2.90s/it]\n",
      "Processing crepe soyo:  28%|██▊       | 39/137 [01:56<04:47,  2.93s/it]\n",
      "Processing crepe soyo:  29%|██▉       | 40/137 [01:59<04:31,  2.80s/it]\n",
      "Processing crepe soyo:  30%|██▉       | 41/137 [02:01<04:28,  2.80s/it]\n",
      "Processing crepe soyo:  31%|███       | 42/137 [02:04<04:31,  2.86s/it]\n",
      "Processing crepe soyo:  31%|███▏      | 43/137 [02:07<04:25,  2.83s/it]\n",
      "Processing crepe soyo:  32%|███▏      | 44/137 [02:10<04:27,  2.88s/it]\n",
      "Processing crepe soyo:  33%|███▎      | 45/137 [02:13<04:24,  2.88s/it]\n",
      "Processing crepe soyo:  34%|███▎      | 46/137 [02:16<04:20,  2.87s/it]\n",
      "Processing crepe soyo:  34%|███▍      | 47/137 [02:19<04:16,  2.85s/it]\n",
      "Processing crepe soyo:  35%|███▌      | 48/137 [02:22<04:20,  2.92s/it]\n",
      "Processing crepe soyo:  36%|███▌      | 49/137 [02:25<04:19,  2.95s/it]\n",
      "Processing crepe soyo:  36%|███▋      | 50/137 [02:28<04:18,  2.97s/it]\n",
      "Processing crepe soyo:  37%|███▋      | 51/137 [02:31<04:13,  2.95s/it]\n",
      "Processing crepe soyo:  38%|███▊      | 52/137 [02:33<04:02,  2.86s/it]\n",
      "Processing crepe soyo:  39%|███▊      | 53/137 [02:36<03:55,  2.81s/it]\n",
      "Processing crepe soyo:  39%|███▉      | 54/137 [02:38<03:40,  2.66s/it]\n",
      "Processing crepe soyo:  40%|████      | 55/137 [02:41<03:49,  2.79s/it]\n",
      "Processing crepe soyo:  41%|████      | 56/137 [02:45<03:59,  2.96s/it]\n",
      "Processing crepe soyo:  42%|████▏     | 57/137 [02:47<03:43,  2.80s/it]\n",
      "Processing crepe soyo:  42%|████▏     | 58/137 [02:50<03:45,  2.85s/it]\n",
      "Processing crepe soyo:  43%|████▎     | 59/137 [02:53<03:38,  2.80s/it]\n",
      "Processing crepe soyo:  44%|████▍     | 60/137 [02:56<03:33,  2.77s/it]\n",
      "Processing crepe soyo:  45%|████▍     | 61/137 [02:58<03:31,  2.79s/it]\n",
      "Processing crepe soyo:  45%|████▌     | 62/137 [03:01<03:21,  2.69s/it]\n",
      "Processing crepe soyo:  46%|████▌     | 63/137 [03:03<03:08,  2.55s/it]\n",
      "Processing crepe soyo:  47%|████▋     | 64/137 [03:06<03:06,  2.55s/it]\n",
      "Processing crepe soyo:  47%|████▋     | 65/137 [03:08<03:06,  2.59s/it]\n",
      "Processing crepe soyo:  48%|████▊     | 66/137 [03:11<03:04,  2.60s/it]\n",
      "Processing crepe soyo:  49%|████▉     | 67/137 [03:13<02:59,  2.57s/it]\n",
      "Processing crepe soyo:  50%|████▉     | 68/137 [03:16<02:54,  2.53s/it]\n",
      "Processing crepe soyo:  50%|█████     | 69/137 [03:19<02:56,  2.60s/it]\n",
      "Processing crepe soyo:  51%|█████     | 70/137 [03:21<02:49,  2.53s/it]\n",
      "Processing crepe soyo:  52%|█████▏    | 71/137 [03:24<02:54,  2.64s/it]\n",
      "Processing crepe soyo:  53%|█████▎    | 72/137 [03:26<02:42,  2.50s/it]\n",
      "Processing crepe soyo:  53%|█████▎    | 73/137 [03:28<02:36,  2.44s/it]\n",
      "Processing crepe soyo:  54%|█████▍    | 74/137 [03:31<02:33,  2.44s/it]\n",
      "Processing crepe soyo:  55%|█████▍    | 75/137 [03:34<02:54,  2.82s/it]\n",
      "Processing crepe soyo:  55%|█████▌    | 76/137 [03:38<03:01,  2.98s/it]\n",
      "Processing crepe soyo:  56%|█████▌    | 77/137 [03:41<03:06,  3.12s/it]\n",
      "Processing crepe soyo:  57%|█████▋    | 78/137 [03:45<03:10,  3.23s/it]\n",
      "Processing crepe soyo:  58%|█████▊    | 79/137 [03:48<03:13,  3.34s/it]\n",
      "Processing crepe soyo:  58%|█████▊    | 80/137 [03:52<03:12,  3.37s/it]\n",
      "Processing crepe soyo:  59%|█████▉    | 81/137 [03:56<03:14,  3.47s/it]\n",
      "Processing crepe soyo:  60%|█████▉    | 82/137 [03:59<03:12,  3.49s/it]\n",
      "Processing crepe soyo:  61%|██████    | 83/137 [04:03<03:08,  3.49s/it]\n",
      "Processing crepe soyo:  61%|██████▏   | 84/137 [04:06<03:03,  3.46s/it]\n",
      "Processing crepe soyo:  62%|██████▏   | 85/137 [04:10<03:04,  3.55s/it]\n",
      "Processing crepe soyo:  63%|██████▎   | 86/137 [04:13<03:00,  3.53s/it]\n",
      "Processing crepe soyo:  64%|██████▎   | 87/137 [04:17<02:54,  3.49s/it]\n",
      "Processing crepe soyo:  64%|██████▍   | 88/137 [04:20<02:51,  3.49s/it]\n",
      "Processing crepe soyo:  65%|██████▍   | 89/137 [04:24<02:48,  3.52s/it]\n",
      "Processing crepe soyo:  66%|██████▌   | 90/137 [04:28<02:53,  3.70s/it]\n",
      "Processing crepe soyo:  66%|██████▋   | 91/137 [04:31<02:49,  3.69s/it]\n",
      "Processing crepe soyo:  67%|██████▋   | 92/137 [04:34<02:35,  3.46s/it]\n",
      "Processing crepe soyo:  68%|██████▊   | 93/137 [04:38<02:30,  3.42s/it]\n",
      "Processing crepe soyo:  69%|██████▊   | 94/137 [04:41<02:26,  3.41s/it]\n",
      "Processing crepe soyo:  69%|██████▉   | 95/137 [04:44<02:22,  3.38s/it]\n",
      "Processing crepe soyo:  70%|███████   | 96/137 [04:48<02:21,  3.44s/it]\n",
      "Processing crepe soyo:  71%|███████   | 97/137 [04:51<02:18,  3.46s/it]\n",
      "Processing crepe soyo:  72%|███████▏  | 98/137 [04:55<02:10,  3.36s/it]\n",
      "Processing crepe soyo:  72%|███████▏  | 99/137 [04:58<02:11,  3.45s/it]\n",
      "Processing crepe soyo:  73%|███████▎  | 100/137 [05:02<02:09,  3.51s/it]\n",
      "Processing crepe soyo:  74%|███████▎  | 101/137 [05:05<02:05,  3.50s/it]\n",
      "Processing crepe soyo:  74%|███████▍  | 102/137 [05:09<02:03,  3.54s/it]\n",
      "Processing crepe soyo:  75%|███████▌  | 103/137 [05:13<02:01,  3.57s/it]\n",
      "Processing crepe soyo:  76%|███████▌  | 104/137 [05:16<01:55,  3.51s/it]\n",
      "Processing crepe soyo:  77%|███████▋  | 105/137 [05:19<01:48,  3.39s/it]\n",
      "Processing crepe soyo:  77%|███████▋  | 106/137 [05:22<01:43,  3.33s/it]\n",
      "Processing crepe soyo:  78%|███████▊  | 107/137 [05:26<01:40,  3.35s/it]\n",
      "Processing crepe soyo:  79%|███████▉  | 108/137 [05:29<01:36,  3.34s/it]\n",
      "Processing crepe soyo:  80%|███████▉  | 109/137 [05:33<01:36,  3.45s/it]\n",
      "Processing crepe soyo:  80%|████████  | 110/137 [05:36<01:32,  3.41s/it]\n",
      "Processing crepe soyo:  81%|████████  | 111/137 [05:40<01:30,  3.47s/it]\n",
      "Processing crepe soyo:  82%|████████▏ | 112/137 [05:43<01:26,  3.46s/it]\n",
      "Processing crepe soyo:  82%|████████▏ | 113/137 [05:46<01:21,  3.39s/it]\n",
      "Processing crepe soyo:  83%|████████▎ | 114/137 [05:50<01:20,  3.50s/it]\n",
      "Processing crepe soyo:  84%|████████▍ | 115/137 [05:53<01:15,  3.45s/it]\n",
      "Processing crepe soyo:  85%|████████▍ | 116/137 [05:57<01:11,  3.42s/it]\n",
      "Processing crepe soyo:  85%|████████▌ | 117/137 [06:00<01:06,  3.33s/it]\n",
      "Processing crepe soyo:  86%|████████▌ | 118/137 [06:03<01:02,  3.30s/it]\n",
      "Processing crepe soyo:  87%|████████▋ | 119/137 [06:06<00:58,  3.26s/it]\n",
      "Processing crepe soyo:  88%|████████▊ | 120/137 [06:10<00:58,  3.42s/it]\n",
      "Processing crepe soyo:  88%|████████▊ | 121/137 [06:13<00:54,  3.41s/it]\n",
      "Processing crepe soyo:  89%|████████▉ | 122/137 [06:17<00:50,  3.37s/it]\n",
      "Processing crepe soyo:  90%|████████▉ | 123/137 [06:20<00:46,  3.34s/it]\n",
      "Processing crepe soyo:  91%|█████████ | 124/137 [06:20<00:32,  2.47s/it]\n",
      "Processing crepe soyo:  91%|█████████ | 125/137 [06:24<00:33,  2.76s/it]\n",
      "Processing crepe soyo:  92%|█████████▏| 126/137 [06:27<00:32,  2.92s/it]\n",
      "Processing crepe soyo:  93%|█████████▎| 127/137 [06:31<00:30,  3.08s/it]\n",
      "Processing crepe soyo:  93%|█████████▎| 128/137 [06:34<00:28,  3.18s/it]\n",
      "Processing crepe soyo:  94%|█████████▍| 129/137 [06:36<00:23,  2.92s/it]\n",
      "Processing crepe soyo:  95%|█████████▍| 130/137 [06:42<00:26,  3.75s/it]\n",
      "Processing crepe soyo:  96%|█████████▌| 131/137 [06:44<00:19,  3.25s/it]\n",
      "Processing crepe soyo:  96%|█████████▋| 132/137 [06:48<00:17,  3.44s/it]\n",
      "Processing crepe soyo:  97%|█████████▋| 133/137 [06:48<00:09,  2.46s/it]\n",
      "Processing crepe soyo:  98%|█████████▊| 134/137 [06:51<00:08,  2.71s/it]\n",
      "Processing crepe soyo:  99%|█████████▊| 135/137 [06:53<00:04,  2.33s/it]\n",
      "Processing crepe soyo:  99%|█████████▉| 136/137 [06:56<00:02,  2.61s/it]\n",
      "Processing crepe soyo: 100%|██████████| 137/137 [06:58<00:00,  2.26s/it]\n",
      "Processing crepe soyo: 100%|██████████| 137/137 [06:58<00:00,  3.05s/it]\n"
     ]
    }
   ],
   "source": [
    "!python prepare/preprocess_crepe.py -w data_svc/waves-16k/ -p data_svc/pitch"
   ]
  },
  {
   "cell_type": "code",
   "execution_count": 6,
   "id": "55d3c396-3f1e-42b1-a33a-990e03965c9f",
   "metadata": {
    "tags": []
   },
   "outputs": [
    {
     "name": "stdout",
     "output_type": "stream",
     "text": [
      "data_svc/waves-16k/\n",
      "data_svc/whisper\n",
      "ModelDimensions(n_mels=128, n_audio_ctx=1500, n_audio_state=1280, n_audio_head=20, n_audio_layer=32, n_vocab=51866, n_text_ctx=448, n_text_state=1280, n_text_head=20, n_text_layer=32)\n"
     ]
    },
    {
     "name": "stderr",
     "output_type": "stream",
     "text": [
      "\n",
      "Processing ppg soyo:   0%|          | 0/137 [00:00<?, ?it/s]e:\\Data\\Code\\so-vits-svc-5.0\\whisper\\model.py:124: UserWarning: 1Torch was not compiled with flash attention. (Triggered internally at C:\\actions-runner\\_work\\pytorch\\pytorch\\builder\\windows\\pytorch\\aten\\src\\ATen\\native\\transformers\\cuda\\sdp_utils.cpp:455.)\n",
      "  a = scaled_dot_product_attention(\n",
      "\n",
      "Processing ppg soyo:   1%|          | 1/137 [00:01<02:41,  1.18s/it]\n",
      "Processing ppg soyo:   1%|▏         | 2/137 [00:02<02:28,  1.10s/it]\n",
      "Processing ppg soyo:   2%|▏         | 3/137 [00:02<01:55,  1.16it/s]\n",
      "Processing ppg soyo:   3%|▎         | 4/137 [00:03<01:39,  1.34it/s]\n",
      "Processing ppg soyo:   4%|▎         | 5/137 [00:03<01:29,  1.48it/s]\n",
      "Processing ppg soyo:   4%|▍         | 6/137 [00:04<01:23,  1.57it/s]\n",
      "Processing ppg soyo:   5%|▌         | 7/137 [00:05<01:21,  1.59it/s]\n",
      "Processing ppg soyo:   6%|▌         | 8/137 [00:05<01:18,  1.64it/s]\n",
      "Processing ppg soyo:   7%|▋         | 9/137 [00:06<01:15,  1.70it/s]\n",
      "Processing ppg soyo:   7%|▋         | 10/137 [00:06<01:17,  1.64it/s]\n",
      "Processing ppg soyo:   8%|▊         | 11/137 [00:07<01:14,  1.68it/s]\n",
      "Processing ppg soyo:   9%|▉         | 12/137 [00:08<01:14,  1.68it/s]\n",
      "Processing ppg soyo:   9%|▉         | 13/137 [00:08<01:12,  1.70it/s]\n",
      "Processing ppg soyo:  10%|█         | 14/137 [00:09<01:12,  1.69it/s]\n",
      "Processing ppg soyo:  11%|█         | 15/137 [00:09<01:13,  1.67it/s]\n",
      "Processing ppg soyo:  12%|█▏        | 16/137 [00:10<01:12,  1.68it/s]\n",
      "Processing ppg soyo:  12%|█▏        | 17/137 [00:10<01:10,  1.71it/s]\n",
      "Processing ppg soyo:  13%|█▎        | 18/137 [00:11<01:09,  1.72it/s]\n",
      "Processing ppg soyo:  14%|█▍        | 19/137 [00:12<01:08,  1.73it/s]\n",
      "Processing ppg soyo:  15%|█▍        | 20/137 [00:12<01:07,  1.72it/s]\n",
      "Processing ppg soyo:  15%|█▌        | 21/137 [00:13<01:07,  1.72it/s]\n",
      "Processing ppg soyo:  16%|█▌        | 22/137 [00:13<01:07,  1.71it/s]\n",
      "Processing ppg soyo:  17%|█▋        | 23/137 [00:14<01:05,  1.75it/s]\n",
      "Processing ppg soyo:  18%|█▊        | 24/137 [00:14<01:04,  1.75it/s]\n",
      "Processing ppg soyo:  18%|█▊        | 25/137 [00:15<01:04,  1.73it/s]\n",
      "Processing ppg soyo:  19%|█▉        | 26/137 [00:16<01:03,  1.74it/s]\n",
      "Processing ppg soyo:  20%|█▉        | 27/137 [00:16<01:03,  1.73it/s]\n",
      "Processing ppg soyo:  20%|██        | 28/137 [00:17<01:02,  1.75it/s]\n",
      "Processing ppg soyo:  21%|██        | 29/137 [00:17<01:02,  1.74it/s]\n",
      "Processing ppg soyo:  22%|██▏       | 30/137 [00:18<01:02,  1.72it/s]\n",
      "Processing ppg soyo:  23%|██▎       | 31/137 [00:19<01:02,  1.69it/s]\n",
      "Processing ppg soyo:  23%|██▎       | 32/137 [00:19<01:02,  1.69it/s]\n",
      "Processing ppg soyo:  24%|██▍       | 33/137 [00:20<01:01,  1.69it/s]\n",
      "Processing ppg soyo:  25%|██▍       | 34/137 [00:20<01:01,  1.67it/s]\n",
      "Processing ppg soyo:  26%|██▌       | 35/137 [00:21<01:00,  1.69it/s]\n",
      "Processing ppg soyo:  26%|██▋       | 36/137 [00:22<00:58,  1.72it/s]\n",
      "Processing ppg soyo:  27%|██▋       | 37/137 [00:22<00:57,  1.73it/s]\n",
      "Processing ppg soyo:  28%|██▊       | 38/137 [00:23<00:56,  1.74it/s]\n",
      "Processing ppg soyo:  28%|██▊       | 39/137 [00:23<00:56,  1.73it/s]\n",
      "Processing ppg soyo:  29%|██▉       | 40/137 [00:24<00:55,  1.73it/s]\n",
      "Processing ppg soyo:  30%|██▉       | 41/137 [00:24<00:56,  1.71it/s]\n",
      "Processing ppg soyo:  31%|███       | 42/137 [00:25<00:56,  1.69it/s]\n",
      "Processing ppg soyo:  31%|███▏      | 43/137 [00:26<00:57,  1.63it/s]\n",
      "Processing ppg soyo:  32%|███▏      | 44/137 [00:26<00:56,  1.66it/s]\n",
      "Processing ppg soyo:  33%|███▎      | 45/137 [00:27<00:55,  1.66it/s]\n",
      "Processing ppg soyo:  34%|███▎      | 46/137 [00:27<00:54,  1.67it/s]\n",
      "Processing ppg soyo:  34%|███▍      | 47/137 [00:28<00:54,  1.64it/s]\n",
      "Processing ppg soyo:  35%|███▌      | 48/137 [00:29<00:53,  1.67it/s]\n",
      "Processing ppg soyo:  36%|███▌      | 49/137 [00:29<00:54,  1.62it/s]\n",
      "Processing ppg soyo:  36%|███▋      | 50/137 [00:30<00:53,  1.64it/s]\n",
      "Processing ppg soyo:  37%|███▋      | 51/137 [00:31<00:55,  1.55it/s]\n",
      "Processing ppg soyo:  38%|███▊      | 52/137 [00:31<00:53,  1.58it/s]\n",
      "Processing ppg soyo:  39%|███▊      | 53/137 [00:32<00:52,  1.59it/s]\n",
      "Processing ppg soyo:  39%|███▉      | 54/137 [00:33<00:52,  1.59it/s]\n",
      "Processing ppg soyo:  40%|████      | 55/137 [00:33<00:51,  1.58it/s]\n",
      "Processing ppg soyo:  41%|████      | 56/137 [00:34<00:50,  1.61it/s]\n",
      "Processing ppg soyo:  42%|████▏     | 57/137 [00:34<00:49,  1.62it/s]\n",
      "Processing ppg soyo:  42%|████▏     | 58/137 [00:35<00:48,  1.64it/s]\n",
      "Processing ppg soyo:  43%|████▎     | 59/137 [00:36<00:48,  1.61it/s]\n",
      "Processing ppg soyo:  44%|████▍     | 60/137 [00:36<00:47,  1.61it/s]\n",
      "Processing ppg soyo:  45%|████▍     | 61/137 [00:37<00:46,  1.64it/s]\n",
      "Processing ppg soyo:  45%|████▌     | 62/137 [00:37<00:45,  1.66it/s]\n",
      "Processing ppg soyo:  46%|████▌     | 63/137 [00:38<00:44,  1.66it/s]\n",
      "Processing ppg soyo:  47%|████▋     | 64/137 [00:39<00:45,  1.62it/s]\n",
      "Processing ppg soyo:  47%|████▋     | 65/137 [00:39<00:44,  1.63it/s]\n",
      "Processing ppg soyo:  48%|████▊     | 66/137 [00:40<00:43,  1.63it/s]\n",
      "Processing ppg soyo:  49%|████▉     | 67/137 [00:40<00:43,  1.60it/s]\n",
      "Processing ppg soyo:  50%|████▉     | 68/137 [00:41<00:42,  1.63it/s]\n",
      "Processing ppg soyo:  50%|█████     | 69/137 [00:42<00:43,  1.57it/s]\n",
      "Processing ppg soyo:  51%|█████     | 70/137 [00:42<00:41,  1.62it/s]\n",
      "Processing ppg soyo:  52%|█████▏    | 71/137 [00:43<00:40,  1.63it/s]\n",
      "Processing ppg soyo:  53%|█████▎    | 72/137 [00:44<00:40,  1.62it/s]\n",
      "Processing ppg soyo:  53%|█████▎    | 73/137 [00:44<00:38,  1.66it/s]\n",
      "Processing ppg soyo:  54%|█████▍    | 74/137 [00:45<00:38,  1.64it/s]\n",
      "Processing ppg soyo:  55%|█████▍    | 75/137 [00:45<00:38,  1.63it/s]\n",
      "Processing ppg soyo:  55%|█████▌    | 76/137 [00:46<00:36,  1.65it/s]\n",
      "Processing ppg soyo:  56%|█████▌    | 77/137 [00:47<00:36,  1.65it/s]\n",
      "Processing ppg soyo:  57%|█████▋    | 78/137 [00:47<00:39,  1.51it/s]\n",
      "Processing ppg soyo:  58%|█████▊    | 79/137 [00:48<00:37,  1.55it/s]\n",
      "Processing ppg soyo:  58%|█████▊    | 80/137 [00:49<00:36,  1.57it/s]\n",
      "Processing ppg soyo:  59%|█████▉    | 81/137 [00:49<00:36,  1.53it/s]\n",
      "Processing ppg soyo:  60%|█████▉    | 82/137 [00:50<00:35,  1.53it/s]\n",
      "Processing ppg soyo:  61%|██████    | 83/137 [00:51<00:35,  1.54it/s]\n",
      "Processing ppg soyo:  61%|██████▏   | 84/137 [00:51<00:35,  1.50it/s]\n",
      "Processing ppg soyo:  62%|██████▏   | 85/137 [00:52<00:34,  1.49it/s]\n",
      "Processing ppg soyo:  63%|██████▎   | 86/137 [00:53<00:34,  1.50it/s]\n",
      "Processing ppg soyo:  64%|██████▎   | 87/137 [00:53<00:33,  1.48it/s]\n",
      "Processing ppg soyo:  64%|██████▍   | 88/137 [00:54<00:32,  1.53it/s]\n",
      "Processing ppg soyo:  65%|██████▍   | 89/137 [00:55<00:31,  1.54it/s]\n",
      "Processing ppg soyo:  66%|██████▌   | 90/137 [00:55<00:31,  1.50it/s]\n",
      "Processing ppg soyo:  66%|██████▋   | 91/137 [00:56<00:30,  1.49it/s]\n",
      "Processing ppg soyo:  67%|██████▋   | 92/137 [00:57<00:31,  1.44it/s]\n",
      "Processing ppg soyo:  68%|██████▊   | 93/137 [00:57<00:29,  1.51it/s]\n",
      "Processing ppg soyo:  69%|██████▊   | 94/137 [00:58<00:28,  1.54it/s]\n",
      "Processing ppg soyo:  69%|██████▉   | 95/137 [00:59<00:27,  1.56it/s]\n",
      "Processing ppg soyo:  70%|███████   | 96/137 [00:59<00:25,  1.60it/s]\n",
      "Processing ppg soyo:  71%|███████   | 97/137 [01:00<00:25,  1.59it/s]\n",
      "Processing ppg soyo:  72%|███████▏  | 98/137 [01:00<00:24,  1.59it/s]\n",
      "Processing ppg soyo:  72%|███████▏  | 99/137 [01:01<00:23,  1.60it/s]\n",
      "Processing ppg soyo:  73%|███████▎  | 100/137 [01:02<00:22,  1.61it/s]\n",
      "Processing ppg soyo:  74%|███████▎  | 101/137 [01:02<00:22,  1.59it/s]\n",
      "Processing ppg soyo:  74%|███████▍  | 102/137 [01:03<00:23,  1.51it/s]\n",
      "Processing ppg soyo:  75%|███████▌  | 103/137 [01:04<00:22,  1.52it/s]\n",
      "Processing ppg soyo:  76%|███████▌  | 104/137 [01:04<00:21,  1.52it/s]\n",
      "Processing ppg soyo:  77%|███████▋  | 105/137 [01:05<00:20,  1.53it/s]\n",
      "Processing ppg soyo:  77%|███████▋  | 106/137 [01:06<00:20,  1.53it/s]\n",
      "Processing ppg soyo:  78%|███████▊  | 107/137 [01:06<00:19,  1.53it/s]\n",
      "Processing ppg soyo:  79%|███████▉  | 108/137 [01:07<00:19,  1.50it/s]\n",
      "Processing ppg soyo:  80%|███████▉  | 109/137 [01:08<00:18,  1.53it/s]\n",
      "Processing ppg soyo:  80%|████████  | 110/137 [01:08<00:17,  1.57it/s]\n",
      "Processing ppg soyo:  81%|████████  | 111/137 [01:09<00:16,  1.55it/s]\n",
      "Processing ppg soyo:  82%|████████▏ | 112/137 [01:10<00:16,  1.53it/s]\n",
      "Processing ppg soyo:  82%|████████▏ | 113/137 [01:10<00:15,  1.59it/s]\n",
      "Processing ppg soyo:  83%|████████▎ | 114/137 [01:11<00:14,  1.59it/s]\n",
      "Processing ppg soyo:  84%|████████▍ | 115/137 [01:11<00:13,  1.58it/s]\n",
      "Processing ppg soyo:  85%|████████▍ | 116/137 [01:12<00:13,  1.59it/s]\n",
      "Processing ppg soyo:  85%|████████▌ | 117/137 [01:13<00:12,  1.63it/s]\n",
      "Processing ppg soyo:  86%|████████▌ | 118/137 [01:13<00:11,  1.62it/s]\n",
      "Processing ppg soyo:  87%|████████▋ | 119/137 [01:14<00:11,  1.62it/s]\n",
      "Processing ppg soyo:  88%|████████▊ | 120/137 [01:14<00:10,  1.61it/s]\n",
      "Processing ppg soyo:  88%|████████▊ | 121/137 [01:15<00:09,  1.60it/s]\n",
      "Processing ppg soyo:  89%|████████▉ | 122/137 [01:16<00:09,  1.57it/s]\n",
      "Processing ppg soyo:  90%|████████▉ | 123/137 [01:16<00:09,  1.54it/s]\n",
      "Processing ppg soyo:  91%|█████████ | 124/137 [01:17<00:08,  1.47it/s]\n",
      "Processing ppg soyo:  91%|█████████ | 125/137 [01:18<00:08,  1.45it/s]\n",
      "Processing ppg soyo:  92%|█████████▏| 126/137 [01:19<00:07,  1.41it/s]\n",
      "Processing ppg soyo:  93%|█████████▎| 127/137 [01:19<00:06,  1.45it/s]\n",
      "Processing ppg soyo:  93%|█████████▎| 128/137 [01:20<00:06,  1.49it/s]\n",
      "Processing ppg soyo:  94%|█████████▍| 129/137 [01:21<00:05,  1.48it/s]\n",
      "Processing ppg soyo:  95%|█████████▍| 130/137 [01:21<00:04,  1.47it/s]\n",
      "Processing ppg soyo:  96%|█████████▌| 131/137 [01:22<00:04,  1.50it/s]\n",
      "Processing ppg soyo:  96%|█████████▋| 132/137 [01:23<00:03,  1.43it/s]\n",
      "Processing ppg soyo:  97%|█████████▋| 133/137 [01:23<00:02,  1.46it/s]\n",
      "Processing ppg soyo:  98%|█████████▊| 134/137 [01:24<00:02,  1.46it/s]\n",
      "Processing ppg soyo:  99%|█████████▊| 135/137 [01:25<00:01,  1.49it/s]\n",
      "Processing ppg soyo:  99%|█████████▉| 136/137 [01:25<00:00,  1.48it/s]\n",
      "Processing ppg soyo: 100%|██████████| 137/137 [01:26<00:00,  1.52it/s]\n",
      "Processing ppg soyo: 100%|██████████| 137/137 [01:26<00:00,  1.58it/s]\n"
     ]
    }
   ],
   "source": [
    "!python prepare/preprocess_ppg.py -w data_svc/waves-16k/ -p data_svc/whisper"
   ]
  },
  {
   "cell_type": "code",
   "execution_count": 7,
   "id": "1e70e7b3-730b-4ae6-bc33-6c7a250c4fc7",
   "metadata": {
    "scrolled": true,
    "tags": []
   },
   "outputs": [
    {
     "name": "stdout",
     "output_type": "stream",
     "text": [
      "data_svc/waves-16k/\n",
      "data_svc/hubert\n"
     ]
    },
    {
     "name": "stderr",
     "output_type": "stream",
     "text": [
      "e:\\.env\\sovit5\\lib\\site-packages\\torch\\nn\\utils\\weight_norm.py:28: UserWarning: torch.nn.utils.weight_norm is deprecated in favor of torch.nn.utils.parametrizations.weight_norm.\n",
      "  warnings.warn(\"torch.nn.utils.weight_norm is deprecated in favor of torch.nn.utils.parametrizations.weight_norm.\")\n",
      "\n",
      "Processing vec soyo:   0%|          | 0/137 [00:00<?, ?it/s]e:\\.env\\sovit5\\lib\\site-packages\\torch\\nn\\modules\\transformer.py:720: UserWarning: 1Torch was not compiled with flash attention. (Triggered internally at C:\\actions-runner\\_work\\pytorch\\pytorch\\builder\\windows\\pytorch\\aten\\src\\ATen\\native\\transformers\\cuda\\sdp_utils.cpp:455.)\n",
      "  return torch._transformer_encoder_layer_fwd(\n",
      "\n",
      "Processing vec soyo:   1%|          | 1/137 [00:03<07:54,  3.49s/it]\n",
      "Processing vec soyo:   3%|▎         | 4/137 [00:03<01:32,  1.43it/s]\n",
      "Processing vec soyo:   5%|▌         | 7/137 [00:03<00:44,  2.91it/s]\n",
      "Processing vec soyo:   7%|▋         | 10/137 [00:03<00:27,  4.70it/s]\n",
      "Processing vec soyo:   9%|▉         | 13/137 [00:03<00:17,  6.91it/s]\n",
      "Processing vec soyo:  12%|█▏        | 16/137 [00:04<00:13,  9.11it/s]\n",
      "Processing vec soyo:  15%|█▍        | 20/137 [00:04<00:09, 12.68it/s]\n",
      "Processing vec soyo:  17%|█▋        | 23/137 [00:04<00:07, 14.37it/s]\n",
      "Processing vec soyo:  19%|█▉        | 26/137 [00:04<00:06, 16.90it/s]\n",
      "Processing vec soyo:  21%|██        | 29/137 [00:04<00:05, 18.96it/s]\n",
      "Processing vec soyo:  23%|██▎       | 32/137 [00:04<00:05, 20.79it/s]\n",
      "Processing vec soyo:  26%|██▌       | 35/137 [00:04<00:04, 21.07it/s]\n",
      "Processing vec soyo:  28%|██▊       | 38/137 [00:04<00:04, 22.76it/s]\n",
      "Processing vec soyo:  30%|██▉       | 41/137 [00:05<00:04, 23.46it/s]\n",
      "Processing vec soyo:  32%|███▏      | 44/137 [00:05<00:04, 22.66it/s]\n",
      "Processing vec soyo:  35%|███▌      | 48/137 [00:05<00:03, 24.72it/s]\n",
      "Processing vec soyo:  37%|███▋      | 51/137 [00:05<00:03, 24.40it/s]\n",
      "Processing vec soyo:  39%|███▉      | 54/137 [00:05<00:03, 24.02it/s]\n",
      "Processing vec soyo:  42%|████▏     | 57/137 [00:05<00:03, 24.10it/s]\n",
      "Processing vec soyo:  45%|████▍     | 61/137 [00:05<00:02, 26.81it/s]\n",
      "Processing vec soyo:  47%|████▋     | 64/137 [00:06<00:03, 23.79it/s]\n",
      "Processing vec soyo:  49%|████▉     | 67/137 [00:06<00:02, 24.53it/s]\n",
      "Processing vec soyo:  51%|█████     | 70/137 [00:06<00:02, 23.60it/s]\n",
      "Processing vec soyo:  53%|█████▎    | 73/137 [00:06<00:02, 22.74it/s]\n",
      "Processing vec soyo:  55%|█████▌    | 76/137 [00:06<00:02, 22.57it/s]\n",
      "Processing vec soyo:  58%|█████▊    | 79/137 [00:06<00:02, 20.60it/s]\n",
      "Processing vec soyo:  60%|█████▉    | 82/137 [00:06<00:02, 19.81it/s]\n",
      "Processing vec soyo:  62%|██████▏   | 85/137 [00:07<00:02, 19.87it/s]\n",
      "Processing vec soyo:  64%|██████▍   | 88/137 [00:07<00:02, 18.98it/s]\n",
      "Processing vec soyo:  66%|██████▌   | 90/137 [00:07<00:02, 18.15it/s]\n",
      "Processing vec soyo:  67%|██████▋   | 92/137 [00:07<00:02, 17.48it/s]\n",
      "Processing vec soyo:  69%|██████▊   | 94/137 [00:07<00:02, 17.70it/s]\n",
      "Processing vec soyo:  70%|███████   | 96/137 [00:07<00:02, 17.80it/s]\n",
      "Processing vec soyo:  72%|███████▏  | 98/137 [00:07<00:02, 18.04it/s]\n",
      "Processing vec soyo:  74%|███████▎  | 101/137 [00:07<00:01, 20.18it/s]\n",
      "Processing vec soyo:  77%|███████▋  | 105/137 [00:08<00:01, 24.67it/s]\n",
      "Processing vec soyo:  79%|███████▉  | 108/137 [00:08<00:01, 22.98it/s]\n",
      "Processing vec soyo:  81%|████████  | 111/137 [00:08<00:01, 21.13it/s]\n",
      "Processing vec soyo:  83%|████████▎ | 114/137 [00:08<00:01, 20.05it/s]\n",
      "Processing vec soyo:  85%|████████▌ | 117/137 [00:08<00:00, 21.06it/s]\n",
      "Processing vec soyo:  88%|████████▊ | 120/137 [00:08<00:00, 21.20it/s]\n",
      "Processing vec soyo:  90%|████████▉ | 123/137 [00:08<00:00, 23.09it/s]\n",
      "Processing vec soyo:  92%|█████████▏| 126/137 [00:09<00:00, 18.73it/s]\n",
      "Processing vec soyo:  94%|█████████▍| 129/137 [00:09<00:00, 17.85it/s]\n",
      "Processing vec soyo:  96%|█████████▌| 131/137 [00:09<00:00, 17.85it/s]\n",
      "Processing vec soyo:  97%|█████████▋| 133/137 [00:09<00:00, 17.75it/s]\n",
      "Processing vec soyo:  99%|█████████▊| 135/137 [00:09<00:00, 18.06it/s]\n",
      "Processing vec soyo: 100%|██████████| 137/137 [00:09<00:00, 14.17it/s]\n"
     ]
    }
   ],
   "source": [
    "!python prepare/preprocess_hubert.py -w data_svc/waves-16k/ -v data_svc/hubert"
   ]
  },
  {
   "cell_type": "code",
   "execution_count": 8,
   "id": "f09470bb-de30-44c4-ab04-62abd15215ea",
   "metadata": {
    "tags": []
   },
   "outputs": [
    {
     "name": "stdout",
     "output_type": "stream",
     "text": [
      " > Setting up Audio Processor...\n",
      " | > sample_rate:16000\n",
      " | > resample:False\n",
      " | > num_mels:80\n",
      " | > log_func:np.log10\n",
      " | > min_level_db:-100\n",
      " | > frame_shift_ms:None\n",
      " | > frame_length_ms:None\n",
      " | > ref_level_db:20\n",
      " | > fft_size:1024\n",
      " | > power:1.5\n",
      " | > preemphasis:0.98\n",
      " | > griffin_lim_iters:60\n",
      " | > signal_norm:True\n",
      " | > symmetric_norm:True\n",
      " | > mel_fmin:0\n",
      " | > mel_fmax:8000.0\n",
      " | > spec_gain:20.0\n",
      " | > stft_pad_mode:reflect\n",
      " | > max_norm:4.0\n",
      " | > clip_norm:True\n",
      " | > do_trim_silence:True\n",
      " | > trim_db:60\n",
      " | > do_sound_norm:False\n",
      " | > do_amp_to_db_linear:True\n",
      " | > do_amp_to_db_mel:True\n",
      " | > stats_path:None\n",
      " | > base:10\n",
      " | > hop_length:256\n",
      " | > win_length:1024\n"
     ]
    },
    {
     "name": "stderr",
     "output_type": "stream",
     "text": [
      "\n",
      "  0%|          | 0/137 [00:00<?, ?it/s]\n",
      "  1%|          | 1/137 [00:01<04:24,  1.94s/it]\n",
      "  2%|▏         | 3/137 [00:02<01:13,  1.83it/s]\n",
      "  4%|▎         | 5/137 [00:02<00:38,  3.39it/s]\n",
      "  5%|▌         | 7/137 [00:02<00:25,  5.12it/s]\n",
      "  7%|▋         | 9/137 [00:02<00:18,  6.96it/s]\n",
      "  8%|▊         | 11/137 [00:02<00:14,  8.91it/s]\n",
      "  9%|▉         | 13/137 [00:02<00:11, 10.91it/s]\n",
      " 11%|█         | 15/137 [00:02<00:09, 12.53it/s]\n",
      " 12%|█▏        | 17/137 [00:02<00:08, 14.04it/s]\n",
      " 14%|█▍        | 19/137 [00:02<00:07, 15.18it/s]\n",
      " 15%|█▌        | 21/137 [00:03<00:07, 16.28it/s]\n",
      " 17%|█▋        | 23/137 [00:03<00:06, 16.60it/s]\n",
      " 18%|█▊        | 25/137 [00:03<00:06, 16.94it/s]\n",
      " 20%|█▉        | 27/137 [00:03<00:06, 17.69it/s]\n",
      " 21%|██        | 29/137 [00:03<00:05, 18.32it/s]\n",
      " 23%|██▎       | 31/137 [00:03<00:05, 18.28it/s]\n",
      " 24%|██▍       | 33/137 [00:03<00:05, 18.68it/s]\n",
      " 26%|██▌       | 35/137 [00:03<00:05, 18.82it/s]\n",
      " 28%|██▊       | 38/137 [00:03<00:05, 18.90it/s]\n",
      " 29%|██▉       | 40/137 [00:04<00:05, 18.78it/s]\n",
      " 31%|███▏      | 43/137 [00:04<00:04, 19.29it/s]\n",
      " 33%|███▎      | 45/137 [00:04<00:04, 19.25it/s]\n",
      " 34%|███▍      | 47/137 [00:04<00:04, 19.09it/s]\n",
      " 36%|███▌      | 49/137 [00:04<00:04, 19.18it/s]\n",
      " 38%|███▊      | 52/137 [00:04<00:04, 19.38it/s]\n",
      " 40%|████      | 55/137 [00:04<00:04, 19.56it/s]\n",
      " 42%|████▏     | 58/137 [00:04<00:03, 19.92it/s]\n",
      " 45%|████▍     | 61/137 [00:05<00:03, 20.24it/s]\n",
      " 47%|████▋     | 64/137 [00:05<00:03, 20.30it/s]\n",
      " 49%|████▉     | 67/137 [00:05<00:03, 20.37it/s]\n",
      " 51%|█████     | 70/137 [00:05<00:03, 19.85it/s]\n",
      " 53%|█████▎    | 73/137 [00:05<00:03, 20.11it/s]\n",
      " 55%|█████▌    | 76/137 [00:05<00:03, 19.46it/s]\n",
      " 57%|█████▋    | 78/137 [00:05<00:03, 18.97it/s]\n",
      " 58%|█████▊    | 80/137 [00:06<00:03, 18.44it/s]\n",
      " 60%|█████▉    | 82/137 [00:06<00:03, 18.05it/s]\n",
      " 61%|██████▏   | 84/137 [00:06<00:02, 18.14it/s]\n",
      " 63%|██████▎   | 86/137 [00:06<00:02, 17.98it/s]\n",
      " 64%|██████▍   | 88/137 [00:06<00:02, 17.85it/s]\n",
      " 66%|██████▌   | 90/137 [00:06<00:02, 17.20it/s]\n",
      " 67%|██████▋   | 92/137 [00:06<00:02, 17.38it/s]\n",
      " 69%|██████▊   | 94/137 [00:06<00:02, 17.75it/s]\n",
      " 70%|███████   | 96/137 [00:07<00:02, 17.23it/s]\n",
      " 72%|███████▏  | 98/137 [00:07<00:02, 17.01it/s]\n",
      " 73%|███████▎  | 100/137 [00:07<00:02, 16.40it/s]\n",
      " 74%|███████▍  | 102/137 [00:07<00:02, 16.57it/s]\n",
      " 76%|███████▌  | 104/137 [00:07<00:01, 16.69it/s]\n",
      " 77%|███████▋  | 106/137 [00:07<00:01, 16.70it/s]\n",
      " 79%|███████▉  | 108/137 [00:07<00:01, 16.05it/s]\n",
      " 80%|████████  | 110/137 [00:07<00:01, 15.47it/s]\n",
      " 82%|████████▏ | 112/137 [00:08<00:01, 15.26it/s]\n",
      " 83%|████████▎ | 114/137 [00:08<00:01, 15.13it/s]\n",
      " 85%|████████▍ | 116/137 [00:08<00:01, 15.20it/s]\n",
      " 86%|████████▌ | 118/137 [00:08<00:01, 14.43it/s]\n",
      " 88%|████████▊ | 120/137 [00:08<00:01, 14.67it/s]\n",
      " 89%|████████▉ | 122/137 [00:08<00:00, 15.22it/s]\n",
      " 91%|█████████ | 125/137 [00:08<00:00, 16.68it/s]\n",
      " 93%|█████████▎| 127/137 [00:08<00:00, 16.56it/s]\n",
      " 94%|█████████▍| 129/137 [00:09<00:00, 17.27it/s]\n",
      " 96%|█████████▌| 131/137 [00:09<00:00, 17.08it/s]\n",
      " 98%|█████████▊| 134/137 [00:09<00:00, 18.81it/s]\n",
      " 99%|█████████▉| 136/137 [00:09<00:00, 18.98it/s]\n",
      "100%|██████████| 137/137 [00:09<00:00, 14.44it/s]\n"
     ]
    }
   ],
   "source": [
    "!python prepare/preprocess_speaker.py data_svc/waves-16k/ data_svc/speaker"
   ]
  },
  {
   "cell_type": "code",
   "execution_count": 9,
   "id": "6db4dea3-013a-4d1e-8428-ddc7e7ac73a0",
   "metadata": {
    "tags": []
   },
   "outputs": [
    {
     "name": "stderr",
     "output_type": "stream",
     "text": [
      "\n",
      "average soyo:   0%|          | 0/137 [00:00<?, ?it/s]\n",
      "average soyo: 100%|██████████| 137/137 [00:00<00:00, 5677.27it/s]\n"
     ]
    }
   ],
   "source": [
    "!python prepare/preprocess_speaker_ave.py data_svc/speaker/ data_svc/singer"
   ]
  },
  {
   "cell_type": "code",
   "execution_count": 10,
   "id": "a3977c3b-dc2c-4862-8a3c-ca4d5900789d",
   "metadata": {
    "tags": []
   },
   "outputs": [
    {
     "name": "stdout",
     "output_type": "stream",
     "text": [
      "data_svc/waves-32k/\n",
      "data_svc/specs\n"
     ]
    },
    {
     "name": "stderr",
     "output_type": "stream",
     "text": [
      "\n",
      "Processing spec soyo:   0%|          | 0/137 [00:00<?, ?it/s]e:\\.env\\sovit5\\lib\\site-packages\\torch\\functional.py:665: UserWarning: stft with return_complex=False is deprecated. In a future pytorch release, stft will return complex tensors for all inputs, and return_complex=False will raise an error.\n",
      "Note: you can still call torch.view_as_real on the complex output to recover the old return format. (Triggered internally at C:\\actions-runner\\_work\\pytorch\\pytorch\\builder\\windows\\pytorch\\aten\\src\\ATen\\native\\SpectralOps.cpp:878.)\n",
      "  return _VF.stft(input, n_fft, hop_length, win_length, window,  # type: ignore[attr-defined]\n",
      "\n",
      "Processing spec soyo:   3%|▎         | 4/137 [00:00<00:03, 36.23it/s]\n",
      "Processing spec soyo:   7%|▋         | 10/137 [00:00<00:02, 49.57it/s]\n",
      "Processing spec soyo:  12%|█▏        | 16/137 [00:00<00:02, 53.89it/s]\n",
      "Processing spec soyo:  16%|█▌        | 22/137 [00:00<00:02, 55.43it/s]\n",
      "Processing spec soyo:  20%|██        | 28/137 [00:00<00:01, 55.80it/s]\n",
      "Processing spec soyo:  25%|██▍       | 34/137 [00:00<00:01, 55.07it/s]\n",
      "Processing spec soyo:  29%|██▉       | 40/137 [00:00<00:01, 54.17it/s]\n",
      "Processing spec soyo:  34%|███▍      | 47/137 [00:00<00:01, 55.89it/s]\n",
      "Processing spec soyo:  39%|███▊      | 53/137 [00:00<00:01, 55.80it/s]\n",
      "Processing spec soyo:  43%|████▎     | 59/137 [00:01<00:01, 55.58it/s]\n",
      "Processing spec soyo:  47%|████▋     | 65/137 [00:01<00:01, 56.04it/s]\n",
      "Processing spec soyo:  52%|█████▏    | 71/137 [00:01<00:01, 55.84it/s]\n",
      "Processing spec soyo:  56%|█████▌    | 77/137 [00:01<00:01, 55.17it/s]\n",
      "Processing spec soyo:  61%|██████    | 83/137 [00:01<00:01, 53.81it/s]\n",
      "Processing spec soyo:  65%|██████▍   | 89/137 [00:01<00:00, 52.32it/s]\n",
      "Processing spec soyo:  69%|██████▉   | 95/137 [00:01<00:00, 51.34it/s]\n",
      "Processing spec soyo:  74%|███████▎  | 101/137 [00:01<00:00, 50.46it/s]\n",
      "Processing spec soyo:  78%|███████▊  | 107/137 [00:02<00:00, 50.13it/s]\n",
      "Processing spec soyo:  82%|████████▏ | 113/137 [00:02<00:00, 51.01it/s]\n",
      "Processing spec soyo:  87%|████████▋ | 119/137 [00:02<00:00, 50.59it/s]\n",
      "Processing spec soyo:  91%|█████████ | 125/137 [00:02<00:00, 52.54it/s]\n",
      "Processing spec soyo:  96%|█████████▌| 131/137 [00:02<00:00, 51.58it/s]\n",
      "Processing spec soyo: 100%|██████████| 137/137 [00:02<00:00, 53.39it/s]\n"
     ]
    }
   ],
   "source": [
    "!python prepare/preprocess_spec.py -w data_svc/waves-32k/ -s data_svc/specs"
   ]
  },
  {
   "cell_type": "code",
   "execution_count": 11,
   "id": "5d473682-e8dd-4905-8a42-6b61b86e6927",
   "metadata": {
    "tags": []
   },
   "outputs": [
    {
     "name": "stdout",
     "output_type": "stream",
     "text": [
      "././data_svc/waves-32k//soyo\n"
     ]
    }
   ],
   "source": [
    "!python prepare/preprocess_train.py"
   ]
  },
  {
   "cell_type": "code",
   "execution_count": 12,
   "id": "959e4a1f",
   "metadata": {},
   "outputs": [
    {
     "name": "stdout",
     "output_type": "stream",
     "text": [
      "----------10----------\n"
     ]
    },
    {
     "name": "stderr",
     "output_type": "stream",
     "text": [
      "\n",
      "  0%|          | 0/10 [00:00<?, ?it/s]\n",
      " 60%|██████    | 6/10 [00:00<00:00, 58.21it/s]\n",
      "100%|██████████| 10/10 [00:00<00:00, 61.37it/s]\n",
      "\n",
      "  0%|          | 0/3 [00:00<?, ?it/s]\n",
      " 33%|███▎      | 1/3 [00:00<00:00,  3.96it/s]\n",
      "100%|██████████| 3/3 [00:00<00:00,  9.05it/s]\n",
      "100%|██████████| 3/3 [00:00<00:00,  8.02it/s]\n"
     ]
    }
   ],
   "source": [
    "!python prepare/preprocess_zzz.py"
   ]
  },
  {
   "cell_type": "code",
   "execution_count": 10,
   "id": "aad019ac-f1e9-4d47-8262-425833a28410",
   "metadata": {
    "collapsed": true,
    "jupyter": {
     "outputs_hidden": true
    },
    "scrolled": true,
    "tags": []
   },
   "outputs": [
    {
     "name": "stdout",
     "output_type": "stream",
     "text": [
      "^C\n"
     ]
    }
   ],
   "source": [
    "!python svc_trainer.py -c configs/base.yaml -n soyo"
   ]
  },
  {
   "cell_type": "code",
   "execution_count": 1,
   "id": "96319503-1e62-47fc-a305-9c0e0b695ab6",
   "metadata": {
    "collapsed": true,
    "jupyter": {
     "outputs_hidden": true
    },
    "tags": []
   },
   "outputs": [],
   "source": [
    "!python svc_trainer.py -c configs/base.yaml -n soyo -p chkpt/soyo/soyo_1165.pt"
   ]
  },
  {
   "cell_type": "code",
   "execution_count": null,
   "id": "40f9740d-b314-43ff-93d4-2748f5333cb8",
   "metadata": {
    "collapsed": true,
    "jupyter": {
     "outputs_hidden": true
    },
    "tags": []
   },
   "outputs": [],
   "source": [
    "!python svc_trainer.py -c configs/base.yaml -n sovits5_no_aug_2 -p chkpt/sovits5_no_aug/sovits5_no_aug_6800.pt"
   ]
  },
  {
   "cell_type": "code",
   "execution_count": 14,
   "id": "4d43f96e-7bd7-4792-b718-a7b25e7e14f6",
   "metadata": {
    "tags": []
   },
   "outputs": [
    {
     "name": "stderr",
     "output_type": "stream",
     "text": [
      "INFO:__main__:got 1 speakers: ['soyo']\n",
      "INFO:__main__:create indexes folder e:\\Data\\Code\\so-vits-svc-5.0\\data_svc\\indexes\n",
      "INFO:__main__:create hubert index for speaker soyo\n",
      "INFO:feature_retrieval.index:start getting feature vectors from e:\\Data\\Code\\so-vits-svc-5.0\\data_svc\\hubert\\soyo\n",
      "INFO:feature_retrieval.index:apply transform to feature matrix\n",
      "INFO:feature_retrieval.transform:condition is not passed. Transform by rule DummyFeatureTransform\n",
      "INFO:feature_retrieval.index:adding features to index with training\n",
      "INFO:feature_retrieval.index:index is trained. Took 23.91 seconds\n",
      "INFO:feature_retrieval.index:adding 23 batches to index\n",
      "\n",
      "  0%|          | 0/23 [00:00<?, ?it/s]\n",
      "  4%|▍         | 1/23 [00:00<00:02,  9.16it/s]\n",
      "  9%|▊         | 2/23 [00:00<00:02,  9.19it/s]\n",
      " 13%|█▎        | 3/23 [00:00<00:02,  9.19it/s]\n",
      " 17%|█▋        | 4/23 [00:00<00:02,  9.08it/s]\n",
      " 22%|██▏       | 5/23 [00:00<00:01,  9.19it/s]\n",
      " 26%|██▌       | 6/23 [00:00<00:01,  9.29it/s]\n",
      " 30%|███       | 7/23 [00:00<00:01,  9.13it/s]\n",
      " 35%|███▍      | 8/23 [00:00<00:01,  8.99it/s]\n",
      " 39%|███▉      | 9/23 [00:00<00:01,  9.03it/s]\n",
      " 43%|████▎     | 10/23 [00:01<00:01,  9.02it/s]\n",
      " 48%|████▊     | 11/23 [00:01<00:01,  9.07it/s]\n",
      " 52%|█████▏    | 12/23 [00:01<00:01,  9.08it/s]\n",
      " 57%|█████▋    | 13/23 [00:01<00:01,  9.12it/s]\n",
      " 61%|██████    | 14/23 [00:01<00:00,  9.03it/s]\n",
      " 65%|██████▌   | 15/23 [00:01<00:00,  8.86it/s]\n",
      " 70%|██████▉   | 16/23 [00:01<00:00,  8.93it/s]\n",
      " 74%|███████▍  | 17/23 [00:01<00:00,  9.02it/s]\n",
      " 78%|███████▊  | 18/23 [00:01<00:00,  9.14it/s]\n",
      " 83%|████████▎ | 19/23 [00:02<00:00,  9.08it/s]\n",
      " 87%|████████▋ | 20/23 [00:02<00:00,  9.05it/s]\n",
      " 91%|█████████▏| 21/23 [00:02<00:00,  9.12it/s]\n",
      " 96%|█████████▌| 22/23 [00:02<00:00,  9.05it/s]\n",
      "100%|██████████| 23/23 [00:02<00:00,  9.17it/s]\n",
      "100%|██████████| 23/23 [00:02<00:00,  9.09it/s]\n",
      "INFO:feature_retrieval.index:all batches added. Took 2.53 seconds\n",
      "INFO:feature_retrieval.index:index saved to e:\\Data\\Code\\so-vits-svc-5.0\\data_svc\\indexes\\soyo\\hubert.index\n",
      "INFO:__main__:create whisper index for speaker soyo\n",
      "INFO:feature_retrieval.index:start getting feature vectors from e:\\Data\\Code\\so-vits-svc-5.0\\data_svc\\whisper\\soyo\n",
      "INFO:feature_retrieval.index:apply transform to feature matrix\n",
      "INFO:feature_retrieval.transform:condition is not passed. Transform by rule DummyFeatureTransform\n",
      "INFO:feature_retrieval.index:adding features to index with training\n",
      "INFO:feature_retrieval.index:index is trained. Took 78.97 seconds\n",
      "INFO:feature_retrieval.index:adding 23 batches to index\n",
      "\n",
      "  0%|          | 0/23 [00:00<?, ?it/s]\n",
      "  4%|▍         | 1/23 [00:00<00:06,  3.29it/s]\n",
      "  9%|▊         | 2/23 [00:00<00:07,  2.94it/s]\n",
      " 13%|█▎        | 3/23 [00:01<00:06,  2.95it/s]\n",
      " 17%|█▋        | 4/23 [00:01<00:06,  2.96it/s]\n",
      " 22%|██▏       | 5/23 [00:01<00:06,  2.94it/s]\n",
      " 26%|██▌       | 6/23 [00:02<00:05,  2.88it/s]\n",
      " 30%|███       | 7/23 [00:02<00:05,  2.92it/s]\n",
      " 35%|███▍      | 8/23 [00:02<00:05,  2.96it/s]\n",
      " 39%|███▉      | 9/23 [00:03<00:04,  2.95it/s]\n",
      " 43%|████▎     | 10/23 [00:03<00:04,  2.89it/s]\n",
      " 48%|████▊     | 11/23 [00:03<00:04,  2.90it/s]\n",
      " 52%|█████▏    | 12/23 [00:04<00:03,  2.95it/s]\n",
      " 57%|█████▋    | 13/23 [00:04<00:03,  3.02it/s]\n",
      " 61%|██████    | 14/23 [00:04<00:02,  3.02it/s]\n",
      " 65%|██████▌   | 15/23 [00:05<00:02,  2.92it/s]\n",
      " 70%|██████▉   | 16/23 [00:05<00:02,  2.93it/s]\n",
      " 74%|███████▍  | 17/23 [00:05<00:02,  2.90it/s]\n",
      " 78%|███████▊  | 18/23 [00:06<00:01,  2.90it/s]\n",
      " 83%|████████▎ | 19/23 [00:06<00:01,  2.89it/s]\n",
      " 87%|████████▋ | 20/23 [00:06<00:01,  2.73it/s]\n",
      " 91%|█████████▏| 21/23 [00:07<00:00,  2.74it/s]\n",
      " 96%|█████████▌| 22/23 [00:07<00:00,  2.78it/s]\n",
      "100%|██████████| 23/23 [00:07<00:00,  2.79it/s]\n",
      "100%|██████████| 23/23 [00:07<00:00,  2.89it/s]\n",
      "INFO:feature_retrieval.index:all batches added. Took 7.97 seconds\n",
      "INFO:feature_retrieval.index:index saved to e:\\Data\\Code\\so-vits-svc-5.0\\data_svc\\indexes\\soyo\\whisper.index\n",
      "INFO:__main__:done!\n"
     ]
    }
   ],
   "source": [
    "!python svc_train_retrieval.py --speakers soyo"
   ]
  },
  {
   "cell_type": "code",
   "execution_count": null,
   "id": "6581e654",
   "metadata": {},
   "outputs": [],
   "source": [
    "!tar -czvf archive.tar.gz data_scv data_svc_no_aug chkpt"
   ]
  },
  {
   "cell_type": "markdown",
   "id": "bd0e4e3b-c605-4604-938e-de0c02c9e00f",
   "metadata": {},
   "source": [
    "# 提取，融合"
   ]
  },
  {
   "cell_type": "code",
   "execution_count": 11,
   "id": "714501bb",
   "metadata": {},
   "outputs": [
    {
     "name": "stdout",
     "output_type": "stream",
     "text": [
      "chkpt\\soyo\\soyo_0425.pt\n",
      "chkpt\\soyo\\soyo_0385.pt\n",
      "0.5\n"
     ]
    }
   ],
   "source": [
    "!python svc_merge.py --model1 chkpt\\soyo\\soyo_0425.pt --model2 chkpt\\soyo\\soyo_0385.pt --rate 0.5"
   ]
  },
  {
   "cell_type": "code",
   "execution_count": 4,
   "id": "97b03a91",
   "metadata": {},
   "outputs": [
    {
     "ename": "",
     "evalue": "",
     "output_type": "error",
     "traceback": [
      "\u001b[1;31mThe Kernel crashed while executing code in the current cell or a previous cell. \n",
      "\u001b[1;31mPlease review the code in the cell(s) to identify a possible cause of the failure. \n",
      "\u001b[1;31mClick <a href='https://aka.ms/vscodeJupyterKernelCrash'>here</a> for more info. \n",
      "\u001b[1;31mView Jupyter <a href='command:jupyter.viewOutput'>log</a> for further details."
     ]
    }
   ],
   "source": [
    "from svc_merge import load_model,average_model,save_model\n",
    "# s1 = load_model('chkpt\\soyo\\soyo_0425.pt')\n",
    "s2 = load_model('chkpt\\soyo\\soyo_1165.pt')\n",
    "s3 = load_model('chkpt\\soyo\\soyo_1160.pt')\n",
    "s4 = load_model('chkpt\\soyo\\soyo_1050.pt')\n",
    "s5 = load_model('chkpt\\soyo\\soyo_1125.pt')\n",
    "\n",
    "# s3 = load_model('chkpt\\sovits5.0\\sovits5.0_0655.pt')\n",
    "\n",
    "avg_model = average_model([s2,s3,s4,s5],[0.2,0.2,0.2,0.2])\n",
    "save_model(avg_model, \"soyo_avg.pth\")"
   ]
  },
  {
   "cell_type": "code",
   "execution_count": 18,
   "id": "9ac68cb5",
   "metadata": {},
   "outputs": [
    {
     "name": "stderr",
     "output_type": "stream",
     "text": [
      "INFO:__main__:got 1 speakers: ['soyo']\n",
      "INFO:__main__:create indexes folder e:\\Data\\Code\\so-vits-svc-5.0\\data_svc\\indexes\n",
      "INFO:__main__:create hubert index for speaker soyo\n",
      "INFO:feature_retrieval.index:start getting feature vectors from e:\\Data\\Code\\so-vits-svc-5.0\\data_svc\\hubert\\soyo\n",
      "INFO:feature_retrieval.index:apply transform to feature matrix\n",
      "INFO:feature_retrieval.transform:condition is not passed. Transform by rule DummyFeatureTransform\n",
      "INFO:feature_retrieval.index:adding features to index with training\n",
      "INFO:feature_retrieval.index:index is trained. Took 24.61 seconds\n",
      "INFO:feature_retrieval.index:adding 23 batches to index\n",
      "\n",
      "  0%|          | 0/23 [00:00<?, ?it/s]\n",
      "  4%|▍         | 1/23 [00:00<00:02,  8.84it/s]\n",
      "  9%|▊         | 2/23 [00:00<00:02,  8.25it/s]\n",
      " 13%|█▎        | 3/23 [00:00<00:02,  8.40it/s]\n",
      " 17%|█▋        | 4/23 [00:00<00:02,  8.81it/s]\n",
      " 22%|██▏       | 5/23 [00:00<00:01,  9.14it/s]\n",
      " 30%|███       | 7/23 [00:00<00:01,  9.39it/s]\n",
      " 35%|███▍      | 8/23 [00:00<00:01,  9.40it/s]\n",
      " 39%|███▉      | 9/23 [00:00<00:01,  9.37it/s]\n",
      " 43%|████▎     | 10/23 [00:01<00:01,  9.38it/s]\n",
      " 48%|████▊     | 11/23 [00:01<00:01,  9.27it/s]\n",
      " 52%|█████▏    | 12/23 [00:01<00:01,  9.11it/s]\n",
      " 57%|█████▋    | 13/23 [00:01<00:01,  9.32it/s]\n",
      " 65%|██████▌   | 15/23 [00:01<00:00,  9.59it/s]\n",
      " 70%|██████▉   | 16/23 [00:01<00:00,  9.54it/s]\n",
      " 74%|███████▍  | 17/23 [00:01<00:00,  9.50it/s]\n",
      " 78%|███████▊  | 18/23 [00:01<00:00,  9.36it/s]\n",
      " 83%|████████▎ | 19/23 [00:02<00:00,  9.11it/s]\n",
      " 87%|████████▋ | 20/23 [00:02<00:00,  9.08it/s]\n",
      " 91%|█████████▏| 21/23 [00:02<00:00,  9.12it/s]\n",
      " 96%|█████████▌| 22/23 [00:02<00:00,  9.12it/s]\n",
      "100%|██████████| 23/23 [00:02<00:00,  9.13it/s]\n",
      "100%|██████████| 23/23 [00:02<00:00,  9.20it/s]\n",
      "INFO:feature_retrieval.index:all batches added. Took 2.52 seconds\n",
      "INFO:feature_retrieval.index:index saved to e:\\Data\\Code\\so-vits-svc-5.0\\data_svc\\indexes\\soyo\\hubert.index\n",
      "INFO:__main__:create whisper index for speaker soyo\n",
      "INFO:feature_retrieval.index:start getting feature vectors from e:\\Data\\Code\\so-vits-svc-5.0\\data_svc\\whisper\\soyo\n",
      "INFO:feature_retrieval.index:apply transform to feature matrix\n",
      "INFO:feature_retrieval.transform:condition is not passed. Transform by rule DummyFeatureTransform\n",
      "INFO:feature_retrieval.index:adding features to index with training\n",
      "INFO:feature_retrieval.index:index is trained. Took 74.89 seconds\n",
      "INFO:feature_retrieval.index:adding 23 batches to index\n",
      "\n",
      "  0%|          | 0/23 [00:00<?, ?it/s]\n",
      "  4%|▍         | 1/23 [00:00<00:09,  2.32it/s]\n",
      "  9%|▊         | 2/23 [00:00<00:07,  2.71it/s]\n",
      " 13%|█▎        | 3/23 [00:01<00:08,  2.47it/s]\n",
      " 17%|█▋        | 4/23 [00:01<00:07,  2.52it/s]\n",
      " 22%|██▏       | 5/23 [00:02<00:07,  2.38it/s]\n",
      " 26%|██▌       | 6/23 [00:02<00:07,  2.40it/s]\n",
      " 30%|███       | 7/23 [00:02<00:07,  2.27it/s]\n",
      " 35%|███▍      | 8/23 [00:03<00:06,  2.29it/s]\n",
      " 39%|███▉      | 9/23 [00:03<00:06,  2.24it/s]\n",
      " 43%|████▎     | 10/23 [00:04<00:05,  2.23it/s]\n",
      " 48%|████▊     | 11/23 [00:04<00:05,  2.24it/s]\n",
      " 52%|█████▏    | 12/23 [00:05<00:04,  2.31it/s]\n",
      " 57%|█████▋    | 13/23 [00:05<00:04,  2.26it/s]\n",
      " 61%|██████    | 14/23 [00:06<00:03,  2.31it/s]\n",
      " 65%|██████▌   | 15/23 [00:06<00:03,  2.33it/s]\n",
      " 70%|██████▉   | 16/23 [00:06<00:02,  2.43it/s]\n",
      " 74%|███████▍  | 17/23 [00:07<00:02,  2.57it/s]\n",
      " 78%|███████▊  | 18/23 [00:07<00:01,  2.69it/s]\n",
      " 83%|████████▎ | 19/23 [00:07<00:01,  2.76it/s]\n",
      " 87%|████████▋ | 20/23 [00:08<00:01,  2.82it/s]\n",
      " 91%|█████████▏| 21/23 [00:08<00:00,  2.85it/s]\n",
      " 96%|█████████▌| 22/23 [00:08<00:00,  2.87it/s]\n",
      "100%|██████████| 23/23 [00:09<00:00,  2.79it/s]\n",
      "100%|██████████| 23/23 [00:09<00:00,  2.49it/s]\n",
      "INFO:feature_retrieval.index:all batches added. Took 9.22 seconds\n",
      "INFO:feature_retrieval.index:index saved to e:\\Data\\Code\\so-vits-svc-5.0\\data_svc\\indexes\\soyo\\whisper.index\n",
      "INFO:__main__:done!\n"
     ]
    }
   ],
   "source": [
    "!python svc_train_retrieval.py"
   ]
  },
  {
   "cell_type": "code",
   "execution_count": 2,
   "id": "5cab3617",
   "metadata": {},
   "outputs": [
    {
     "name": "stderr",
     "output_type": "stream",
     "text": [
      "e:\\.env\\sovit5\\lib\\site-packages\\torch\\nn\\utils\\weight_norm.py:28: UserWarning: torch.nn.utils.weight_norm is deprecated in favor of torch.nn.utils.parametrizations.weight_norm.\n",
      "  warnings.warn(\"torch.nn.utils.weight_norm is deprecated in favor of torch.nn.utils.parametrizations.weight_norm.\")\n"
     ]
    }
   ],
   "source": [
    "!python svc_export.py --config configs/base.yaml --checkpoint_path chkpt\\soyo\\soyo_1125.pt"
   ]
  },
  {
   "cell_type": "code",
   "execution_count": null,
   "id": "aed58ce6-c7cd-48f4-8e74-8cbbe053ca2a",
   "metadata": {
    "tags": []
   },
   "outputs": [],
   "source": [
    "!python svc_export.py --config configs/base.yaml --checkpoint_path sovits5_no_aug_kikyo_8200.pt"
   ]
  },
  {
   "cell_type": "code",
   "execution_count": null,
   "id": "128d8842-d226-4cce-9b5f-fba661023762",
   "metadata": {
    "tags": []
   },
   "outputs": [],
   "source": [
    "!python svc_export.py --config configs/base.yaml --checkpoint_path sovits5_kikyo_10000.pt"
   ]
  },
  {
   "cell_type": "code",
   "execution_count": null,
   "id": "1de417e2-f734-45b5-b181-6fc0abfb80ff",
   "metadata": {
    "tags": []
   },
   "outputs": [],
   "source": [
    "!python svc_merge.py --model1 sovits5_kikyo_10000.pt --model2 sovits5_no_aug_kikyo_8200.pt --rate 0.5"
   ]
  },
  {
   "cell_type": "code",
   "execution_count": null,
   "id": "27263a19-9e5a-4b49-b430-3e8d93aa130b",
   "metadata": {
    "tags": []
   },
   "outputs": [],
   "source": [
    "!python svc_eva.py"
   ]
  },
  {
   "cell_type": "markdown",
   "id": "c90079c6-1de3-49de-a4ca-36c9a2b888c7",
   "metadata": {},
   "source": [
    "# 推理"
   ]
  },
  {
   "cell_type": "code",
   "execution_count": 1,
   "id": "9c23d2b1",
   "metadata": {},
   "outputs": [
    {
     "name": "stdout",
     "output_type": "stream",
     "text": [
      "Auto run : python whisper/inference.py -w カタオモイ.wav -p svc_tmp.ppg.npy\n",
      "カタオモイ.wav\n",
      "svc_tmp.ppg.npy\n",
      "Auto run : python hubert/inference.py -w カタオモイ.wav -v svc_tmp.vec.npy\n",
      "カタオモイ.wav\n",
      "svc_tmp.vec.npy\n",
      "Auto run : python pitch/inference.py -w カタオモイ.wav -p svc_tmp.pit.csv\n",
      "カタオモイ.wav\n",
      "svc_tmp.pit.csv\n",
      "<feature_retrieval.retrieval.DummyRetrieval object at 0x000002CE4D6EA700>\n",
      "pitch shift:  2\n",
      "source pitch statics: mean=360.2,                 min=200.0, max=997.0\n",
      "pit? (6634880,)\n",
      "20734\n",
      "inference? torch.Size([1, 1, 803200])\n",
      "inference? torch.Size([1, 1, 806400])\n",
      "inference? torch.Size([1, 1, 806400])\n",
      "inference? torch.Size([1, 1, 806400])\n",
      "inference? torch.Size([1, 1, 806400])\n",
      "inference? torch.Size([1, 1, 806400])\n",
      "inference? torch.Size([1, 1, 806400])\n",
      "inference? torch.Size([1, 1, 806400])\n",
      "inference? torch.Size([1, 1, 238080])\n",
      "out? (6634879,)\n"
     ]
    },
    {
     "name": "stderr",
     "output_type": "stream",
     "text": [
      "e:\\.env\\sovit5\\lib\\site-packages\\torch\\nn\\utils\\weight_norm.py:28: UserWarning: torch.nn.utils.weight_norm is deprecated in favor of torch.nn.utils.parametrizations.weight_norm.\n",
      "  warnings.warn(\"torch.nn.utils.weight_norm is deprecated in favor of torch.nn.utils.parametrizations.weight_norm.\")\n",
      "e:\\.env\\sovit5\\lib\\site-packages\\torch\\nn\\modules\\transformer.py:685: UserWarning: 1Torch was not compiled with flash attention. (Triggered internally at C:\\actions-runner\\_work\\pytorch\\pytorch\\builder\\windows\\pytorch\\aten\\src\\ATen\\native\\transformers\\cuda\\sdp_utils.cpp:263.)\n",
      "  return torch._transformer_encoder_layer_fwd(\n",
      "e:\\.env\\sovit5\\lib\\site-packages\\torch\\nn\\utils\\weight_norm.py:28: UserWarning: torch.nn.utils.weight_norm is deprecated in favor of torch.nn.utils.parametrizations.weight_norm.\n",
      "  warnings.warn(\"torch.nn.utils.weight_norm is deprecated in favor of torch.nn.utils.parametrizations.weight_norm.\")\n",
      "INFO:__main__:infer without retrival\n"
     ]
    }
   ],
   "source": [
    "!python svc_inference.py --config configs/base.yaml --model soyo_avg.pth --spk ./data_svc/singer/soyo.spk.npy --wave カタオモイ.wav --shift 2\n",
    "#--enable-retrieval --retrieval-ratio 0.5 --n-retrieval-vectors 3"
   ]
  },
  {
   "cell_type": "code",
   "execution_count": null,
   "id": "c9904db9",
   "metadata": {},
   "outputs": [],
   "source": [
    "!ffmpeg -i raw/Beautiful_Soldier1.wav -ac 1 Beautiful_Soldier.wav -y"
   ]
  },
  {
   "cell_type": "code",
   "execution_count": 1,
   "id": "66e0438a-2ac2-4a32-99a1-659c21d34d09",
   "metadata": {
    "tags": []
   },
   "outputs": [],
   "source": [
    "!python svc_inference.py --config configs/base.yaml --model sovits5_no_aug_kikyo_8200.pth --spk kikyo.spk.npy --wave Beautiful_Soldier.wav --shift 1 #--enable-retrieval --retrieval-ratio 0.5 --n-retrieval-vectors 3"
   ]
  },
  {
   "cell_type": "code",
   "execution_count": 3,
   "id": "6fd8b7a4-bd1d-47db-9934-ac0b529f825f",
   "metadata": {
    "tags": []
   },
   "outputs": [
    {
     "name": "stdout",
     "output_type": "stream",
     "text": [
      "svc in wave : 1_1_化石.wav\n",
      "svc out wave : svc_out.wav\n",
      "svc post wave : svc_out_post.wav\n"
     ]
    }
   ],
   "source": [
    "!python svc_inference_post.py --ref 1_1_化石.wav --svc svc_out.wav --out svc_out_post.wav"
   ]
  },
  {
   "cell_type": "code",
   "execution_count": null,
   "id": "84562e8c-4496-4fde-9144-b81377efa53e",
   "metadata": {
    "tags": []
   },
   "outputs": [],
   "source": [
    "!python whisper/inference.py -w Beautiful_Soldier.wav -p Beautiful_Soldier.ppg.npy"
   ]
  },
  {
   "cell_type": "code",
   "execution_count": null,
   "id": "72793333-a3ca-43d5-bbac-b3c88d28ac5b",
   "metadata": {
    "tags": []
   },
   "outputs": [],
   "source": [
    "!python hubert/inference.py -w Beautiful_Soldier.wav -v Beautiful_Soldier.vec.npy"
   ]
  },
  {
   "cell_type": "code",
   "execution_count": null,
   "id": "97b9d268-870b-46dc-b56d-b997ced8d5c9",
   "metadata": {
    "tags": []
   },
   "outputs": [],
   "source": [
    "!python pitch/inference.py -w Beautiful_Soldier.wav -p Beautiful_Soldier.csv"
   ]
  },
  {
   "cell_type": "code",
   "execution_count": null,
   "id": "daea8539-5640-4b1a-b2f6-826cac32cf15",
   "metadata": {
    "tags": []
   },
   "outputs": [],
   "source": [
    "!python svc_inference.py --config configs/base.yaml --model sovits5_no_aug_kikyo.pth --spk kikyo.spk.npy --wave Rainy_proof.wav --ppg Rainy_proof.ppg.npy --vec Rainy_proof.vec.npy --pit Rainy_proof.csv --shift 0 \n",
    "# --enable-retrieval --retrieval-ratio 0.5 --n-retrieval-vectors 3"
   ]
  },
  {
   "cell_type": "code",
   "execution_count": null,
   "id": "a5dd91c0-df2f-485a-9598-2b421235dc34",
   "metadata": {
    "tags": []
   },
   "outputs": [],
   "source": [
    "!python svc_inference_post.py --ref Rainy_proof.wav --svc svc_out.wav --out svc_out_post.wav"
   ]
  }
 ],
 "metadata": {
  "kernelspec": {
   "display_name": "Python 3 (ipykernel)",
   "language": "python",
   "name": "python3"
  },
  "language_info": {
   "codemirror_mode": {
    "name": "ipython",
    "version": 3
   },
   "file_extension": ".py",
   "mimetype": "text/x-python",
   "name": "python",
   "nbconvert_exporter": "python",
   "pygments_lexer": "ipython3",
   "version": "3.9.6"
  }
 },
 "nbformat": 4,
 "nbformat_minor": 5
}
