{
 "cells": [
  {
   "cell_type": "markdown",
   "id": "5d96ae37",
   "metadata": {},
   "source": [
    "# Preprocessing"
   ]
  },
  {
   "cell_type": "code",
   "execution_count": 1,
   "id": "35aef9ba",
   "metadata": {
    "collapsed": true,
    "jupyter": {
     "outputs_hidden": true
    },
    "tags": []
   },
   "outputs": [
    {
     "name": "stdout",
     "output_type": "stream",
     "text": [
      "./wakamo_train\n",
      "./wakamo_train/wakamo_prepared\n"
     ]
    },
    {
     "name": "stderr",
     "output_type": "stream",
     "text": [
      "\n",
      "Converting to WAV: 0it [00:00, ?it/s]\n",
      "Converting to WAV: 0it [00:00, ?it/s]\n"
     ]
    }
   ],
   "source": [
    "!python prepare/Format_conversion.py -i ./wakamo_train -o ./wakamo_train/wakamo_prepared -t 10"
   ]
  },
  {
   "cell_type": "code",
   "execution_count": 1,
   "id": "893a5816",
   "metadata": {},
   "outputs": [
    {
     "name": "stdout",
     "output_type": "stream",
     "text": [
      "./soyo_train\n",
      "./data_svc/waves-16k\n",
      "16000\n"
     ]
    },
    {
     "name": "stderr",
     "output_type": "stream",
     "text": [
      "\n",
      "Processing 16000 soyo:   0%|          | 0/137 [00:00<?, ?it/s]\n",
      "Processing 16000 soyo:   1%|          | 1/137 [00:01<04:25,  1.95s/it]\n",
      "Processing 16000 soyo:   4%|▍         | 6/137 [00:02<00:34,  3.83it/s]\n",
      "Processing 16000 soyo:   8%|▊         | 11/137 [00:02<00:16,  7.73it/s]\n",
      "Processing 16000 soyo:  12%|█▏        | 16/137 [00:02<00:10, 12.08it/s]\n",
      "Processing 16000 soyo:  15%|█▌        | 21/137 [00:02<00:06, 16.63it/s]\n",
      "Processing 16000 soyo:  19%|█▉        | 26/137 [00:02<00:05, 21.13it/s]\n",
      "Processing 16000 soyo:  23%|██▎       | 31/137 [00:02<00:04, 25.22it/s]\n",
      "Processing 16000 soyo:  26%|██▋       | 36/137 [00:02<00:03, 28.76it/s]\n",
      "Processing 16000 soyo:  30%|██▉       | 41/137 [00:02<00:03, 31.62it/s]\n",
      "Processing 16000 soyo:  34%|███▎      | 46/137 [00:03<00:02, 33.99it/s]\n",
      "Processing 16000 soyo:  37%|███▋      | 51/137 [00:03<00:02, 36.00it/s]\n",
      "Processing 16000 soyo:  41%|████      | 56/137 [00:03<00:02, 37.22it/s]\n",
      "Processing 16000 soyo:  45%|████▍     | 61/137 [00:03<00:01, 38.27it/s]\n",
      "Processing 16000 soyo:  48%|████▊     | 66/137 [00:03<00:01, 38.91it/s]\n",
      "Processing 16000 soyo:  52%|█████▏    | 71/137 [00:03<00:01, 39.53it/s]\n",
      "Processing 16000 soyo:  55%|█████▌    | 76/137 [00:03<00:01, 39.91it/s]\n",
      "Processing 16000 soyo:  59%|█████▉    | 81/137 [00:03<00:01, 38.17it/s]\n",
      "Processing 16000 soyo:  62%|██████▏   | 85/137 [00:04<00:01, 37.00it/s]\n",
      "Processing 16000 soyo:  65%|██████▍   | 89/137 [00:04<00:01, 36.30it/s]\n",
      "Processing 16000 soyo:  68%|██████▊   | 93/137 [00:04<00:01, 35.51it/s]\n",
      "Processing 16000 soyo:  71%|███████   | 97/137 [00:04<00:01, 34.75it/s]\n",
      "Processing 16000 soyo:  74%|███████▎  | 101/137 [00:04<00:01, 34.37it/s]\n",
      "Processing 16000 soyo:  77%|███████▋  | 105/137 [00:04<00:00, 34.21it/s]\n",
      "Processing 16000 soyo:  80%|███████▉  | 109/137 [00:04<00:00, 34.33it/s]\n",
      "Processing 16000 soyo:  82%|████████▏ | 113/137 [00:04<00:00, 34.44it/s]\n",
      "Processing 16000 soyo:  85%|████████▌ | 117/137 [00:04<00:00, 34.41it/s]\n",
      "Processing 16000 soyo:  88%|████████▊ | 121/137 [00:05<00:00, 34.54it/s]\n",
      "Processing 16000 soyo:  92%|█████████▏| 126/137 [00:05<00:00, 36.48it/s]\n",
      "Processing 16000 soyo:  95%|█████████▍| 130/137 [00:05<00:00, 35.54it/s]\n",
      "Processing 16000 soyo:  99%|█████████▉| 136/137 [00:05<00:00, 39.68it/s]\n",
      "Processing 16000 soyo: 100%|██████████| 137/137 [00:05<00:00, 24.99it/s]\n"
     ]
    }
   ],
   "source": [
    "!python prepare/preprocess_a.py -w ./soyo_train -o ./data_svc/waves-16k -s 16000"
   ]
  },
  {
   "cell_type": "code",
   "execution_count": 2,
   "id": "cb3b68c0",
   "metadata": {},
   "outputs": [
    {
     "name": "stdout",
     "output_type": "stream",
     "text": [
      "./soyo_train\n",
      "./data_svc/waves-32k\n",
      "32000\n"
     ]
    },
    {
     "name": "stderr",
     "output_type": "stream",
     "text": [
      "\n",
      "Processing 32000 soyo:   0%|          | 0/137 [00:00<?, ?it/s]\n",
      "Processing 32000 soyo:   1%|          | 1/137 [00:01<04:19,  1.91s/it]\n",
      "Processing 32000 soyo:   4%|▎         | 5/137 [00:02<00:40,  3.23it/s]\n",
      "Processing 32000 soyo:   7%|▋         | 9/137 [00:02<00:19,  6.41it/s]\n",
      "Processing 32000 soyo:   9%|▉         | 13/137 [00:02<00:12,  9.95it/s]\n",
      "Processing 32000 soyo:  12%|█▏        | 17/137 [00:02<00:08, 13.63it/s]\n",
      "Processing 32000 soyo:  15%|█▌        | 21/137 [00:02<00:06, 17.30it/s]\n",
      "Processing 32000 soyo:  18%|█▊        | 25/137 [00:02<00:05, 20.71it/s]\n",
      "Processing 32000 soyo:  21%|██        | 29/137 [00:02<00:04, 23.72it/s]\n",
      "Processing 32000 soyo:  24%|██▍       | 33/137 [00:02<00:03, 26.12it/s]\n",
      "Processing 32000 soyo:  27%|██▋       | 37/137 [00:02<00:03, 28.07it/s]\n",
      "Processing 32000 soyo:  30%|██▉       | 41/137 [00:03<00:03, 29.50it/s]\n",
      "Processing 32000 soyo:  33%|███▎      | 45/137 [00:03<00:02, 30.80it/s]\n",
      "Processing 32000 soyo:  36%|███▌      | 49/137 [00:03<00:02, 31.51it/s]\n",
      "Processing 32000 soyo:  39%|███▊      | 53/137 [00:03<00:02, 31.90it/s]\n",
      "Processing 32000 soyo:  42%|████▏     | 57/137 [00:03<00:02, 32.23it/s]\n",
      "Processing 32000 soyo:  45%|████▍     | 61/137 [00:03<00:02, 32.97it/s]\n",
      "Processing 32000 soyo:  47%|████▋     | 65/137 [00:03<00:02, 33.18it/s]\n",
      "Processing 32000 soyo:  50%|█████     | 69/137 [00:03<00:02, 33.44it/s]\n",
      "Processing 32000 soyo:  53%|█████▎    | 73/137 [00:04<00:01, 34.21it/s]\n",
      "Processing 32000 soyo:  56%|█████▌    | 77/137 [00:04<00:01, 32.79it/s]\n",
      "Processing 32000 soyo:  59%|█████▉    | 81/137 [00:04<00:01, 31.48it/s]\n",
      "Processing 32000 soyo:  62%|██████▏   | 85/137 [00:04<00:01, 30.31it/s]\n",
      "Processing 32000 soyo:  65%|██████▍   | 89/137 [00:04<00:01, 29.87it/s]\n",
      "Processing 32000 soyo:  68%|██████▊   | 93/137 [00:04<00:01, 29.07it/s]\n",
      "Processing 32000 soyo:  70%|███████   | 96/137 [00:04<00:01, 29.14it/s]\n",
      "Processing 32000 soyo:  72%|███████▏  | 99/137 [00:04<00:01, 28.90it/s]\n",
      "Processing 32000 soyo:  74%|███████▍  | 102/137 [00:05<00:01, 28.58it/s]\n",
      "Processing 32000 soyo:  77%|███████▋  | 105/137 [00:05<00:01, 28.33it/s]\n",
      "Processing 32000 soyo:  79%|███████▉  | 108/137 [00:05<00:01, 28.31it/s]\n",
      "Processing 32000 soyo:  81%|████████  | 111/137 [00:05<00:00, 28.29it/s]\n",
      "Processing 32000 soyo:  83%|████████▎ | 114/137 [00:05<00:00, 27.99it/s]\n",
      "Processing 32000 soyo:  85%|████████▌ | 117/137 [00:05<00:00, 28.00it/s]\n",
      "Processing 32000 soyo:  88%|████████▊ | 120/137 [00:05<00:00, 28.17it/s]\n",
      "Processing 32000 soyo:  90%|████████▉ | 123/137 [00:05<00:00, 28.44it/s]\n",
      "Processing 32000 soyo:  93%|█████████▎| 127/137 [00:05<00:00, 28.92it/s]\n",
      "Processing 32000 soyo:  95%|█████████▍| 130/137 [00:06<00:00, 27.90it/s]\n",
      "Processing 32000 soyo:  99%|█████████▊| 135/137 [00:06<00:00, 32.84it/s]\n",
      "Processing 32000 soyo: 100%|██████████| 137/137 [00:06<00:00, 22.04it/s]\n"
     ]
    }
   ],
   "source": [
    "!python prepare/preprocess_a.py -w ./soyo_train -o ./data_svc/waves-32k -s 32000"
   ]
  },
  {
   "cell_type": "markdown",
   "id": "d70d5139",
   "metadata": {},
   "source": [
    "#### aug"
   ]
  },
  {
   "cell_type": "code",
   "execution_count": null,
   "id": "f91a5cec-8984-4d9a-bc59-a34c7e2d1489",
   "metadata": {
    "jupyter": {
     "source_hidden": true
    },
    "tags": []
   },
   "outputs": [],
   "source": [
    "# !python prepare/data_augmentation.py -w ./wakamo_train -o ./data_svc/waves-16k -s 16000 -t 0 --overall_prob 1 --gaussian_noise_prob 0.4 --time_stretch_prob 0.4 --pitch_shift_prob 0.4 --frequency_mask_prob 0.4 --time_mask_prob 0.4"
   ]
  },
  {
   "cell_type": "code",
   "execution_count": null,
   "id": "8454ea2f-f15d-4628-80b1-33dc32509d7b",
   "metadata": {},
   "outputs": [],
   "source": [
    "# !python prepare/data_augmentation.py -w ./kikyo_wav -o ./data_svc/waves-16k -s 16000 -t 0 --overall_prob 1 --gaussian_noise_prob 0.4 --time_stretch_prob 0.4 --pitch_shift_prob 0.4 --frequency_mask_prob 0.4 --time_mask_prob 0.4"
   ]
  },
  {
   "cell_type": "code",
   "execution_count": null,
   "id": "4512a0f7",
   "metadata": {},
   "outputs": [],
   "source": [
    "# !python prepare/data_augmentation.py -w ./kikyo_wav -o ./data_svc/waves-16k -s 16000 -t 0 --overall_prob 0 --gaussian_noise_prob 0 --time_stretch_prob 0 --pitch_shift_prob 0 --frequency_mask_prob 0 --time_mask_prob 0"
   ]
  },
  {
   "cell_type": "code",
   "execution_count": null,
   "id": "abb26dcd",
   "metadata": {},
   "outputs": [],
   "source": [
    "# !python prepare/data_augmentation.py -w ./kikyo_wav -o ./data_svc/waves-32k -s 32000 -t 0 --overall_prob 1 --gaussian_noise_prob 0.4 --time_stretch_prob 0.4 --pitch_shift_prob 0.4 --frequency_mask_prob 0.4 --time_mask_prob 0.4"
   ]
  },
  {
   "cell_type": "code",
   "execution_count": null,
   "id": "af08d197",
   "metadata": {
    "tags": []
   },
   "outputs": [],
   "source": [
    "# !python prepare/data_augmentation.py -w ./kikyo_wav -o ./data_svc/waves-32k -s 32000 -t 0 --overall_prob 0 --gaussian_noise_prob 0 --time_stretch_prob 0 --pitch_shift_prob 0 --frequency_mask_prob 0 --time_mask_prob 0"
   ]
  },
  {
   "cell_type": "markdown",
   "id": "f369543d",
   "metadata": {},
   "source": [
    "#### Go"
   ]
  },
  {
   "cell_type": "code",
   "execution_count": 3,
   "id": "e60b241d-cfab-45d5-a1c4-360dcf042c80",
   "metadata": {
    "tags": []
   },
   "outputs": [
    {
     "name": "stdout",
     "output_type": "stream",
     "text": [
      "data_svc/waves-16k/\n",
      "data_svc/pitch\n"
     ]
    },
    {
     "name": "stderr",
     "output_type": "stream",
     "text": [
      "\n",
      "Processing crepe soyo:   0%|          | 0/137 [00:00<?, ?it/s]\n",
      "Processing crepe soyo:   1%|          | 1/137 [00:02<06:34,  2.90s/it]\n",
      "Processing crepe soyo:   1%|▏         | 2/137 [00:03<04:07,  1.83s/it]\n",
      "Processing crepe soyo:   2%|▏         | 3/137 [00:05<03:17,  1.48s/it]\n",
      "Processing crepe soyo:   3%|▎         | 4/137 [00:06<02:55,  1.32s/it]\n",
      "Processing crepe soyo:   4%|▎         | 5/137 [00:07<02:44,  1.25s/it]\n",
      "Processing crepe soyo:   4%|▍         | 6/137 [00:08<02:35,  1.19s/it]\n",
      "Processing crepe soyo:   5%|▌         | 7/137 [00:09<02:26,  1.13s/it]\n",
      "Processing crepe soyo:   6%|▌         | 8/137 [00:10<02:21,  1.10s/it]\n",
      "Processing crepe soyo:   7%|▋         | 9/137 [00:11<02:15,  1.06s/it]\n",
      "Processing crepe soyo:   7%|▋         | 10/137 [00:12<02:12,  1.05s/it]\n",
      "Processing crepe soyo:   8%|▊         | 11/137 [00:13<02:11,  1.04s/it]\n",
      "Processing crepe soyo:   9%|▉         | 12/137 [00:14<02:09,  1.03s/it]\n",
      "Processing crepe soyo:   9%|▉         | 13/137 [00:15<02:07,  1.03s/it]\n",
      "Processing crepe soyo:  10%|█         | 14/137 [00:16<02:05,  1.02s/it]\n",
      "Processing crepe soyo:  11%|█         | 15/137 [00:17<02:05,  1.03s/it]\n",
      "Processing crepe soyo:  12%|█▏        | 16/137 [00:18<02:04,  1.03s/it]\n",
      "Processing crepe soyo:  12%|█▏        | 17/137 [00:19<02:04,  1.04s/it]\n",
      "Processing crepe soyo:  13%|█▎        | 18/137 [00:20<02:03,  1.04s/it]\n",
      "Processing crepe soyo:  14%|█▍        | 19/137 [00:21<02:01,  1.03s/it]\n",
      "Processing crepe soyo:  15%|█▍        | 20/137 [00:22<02:00,  1.03s/it]\n",
      "Processing crepe soyo:  15%|█▌        | 21/137 [00:23<02:00,  1.04s/it]\n",
      "Processing crepe soyo:  16%|█▌        | 22/137 [00:24<02:00,  1.05s/it]\n",
      "Processing crepe soyo:  17%|█▋        | 23/137 [00:25<02:00,  1.06s/it]\n",
      "Processing crepe soyo:  18%|█▊        | 24/137 [00:26<01:58,  1.05s/it]\n",
      "Processing crepe soyo:  18%|█▊        | 25/137 [00:27<01:56,  1.04s/it]\n",
      "Processing crepe soyo:  19%|█▉        | 26/137 [00:28<01:55,  1.04s/it]\n",
      "Processing crepe soyo:  20%|█▉        | 27/137 [00:29<01:54,  1.04s/it]\n",
      "Processing crepe soyo:  20%|██        | 28/137 [00:30<01:52,  1.03s/it]\n",
      "Processing crepe soyo:  21%|██        | 29/137 [00:32<01:51,  1.04s/it]\n",
      "Processing crepe soyo:  22%|██▏       | 30/137 [00:33<01:54,  1.07s/it]\n",
      "Processing crepe soyo:  23%|██▎       | 31/137 [00:34<01:54,  1.08s/it]\n",
      "Processing crepe soyo:  23%|██▎       | 32/137 [00:35<01:53,  1.08s/it]\n",
      "Processing crepe soyo:  24%|██▍       | 33/137 [00:36<01:55,  1.11s/it]\n",
      "Processing crepe soyo:  25%|██▍       | 34/137 [00:37<01:53,  1.10s/it]\n",
      "Processing crepe soyo:  26%|██▌       | 35/137 [00:38<01:51,  1.10s/it]\n",
      "Processing crepe soyo:  26%|██▋       | 36/137 [00:39<01:51,  1.10s/it]\n",
      "Processing crepe soyo:  27%|██▋       | 37/137 [00:40<01:51,  1.11s/it]\n",
      "Processing crepe soyo:  28%|██▊       | 38/137 [00:42<01:48,  1.10s/it]\n",
      "Processing crepe soyo:  28%|██▊       | 39/137 [00:43<01:46,  1.09s/it]\n",
      "Processing crepe soyo:  29%|██▉       | 40/137 [00:44<01:46,  1.10s/it]\n",
      "Processing crepe soyo:  30%|██▉       | 41/137 [00:45<01:44,  1.09s/it]\n",
      "Processing crepe soyo:  31%|███       | 42/137 [00:46<01:43,  1.08s/it]\n",
      "Processing crepe soyo:  31%|███▏      | 43/137 [00:47<01:42,  1.09s/it]\n",
      "Processing crepe soyo:  32%|███▏      | 44/137 [00:48<01:42,  1.10s/it]\n",
      "Processing crepe soyo:  33%|███▎      | 45/137 [00:49<01:41,  1.11s/it]\n",
      "Processing crepe soyo:  34%|███▎      | 46/137 [00:50<01:40,  1.10s/it]\n",
      "Processing crepe soyo:  34%|███▍      | 47/137 [00:51<01:38,  1.10s/it]\n",
      "Processing crepe soyo:  35%|███▌      | 48/137 [00:53<01:38,  1.11s/it]\n",
      "Processing crepe soyo:  36%|███▌      | 49/137 [00:54<01:37,  1.10s/it]\n",
      "Processing crepe soyo:  36%|███▋      | 50/137 [00:55<01:35,  1.10s/it]\n",
      "Processing crepe soyo:  37%|███▋      | 51/137 [00:56<01:34,  1.10s/it]\n",
      "Processing crepe soyo:  38%|███▊      | 52/137 [00:57<01:33,  1.09s/it]\n",
      "Processing crepe soyo:  39%|███▊      | 53/137 [00:58<01:33,  1.11s/it]\n",
      "Processing crepe soyo:  39%|███▉      | 54/137 [00:59<01:33,  1.12s/it]\n",
      "Processing crepe soyo:  40%|████      | 55/137 [01:00<01:31,  1.11s/it]\n",
      "Processing crepe soyo:  41%|████      | 56/137 [01:01<01:29,  1.11s/it]\n",
      "Processing crepe soyo:  42%|████▏     | 57/137 [01:02<01:28,  1.10s/it]\n",
      "Processing crepe soyo:  42%|████▏     | 58/137 [01:04<01:27,  1.11s/it]\n",
      "Processing crepe soyo:  43%|████▎     | 59/137 [01:05<01:25,  1.09s/it]\n",
      "Processing crepe soyo:  44%|████▍     | 60/137 [01:06<01:23,  1.08s/it]\n",
      "Processing crepe soyo:  45%|████▍     | 61/137 [01:07<01:21,  1.07s/it]\n",
      "Processing crepe soyo:  45%|████▌     | 62/137 [01:08<01:19,  1.06s/it]\n",
      "Processing crepe soyo:  46%|████▌     | 63/137 [01:09<01:18,  1.06s/it]\n",
      "Processing crepe soyo:  47%|████▋     | 64/137 [01:10<01:16,  1.05s/it]\n",
      "Processing crepe soyo:  47%|████▋     | 65/137 [01:11<01:15,  1.05s/it]\n",
      "Processing crepe soyo:  48%|████▊     | 66/137 [01:12<01:15,  1.06s/it]\n",
      "Processing crepe soyo:  49%|████▉     | 67/137 [01:13<01:13,  1.05s/it]\n",
      "Processing crepe soyo:  50%|████▉     | 68/137 [01:14<01:12,  1.04s/it]\n",
      "Processing crepe soyo:  50%|█████     | 69/137 [01:15<01:12,  1.06s/it]\n",
      "Processing crepe soyo:  51%|█████     | 70/137 [01:16<01:11,  1.07s/it]\n",
      "Processing crepe soyo:  52%|█████▏    | 71/137 [01:17<01:10,  1.07s/it]\n",
      "Processing crepe soyo:  53%|█████▎    | 72/137 [01:18<01:02,  1.04it/s]\n",
      "Processing crepe soyo:  53%|█████▎    | 73/137 [01:19<01:03,  1.01it/s]\n",
      "Processing crepe soyo:  54%|█████▍    | 74/137 [01:20<01:03,  1.01s/it]\n",
      "Processing crepe soyo:  55%|█████▍    | 75/137 [01:21<01:07,  1.10s/it]\n",
      "Processing crepe soyo:  55%|█████▌    | 76/137 [01:23<01:09,  1.14s/it]\n",
      "Processing crepe soyo:  56%|█████▌    | 77/137 [01:24<01:11,  1.20s/it]\n",
      "Processing crepe soyo:  57%|█████▋    | 78/137 [01:25<01:13,  1.24s/it]\n",
      "Processing crepe soyo:  58%|█████▊    | 79/137 [01:27<01:13,  1.26s/it]\n",
      "Processing crepe soyo:  58%|█████▊    | 80/137 [01:28<01:12,  1.28s/it]\n",
      "Processing crepe soyo:  59%|█████▉    | 81/137 [01:29<01:11,  1.28s/it]\n",
      "Processing crepe soyo:  60%|█████▉    | 82/137 [01:31<01:11,  1.29s/it]\n",
      "Processing crepe soyo:  61%|██████    | 83/137 [01:32<01:09,  1.29s/it]\n",
      "Processing crepe soyo:  61%|██████▏   | 84/137 [01:33<01:07,  1.27s/it]\n",
      "Processing crepe soyo:  62%|██████▏   | 85/137 [01:34<01:06,  1.27s/it]\n",
      "Processing crepe soyo:  63%|██████▎   | 86/137 [01:36<01:06,  1.30s/it]\n",
      "Processing crepe soyo:  64%|██████▎   | 87/137 [01:37<01:04,  1.29s/it]\n",
      "Processing crepe soyo:  64%|██████▍   | 88/137 [01:38<01:03,  1.29s/it]\n",
      "Processing crepe soyo:  65%|██████▍   | 89/137 [01:40<01:01,  1.28s/it]\n",
      "Processing crepe soyo:  66%|██████▌   | 90/137 [01:41<01:01,  1.32s/it]\n",
      "Processing crepe soyo:  66%|██████▋   | 91/137 [01:42<01:01,  1.33s/it]\n",
      "Processing crepe soyo:  67%|██████▋   | 92/137 [01:44<00:59,  1.32s/it]\n",
      "Processing crepe soyo:  68%|██████▊   | 93/137 [01:45<00:57,  1.31s/it]\n",
      "Processing crepe soyo:  69%|██████▊   | 94/137 [01:46<00:56,  1.32s/it]\n",
      "Processing crepe soyo:  69%|██████▉   | 95/137 [01:47<00:54,  1.30s/it]\n",
      "Processing crepe soyo:  70%|███████   | 96/137 [01:49<00:53,  1.30s/it]\n",
      "Processing crepe soyo:  71%|███████   | 97/137 [01:50<00:51,  1.29s/it]\n",
      "Processing crepe soyo:  72%|███████▏  | 98/137 [01:51<00:49,  1.28s/it]\n",
      "Processing crepe soyo:  72%|███████▏  | 99/137 [01:53<00:48,  1.28s/it]\n",
      "Processing crepe soyo:  73%|███████▎  | 100/137 [01:54<00:47,  1.29s/it]\n",
      "Processing crepe soyo:  74%|███████▎  | 101/137 [01:55<00:46,  1.28s/it]\n",
      "Processing crepe soyo:  74%|███████▍  | 102/137 [01:56<00:44,  1.28s/it]\n",
      "Processing crepe soyo:  75%|███████▌  | 103/137 [01:58<00:43,  1.27s/it]\n",
      "Processing crepe soyo:  76%|███████▌  | 104/137 [01:59<00:42,  1.28s/it]\n",
      "Processing crepe soyo:  77%|███████▋  | 105/137 [02:00<00:40,  1.27s/it]\n",
      "Processing crepe soyo:  77%|███████▋  | 106/137 [02:02<00:39,  1.29s/it]\n",
      "Processing crepe soyo:  78%|███████▊  | 107/137 [02:03<00:39,  1.31s/it]\n",
      "Processing crepe soyo:  79%|███████▉  | 108/137 [02:04<00:37,  1.31s/it]\n",
      "Processing crepe soyo:  80%|███████▉  | 109/137 [02:06<00:36,  1.32s/it]\n",
      "Processing crepe soyo:  80%|████████  | 110/137 [02:07<00:35,  1.32s/it]\n",
      "Processing crepe soyo:  81%|████████  | 111/137 [02:08<00:34,  1.32s/it]\n",
      "Processing crepe soyo:  82%|████████▏ | 112/137 [02:09<00:32,  1.31s/it]\n",
      "Processing crepe soyo:  82%|████████▏ | 113/137 [02:11<00:31,  1.31s/it]\n",
      "Processing crepe soyo:  83%|████████▎ | 114/137 [02:12<00:30,  1.33s/it]\n",
      "Processing crepe soyo:  84%|████████▍ | 115/137 [02:13<00:29,  1.32s/it]\n",
      "Processing crepe soyo:  85%|████████▍ | 116/137 [02:15<00:27,  1.32s/it]\n",
      "Processing crepe soyo:  85%|████████▌ | 117/137 [02:16<00:25,  1.30s/it]\n",
      "Processing crepe soyo:  86%|████████▌ | 118/137 [02:17<00:24,  1.29s/it]\n",
      "Processing crepe soyo:  87%|████████▋ | 119/137 [02:19<00:23,  1.30s/it]\n",
      "Processing crepe soyo:  88%|████████▊ | 120/137 [02:20<00:21,  1.29s/it]\n",
      "Processing crepe soyo:  88%|████████▊ | 121/137 [02:21<00:20,  1.28s/it]\n",
      "Processing crepe soyo:  89%|████████▉ | 122/137 [02:22<00:19,  1.27s/it]\n",
      "Processing crepe soyo:  90%|████████▉ | 123/137 [02:24<00:17,  1.27s/it]\n",
      "Processing crepe soyo:  91%|█████████ | 124/137 [02:24<00:12,  1.06it/s]\n",
      "Processing crepe soyo:  91%|█████████ | 125/137 [02:26<00:15,  1.31s/it]\n",
      "Processing crepe soyo:  92%|█████████▏| 126/137 [02:27<00:14,  1.30s/it]\n",
      "Processing crepe soyo:  93%|█████████▎| 127/137 [02:29<00:12,  1.30s/it]\n",
      "Processing crepe soyo:  93%|█████████▎| 128/137 [02:30<00:11,  1.29s/it]\n",
      "Processing crepe soyo:  94%|█████████▍| 129/137 [02:31<00:09,  1.14s/it]\n",
      "Processing crepe soyo:  95%|█████████▍| 130/137 [02:33<00:09,  1.36s/it]\n",
      "Processing crepe soyo:  96%|█████████▌| 131/137 [02:33<00:07,  1.19s/it]\n",
      "Processing crepe soyo:  96%|█████████▋| 132/137 [02:35<00:06,  1.23s/it]\n",
      "Processing crepe soyo:  97%|█████████▋| 133/137 [02:35<00:03,  1.12it/s]\n",
      "Processing crepe soyo:  98%|█████████▊| 134/137 [02:36<00:03,  1.00s/it]\n",
      "Processing crepe soyo:  99%|█████████▊| 135/137 [02:37<00:01,  1.16it/s]\n",
      "Processing crepe soyo:  99%|█████████▉| 136/137 [02:38<00:00,  1.06it/s]\n",
      "Processing crepe soyo: 100%|██████████| 137/137 [02:38<00:00,  1.23it/s]\n",
      "Processing crepe soyo: 100%|██████████| 137/137 [02:38<00:00,  1.16s/it]\n"
     ]
    }
   ],
   "source": [
    "!python prepare/preprocess_crepe.py -w data_svc/waves-16k/ -p data_svc/pitch"
   ]
  },
  {
   "cell_type": "code",
   "execution_count": 4,
   "id": "55d3c396-3f1e-42b1-a33a-990e03965c9f",
   "metadata": {
    "tags": []
   },
   "outputs": [
    {
     "name": "stdout",
     "output_type": "stream",
     "text": [
      "data_svc/waves-16k/\n",
      "data_svc/whisper\n",
      "ModelDimensions(n_mels=80, n_audio_ctx=1500, n_audio_state=1280, n_audio_head=20, n_audio_layer=32, n_vocab=51865, n_text_ctx=448, n_text_state=1280, n_text_head=20, n_text_layer=32)\n"
     ]
    },
    {
     "name": "stderr",
     "output_type": "stream",
     "text": [
      "\n",
      "Processing ppg soyo:   0%|          | 0/137 [00:00<?, ?it/s]\n",
      "Processing ppg soyo:   1%|          | 1/137 [00:01<04:23,  1.94s/it]\n",
      "Processing ppg soyo:   1%|▏         | 2/137 [00:02<01:55,  1.17it/s]\n",
      "Processing ppg soyo:   2%|▏         | 3/137 [00:02<01:09,  1.93it/s]\n",
      "Processing ppg soyo:   3%|▎         | 4/137 [00:02<00:47,  2.82it/s]\n",
      "Processing ppg soyo:   4%|▎         | 5/137 [00:02<00:35,  3.76it/s]\n",
      "Processing ppg soyo:   4%|▍         | 6/137 [00:02<00:27,  4.75it/s]\n",
      "Processing ppg soyo:   6%|▌         | 8/137 [00:02<00:20,  6.23it/s]\n",
      "Processing ppg soyo:   7%|▋         | 9/137 [00:02<00:18,  6.77it/s]\n",
      "Processing ppg soyo:   7%|▋         | 10/137 [00:02<00:17,  7.26it/s]\n",
      "Processing ppg soyo:   8%|▊         | 11/137 [00:03<00:16,  7.75it/s]\n",
      "Processing ppg soyo:   9%|▉         | 13/137 [00:03<00:14,  8.64it/s]\n",
      "Processing ppg soyo:  10%|█         | 14/137 [00:03<00:13,  8.91it/s]\n",
      "Processing ppg soyo:  11%|█         | 15/137 [00:03<00:13,  9.13it/s]\n",
      "Processing ppg soyo:  12%|█▏        | 16/137 [00:03<00:13,  9.15it/s]\n",
      "Processing ppg soyo:  12%|█▏        | 17/137 [00:03<00:12,  9.24it/s]\n",
      "Processing ppg soyo:  13%|█▎        | 18/137 [00:03<00:12,  9.43it/s]\n",
      "Processing ppg soyo:  14%|█▍        | 19/137 [00:03<00:12,  9.50it/s]\n",
      "Processing ppg soyo:  15%|█▍        | 20/137 [00:03<00:12,  9.46it/s]\n",
      "Processing ppg soyo:  15%|█▌        | 21/137 [00:04<00:12,  9.33it/s]\n",
      "Processing ppg soyo:  16%|█▌        | 22/137 [00:04<00:12,  9.49it/s]\n",
      "Processing ppg soyo:  17%|█▋        | 23/137 [00:04<00:12,  9.46it/s]\n",
      "Processing ppg soyo:  18%|█▊        | 24/137 [00:04<00:11,  9.50it/s]\n",
      "Processing ppg soyo:  18%|█▊        | 25/137 [00:04<00:12,  9.29it/s]\n",
      "Processing ppg soyo:  19%|█▉        | 26/137 [00:04<00:11,  9.32it/s]\n",
      "Processing ppg soyo:  20%|█▉        | 27/137 [00:04<00:11,  9.30it/s]\n",
      "Processing ppg soyo:  20%|██        | 28/137 [00:04<00:11,  9.17it/s]\n",
      "Processing ppg soyo:  21%|██        | 29/137 [00:04<00:11,  9.09it/s]\n",
      "Processing ppg soyo:  22%|██▏       | 30/137 [00:05<00:11,  9.01it/s]\n",
      "Processing ppg soyo:  23%|██▎       | 31/137 [00:05<00:11,  9.03it/s]\n",
      "Processing ppg soyo:  23%|██▎       | 32/137 [00:05<00:11,  9.16it/s]\n",
      "Processing ppg soyo:  24%|██▍       | 33/137 [00:05<00:11,  9.14it/s]\n",
      "Processing ppg soyo:  25%|██▍       | 34/137 [00:05<00:11,  9.13it/s]\n",
      "Processing ppg soyo:  26%|██▌       | 35/137 [00:05<00:10,  9.28it/s]\n",
      "Processing ppg soyo:  26%|██▋       | 36/137 [00:05<00:11,  9.10it/s]\n",
      "Processing ppg soyo:  27%|██▋       | 37/137 [00:05<00:11,  9.03it/s]\n",
      "Processing ppg soyo:  28%|██▊       | 38/137 [00:05<00:10,  9.03it/s]\n",
      "Processing ppg soyo:  28%|██▊       | 39/137 [00:06<00:10,  9.02it/s]\n",
      "Processing ppg soyo:  29%|██▉       | 40/137 [00:06<00:10,  9.20it/s]\n",
      "Processing ppg soyo:  30%|██▉       | 41/137 [00:06<00:10,  9.28it/s]\n",
      "Processing ppg soyo:  31%|███       | 42/137 [00:06<00:10,  9.22it/s]\n",
      "Processing ppg soyo:  31%|███▏      | 43/137 [00:06<00:10,  9.28it/s]\n",
      "Processing ppg soyo:  32%|███▏      | 44/137 [00:06<00:09,  9.38it/s]\n",
      "Processing ppg soyo:  33%|███▎      | 45/137 [00:06<00:09,  9.35it/s]\n",
      "Processing ppg soyo:  34%|███▎      | 46/137 [00:06<00:09,  9.48it/s]\n",
      "Processing ppg soyo:  34%|███▍      | 47/137 [00:06<00:09,  9.22it/s]\n",
      "Processing ppg soyo:  35%|███▌      | 48/137 [00:06<00:09,  9.13it/s]\n",
      "Processing ppg soyo:  36%|███▌      | 49/137 [00:07<00:09,  9.25it/s]\n",
      "Processing ppg soyo:  36%|███▋      | 50/137 [00:07<00:09,  9.26it/s]\n",
      "Processing ppg soyo:  37%|███▋      | 51/137 [00:07<00:09,  9.33it/s]\n",
      "Processing ppg soyo:  38%|███▊      | 52/137 [00:07<00:09,  9.22it/s]\n",
      "Processing ppg soyo:  39%|███▊      | 53/137 [00:07<00:09,  9.28it/s]\n",
      "Processing ppg soyo:  39%|███▉      | 54/137 [00:07<00:08,  9.44it/s]\n",
      "Processing ppg soyo:  40%|████      | 55/137 [00:07<00:08,  9.53it/s]\n",
      "Processing ppg soyo:  41%|████      | 56/137 [00:07<00:08,  9.40it/s]\n",
      "Processing ppg soyo:  42%|████▏     | 57/137 [00:07<00:08,  9.32it/s]\n",
      "Processing ppg soyo:  42%|████▏     | 58/137 [00:08<00:08,  9.27it/s]\n",
      "Processing ppg soyo:  43%|████▎     | 59/137 [00:08<00:08,  9.41it/s]\n",
      "Processing ppg soyo:  44%|████▍     | 60/137 [00:08<00:08,  9.36it/s]\n",
      "Processing ppg soyo:  45%|████▌     | 62/137 [00:08<00:07,  9.42it/s]\n",
      "Processing ppg soyo:  46%|████▌     | 63/137 [00:08<00:07,  9.36it/s]\n",
      "Processing ppg soyo:  47%|████▋     | 64/137 [00:08<00:07,  9.34it/s]\n",
      "Processing ppg soyo:  47%|████▋     | 65/137 [00:08<00:07,  9.44it/s]\n",
      "Processing ppg soyo:  48%|████▊     | 66/137 [00:08<00:07,  9.11it/s]\n",
      "Processing ppg soyo:  49%|████▉     | 67/137 [00:09<00:07,  9.23it/s]\n",
      "Processing ppg soyo:  50%|█████     | 69/137 [00:09<00:07,  9.45it/s]\n",
      "Processing ppg soyo:  52%|█████▏    | 71/137 [00:09<00:06,  9.67it/s]\n",
      "Processing ppg soyo:  53%|█████▎    | 73/137 [00:09<00:06, 10.33it/s]\n",
      "Processing ppg soyo:  55%|█████▍    | 75/137 [00:09<00:06,  9.25it/s]\n",
      "Processing ppg soyo:  55%|█████▌    | 76/137 [00:09<00:07,  8.67it/s]\n",
      "Processing ppg soyo:  56%|█████▌    | 77/137 [00:10<00:07,  8.08it/s]\n",
      "Processing ppg soyo:  57%|█████▋    | 78/137 [00:10<00:07,  7.65it/s]\n",
      "Processing ppg soyo:  58%|█████▊    | 79/137 [00:10<00:07,  7.28it/s]\n",
      "Processing ppg soyo:  58%|█████▊    | 80/137 [00:10<00:07,  7.15it/s]\n",
      "Processing ppg soyo:  59%|█████▉    | 81/137 [00:10<00:08,  6.85it/s]\n",
      "Processing ppg soyo:  60%|█████▉    | 82/137 [00:10<00:08,  6.79it/s]\n",
      "Processing ppg soyo:  61%|██████    | 83/137 [00:11<00:07,  6.89it/s]\n",
      "Processing ppg soyo:  61%|██████▏   | 84/137 [00:11<00:07,  6.83it/s]\n",
      "Processing ppg soyo:  62%|██████▏   | 85/137 [00:11<00:07,  6.75it/s]\n",
      "Processing ppg soyo:  63%|██████▎   | 86/137 [00:11<00:07,  6.72it/s]\n",
      "Processing ppg soyo:  64%|██████▎   | 87/137 [00:11<00:07,  6.67it/s]\n",
      "Processing ppg soyo:  64%|██████▍   | 88/137 [00:11<00:07,  6.62it/s]\n",
      "Processing ppg soyo:  65%|██████▍   | 89/137 [00:11<00:07,  6.61it/s]\n",
      "Processing ppg soyo:  66%|██████▌   | 90/137 [00:12<00:07,  6.54it/s]\n",
      "Processing ppg soyo:  66%|██████▋   | 91/137 [00:12<00:07,  6.49it/s]\n",
      "Processing ppg soyo:  67%|██████▋   | 92/137 [00:12<00:07,  6.35it/s]\n",
      "Processing ppg soyo:  68%|██████▊   | 93/137 [00:12<00:06,  6.35it/s]\n",
      "Processing ppg soyo:  69%|██████▊   | 94/137 [00:12<00:06,  6.40it/s]\n",
      "Processing ppg soyo:  69%|██████▉   | 95/137 [00:12<00:06,  6.40it/s]\n",
      "Processing ppg soyo:  70%|███████   | 96/137 [00:13<00:06,  6.39it/s]\n",
      "Processing ppg soyo:  71%|███████   | 97/137 [00:13<00:06,  6.33it/s]\n",
      "Processing ppg soyo:  72%|███████▏  | 98/137 [00:13<00:06,  6.40it/s]\n",
      "Processing ppg soyo:  72%|███████▏  | 99/137 [00:13<00:05,  6.59it/s]\n",
      "Processing ppg soyo:  73%|███████▎  | 100/137 [00:13<00:05,  6.56it/s]\n",
      "Processing ppg soyo:  74%|███████▎  | 101/137 [00:13<00:05,  6.50it/s]\n",
      "Processing ppg soyo:  74%|███████▍  | 102/137 [00:13<00:05,  6.58it/s]\n",
      "Processing ppg soyo:  75%|███████▌  | 103/137 [00:14<00:05,  6.56it/s]\n",
      "Processing ppg soyo:  76%|███████▌  | 104/137 [00:14<00:05,  6.56it/s]\n",
      "Processing ppg soyo:  77%|███████▋  | 105/137 [00:14<00:04,  6.50it/s]\n",
      "Processing ppg soyo:  77%|███████▋  | 106/137 [00:14<00:04,  6.56it/s]\n",
      "Processing ppg soyo:  78%|███████▊  | 107/137 [00:14<00:04,  6.52it/s]\n",
      "Processing ppg soyo:  79%|███████▉  | 108/137 [00:14<00:04,  6.64it/s]\n",
      "Processing ppg soyo:  80%|███████▉  | 109/137 [00:15<00:04,  6.59it/s]\n",
      "Processing ppg soyo:  80%|████████  | 110/137 [00:15<00:04,  6.64it/s]\n",
      "Processing ppg soyo:  81%|████████  | 111/137 [00:15<00:03,  6.58it/s]\n",
      "Processing ppg soyo:  82%|████████▏ | 112/137 [00:15<00:03,  6.55it/s]\n",
      "Processing ppg soyo:  82%|████████▏ | 113/137 [00:15<00:03,  6.58it/s]\n",
      "Processing ppg soyo:  83%|████████▎ | 114/137 [00:15<00:03,  6.52it/s]\n",
      "Processing ppg soyo:  84%|████████▍ | 115/137 [00:15<00:03,  6.54it/s]\n",
      "Processing ppg soyo:  85%|████████▍ | 116/137 [00:16<00:03,  6.48it/s]\n",
      "Processing ppg soyo:  85%|████████▌ | 117/137 [00:16<00:03,  6.48it/s]\n",
      "Processing ppg soyo:  86%|████████▌ | 118/137 [00:16<00:02,  6.48it/s]\n",
      "Processing ppg soyo:  87%|████████▋ | 119/137 [00:16<00:02,  6.53it/s]\n",
      "Processing ppg soyo:  88%|████████▊ | 120/137 [00:16<00:02,  6.76it/s]\n",
      "Processing ppg soyo:  88%|████████▊ | 121/137 [00:16<00:02,  6.81it/s]\n",
      "Processing ppg soyo:  89%|████████▉ | 122/137 [00:17<00:02,  7.03it/s]\n",
      "Processing ppg soyo:  90%|████████▉ | 123/137 [00:17<00:02,  6.87it/s]\n",
      "Processing ppg soyo:  91%|█████████ | 125/137 [00:17<00:01,  7.91it/s]\n",
      "Processing ppg soyo:  92%|█████████▏| 126/137 [00:17<00:01,  7.52it/s]\n",
      "Processing ppg soyo:  93%|█████████▎| 127/137 [00:17<00:01,  7.24it/s]\n",
      "Processing ppg soyo:  93%|█████████▎| 128/137 [00:17<00:01,  7.08it/s]\n",
      "Processing ppg soyo:  95%|█████████▍| 130/137 [00:18<00:00,  7.81it/s]\n",
      "Processing ppg soyo:  96%|█████████▋| 132/137 [00:18<00:00,  8.31it/s]\n",
      "Processing ppg soyo:  98%|█████████▊| 134/137 [00:18<00:00,  9.20it/s]\n",
      "Processing ppg soyo:  99%|█████████▉| 136/137 [00:18<00:00,  9.92it/s]\n",
      "Processing ppg soyo: 100%|██████████| 137/137 [00:18<00:00,  7.35it/s]\n"
     ]
    }
   ],
   "source": [
    "!python prepare/preprocess_ppg.py -w data_svc/waves-16k/ -p data_svc/whisper"
   ]
  },
  {
   "cell_type": "code",
   "execution_count": 5,
   "id": "1e70e7b3-730b-4ae6-bc33-6c7a250c4fc7",
   "metadata": {
    "scrolled": true,
    "tags": []
   },
   "outputs": [
    {
     "name": "stdout",
     "output_type": "stream",
     "text": [
      "data_svc/waves-16k/\n",
      "data_svc/hubert\n"
     ]
    },
    {
     "name": "stderr",
     "output_type": "stream",
     "text": [
      "e:\\.env\\sovit5\\lib\\site-packages\\torch\\nn\\utils\\weight_norm.py:28: UserWarning: torch.nn.utils.weight_norm is deprecated in favor of torch.nn.utils.parametrizations.weight_norm.\n",
      "  warnings.warn(\"torch.nn.utils.weight_norm is deprecated in favor of torch.nn.utils.parametrizations.weight_norm.\")\n",
      "\n",
      "Processing vec soyo:   0%|          | 0/137 [00:00<?, ?it/s]e:\\.env\\sovit5\\lib\\site-packages\\torch\\nn\\modules\\transformer.py:685: UserWarning: 1Torch was not compiled with flash attention. (Triggered internally at C:\\actions-runner\\_work\\pytorch\\pytorch\\builder\\windows\\pytorch\\aten\\src\\ATen\\native\\transformers\\cuda\\sdp_utils.cpp:263.)\n",
      "  return torch._transformer_encoder_layer_fwd(\n",
      "\n",
      "Processing vec soyo:   1%|          | 1/137 [00:02<04:58,  2.20s/it]\n",
      "Processing vec soyo:   2%|▏         | 3/137 [00:02<01:21,  1.65it/s]\n",
      "Processing vec soyo:   4%|▍         | 6/137 [00:02<00:33,  3.89it/s]\n",
      "Processing vec soyo:   7%|▋         | 9/137 [00:02<00:19,  6.41it/s]\n",
      "Processing vec soyo:   9%|▉         | 12/137 [00:02<00:13,  9.23it/s]\n",
      "Processing vec soyo:  11%|█         | 15/137 [00:02<00:10, 11.98it/s]\n",
      "Processing vec soyo:  13%|█▎        | 18/137 [00:02<00:07, 14.93it/s]\n",
      "Processing vec soyo:  15%|█▌        | 21/137 [00:02<00:06, 17.54it/s]\n",
      "Processing vec soyo:  18%|█▊        | 24/137 [00:03<00:05, 19.22it/s]\n",
      "Processing vec soyo:  20%|██        | 28/137 [00:03<00:04, 22.08it/s]\n",
      "Processing vec soyo:  23%|██▎       | 31/137 [00:03<00:04, 22.76it/s]\n",
      "Processing vec soyo:  25%|██▍       | 34/137 [00:03<00:04, 24.01it/s]\n",
      "Processing vec soyo:  27%|██▋       | 37/137 [00:03<00:03, 25.03it/s]\n",
      "Processing vec soyo:  29%|██▉       | 40/137 [00:03<00:03, 25.61it/s]\n",
      "Processing vec soyo:  31%|███▏      | 43/137 [00:03<00:03, 25.81it/s]\n",
      "Processing vec soyo:  34%|███▎      | 46/137 [00:03<00:03, 26.43it/s]\n",
      "Processing vec soyo:  36%|███▋      | 50/137 [00:04<00:03, 27.25it/s]\n",
      "Processing vec soyo:  39%|███▊      | 53/137 [00:04<00:03, 27.37it/s]\n",
      "Processing vec soyo:  41%|████      | 56/137 [00:04<00:03, 26.88it/s]\n",
      "Processing vec soyo:  44%|████▍     | 60/137 [00:04<00:02, 27.34it/s]\n",
      "Processing vec soyo:  46%|████▌     | 63/137 [00:04<00:02, 26.83it/s]\n",
      "Processing vec soyo:  48%|████▊     | 66/137 [00:04<00:02, 26.62it/s]\n",
      "Processing vec soyo:  51%|█████     | 70/137 [00:04<00:02, 27.41it/s]\n",
      "Processing vec soyo:  53%|█████▎    | 73/137 [00:04<00:02, 27.39it/s]\n",
      "Processing vec soyo:  55%|█████▌    | 76/137 [00:05<00:02, 27.24it/s]\n",
      "Processing vec soyo:  58%|█████▊    | 79/137 [00:05<00:02, 26.14it/s]\n",
      "Processing vec soyo:  60%|█████▉    | 82/137 [00:05<00:02, 25.34it/s]\n",
      "Processing vec soyo:  62%|██████▏   | 85/137 [00:05<00:02, 24.83it/s]\n",
      "Processing vec soyo:  64%|██████▍   | 88/137 [00:05<00:01, 24.60it/s]\n",
      "Processing vec soyo:  66%|██████▋   | 91/137 [00:05<00:01, 23.98it/s]\n",
      "Processing vec soyo:  69%|██████▊   | 94/137 [00:05<00:01, 24.23it/s]\n",
      "Processing vec soyo:  71%|███████   | 97/137 [00:05<00:01, 24.11it/s]\n",
      "Processing vec soyo:  73%|███████▎  | 100/137 [00:06<00:01, 24.78it/s]\n",
      "Processing vec soyo:  75%|███████▌  | 103/137 [00:06<00:01, 25.09it/s]\n",
      "Processing vec soyo:  77%|███████▋  | 106/137 [00:06<00:01, 25.90it/s]\n",
      "Processing vec soyo:  80%|███████▉  | 109/137 [00:06<00:01, 25.19it/s]\n",
      "Processing vec soyo:  82%|████████▏ | 112/137 [00:06<00:01, 24.50it/s]\n",
      "Processing vec soyo:  84%|████████▍ | 115/137 [00:06<00:00, 24.72it/s]\n",
      "Processing vec soyo:  86%|████████▌ | 118/137 [00:06<00:00, 24.32it/s]\n",
      "Processing vec soyo:  88%|████████▊ | 121/137 [00:06<00:00, 24.54it/s]\n",
      "Processing vec soyo:  91%|█████████ | 125/137 [00:06<00:00, 26.26it/s]\n",
      "Processing vec soyo:  93%|█████████▎| 128/137 [00:07<00:00, 25.36it/s]\n",
      "Processing vec soyo:  96%|█████████▌| 131/137 [00:07<00:00, 24.86it/s]\n",
      "Processing vec soyo:  98%|█████████▊| 134/137 [00:07<00:00, 25.69it/s]\n",
      "Processing vec soyo: 100%|██████████| 137/137 [00:07<00:00, 18.50it/s]\n"
     ]
    }
   ],
   "source": [
    "!python prepare/preprocess_hubert.py -w data_svc/waves-16k/ -v data_svc/hubert"
   ]
  },
  {
   "cell_type": "code",
   "execution_count": 6,
   "id": "f09470bb-de30-44c4-ab04-62abd15215ea",
   "metadata": {
    "tags": []
   },
   "outputs": [
    {
     "name": "stdout",
     "output_type": "stream",
     "text": [
      " > Setting up Audio Processor...\n",
      " | > sample_rate:16000\n",
      " | > resample:False\n",
      " | > num_mels:80\n",
      " | > log_func:np.log10\n",
      " | > min_level_db:-100\n",
      " | > frame_shift_ms:None\n",
      " | > frame_length_ms:None\n",
      " | > ref_level_db:20\n",
      " | > fft_size:1024\n",
      " | > power:1.5\n",
      " | > preemphasis:0.98\n",
      " | > griffin_lim_iters:60\n",
      " | > signal_norm:True\n",
      " | > symmetric_norm:True\n",
      " | > mel_fmin:0\n",
      " | > mel_fmax:8000.0\n",
      " | > spec_gain:20.0\n",
      " | > stft_pad_mode:reflect\n",
      " | > max_norm:4.0\n",
      " | > clip_norm:True\n",
      " | > do_trim_silence:True\n",
      " | > trim_db:60\n",
      " | > do_sound_norm:False\n",
      " | > do_amp_to_db_linear:True\n",
      " | > do_amp_to_db_mel:True\n",
      " | > stats_path:None\n",
      " | > base:10\n",
      " | > hop_length:256\n",
      " | > win_length:1024\n"
     ]
    },
    {
     "name": "stderr",
     "output_type": "stream",
     "text": [
      "\n",
      "  0%|          | 0/137 [00:00<?, ?it/s]\n",
      "  1%|          | 1/137 [00:01<02:44,  1.21s/it]\n",
      "  2%|▏         | 3/137 [00:01<00:48,  2.76it/s]\n",
      "  4%|▎         | 5/137 [00:01<00:27,  4.85it/s]\n",
      "  5%|▌         | 7/137 [00:01<00:18,  6.94it/s]\n",
      "  7%|▋         | 9/137 [00:01<00:14,  9.09it/s]\n",
      "  8%|▊         | 11/137 [00:01<00:11, 11.07it/s]\n",
      "  9%|▉         | 13/137 [00:01<00:09, 12.85it/s]\n",
      " 11%|█         | 15/137 [00:02<00:08, 14.39it/s]\n",
      " 12%|█▏        | 17/137 [00:02<00:07, 15.73it/s]\n",
      " 14%|█▍        | 19/137 [00:02<00:07, 16.65it/s]\n",
      " 15%|█▌        | 21/137 [00:02<00:06, 17.27it/s]\n",
      " 17%|█▋        | 23/137 [00:02<00:06, 17.64it/s]\n",
      " 18%|█▊        | 25/137 [00:02<00:06, 17.88it/s]\n",
      " 20%|█▉        | 27/137 [00:02<00:05, 18.38it/s]\n",
      " 21%|██        | 29/137 [00:02<00:05, 18.76it/s]\n",
      " 23%|██▎       | 31/137 [00:02<00:05, 18.98it/s]\n",
      " 24%|██▍       | 33/137 [00:02<00:05, 18.68it/s]\n",
      " 26%|██▋       | 36/137 [00:03<00:05, 19.22it/s]\n",
      " 28%|██▊       | 38/137 [00:03<00:05, 18.87it/s]\n",
      " 29%|██▉       | 40/137 [00:03<00:05, 18.98it/s]\n",
      " 31%|███       | 42/137 [00:03<00:05, 18.67it/s]\n",
      " 32%|███▏      | 44/137 [00:03<00:04, 18.63it/s]\n",
      " 34%|███▎      | 46/137 [00:03<00:05, 18.06it/s]\n",
      " 35%|███▌      | 48/137 [00:03<00:04, 18.15it/s]\n",
      " 36%|███▋      | 50/137 [00:03<00:04, 18.38it/s]\n",
      " 38%|███▊      | 52/137 [00:03<00:04, 18.47it/s]\n",
      " 39%|███▉      | 54/137 [00:04<00:04, 18.43it/s]\n",
      " 41%|████      | 56/137 [00:04<00:04, 18.51it/s]\n",
      " 42%|████▏     | 58/137 [00:04<00:04, 18.62it/s]\n",
      " 44%|████▍     | 60/137 [00:04<00:04, 18.68it/s]\n",
      " 45%|████▌     | 62/137 [00:04<00:04, 18.60it/s]\n",
      " 47%|████▋     | 64/137 [00:04<00:03, 18.28it/s]\n",
      " 48%|████▊     | 66/137 [00:04<00:03, 18.08it/s]\n",
      " 50%|████▉     | 68/137 [00:04<00:03, 18.32it/s]\n",
      " 51%|█████     | 70/137 [00:04<00:03, 18.42it/s]\n",
      " 53%|█████▎    | 73/137 [00:05<00:03, 19.08it/s]\n",
      " 55%|█████▍    | 75/137 [00:05<00:03, 18.52it/s]\n",
      " 56%|█████▌    | 77/137 [00:05<00:03, 18.05it/s]\n",
      " 58%|█████▊    | 79/137 [00:05<00:03, 17.32it/s]\n",
      " 59%|█████▉    | 81/137 [00:05<00:03, 16.82it/s]\n",
      " 61%|██████    | 83/137 [00:05<00:03, 16.79it/s]\n",
      " 62%|██████▏   | 85/137 [00:05<00:03, 16.74it/s]\n",
      " 64%|██████▎   | 87/137 [00:05<00:02, 16.73it/s]\n",
      " 65%|██████▍   | 89/137 [00:06<00:02, 16.67it/s]\n",
      " 66%|██████▋   | 91/137 [00:06<00:02, 16.60it/s]\n",
      " 68%|██████▊   | 93/137 [00:06<00:02, 16.53it/s]\n",
      " 69%|██████▉   | 95/137 [00:06<00:02, 16.38it/s]\n",
      " 71%|███████   | 97/137 [00:06<00:02, 16.50it/s]\n",
      " 72%|███████▏  | 99/137 [00:06<00:02, 16.61it/s]\n",
      " 74%|███████▎  | 101/137 [00:06<00:02, 16.58it/s]\n",
      " 75%|███████▌  | 103/137 [00:06<00:02, 16.68it/s]\n",
      " 77%|███████▋  | 105/137 [00:07<00:01, 16.49it/s]\n",
      " 78%|███████▊  | 107/137 [00:07<00:01, 16.34it/s]\n",
      " 80%|███████▉  | 109/137 [00:07<00:01, 16.68it/s]\n",
      " 81%|████████  | 111/137 [00:07<00:01, 16.67it/s]\n",
      " 82%|████████▏ | 113/137 [00:07<00:01, 16.65it/s]\n",
      " 84%|████████▍ | 115/137 [00:07<00:01, 16.69it/s]\n",
      " 85%|████████▌ | 117/137 [00:07<00:01, 16.88it/s]\n",
      " 87%|████████▋ | 119/137 [00:07<00:01, 16.95it/s]\n",
      " 88%|████████▊ | 121/137 [00:07<00:00, 16.91it/s]\n",
      " 90%|████████▉ | 123/137 [00:08<00:00, 16.93it/s]\n",
      " 92%|█████████▏| 126/137 [00:08<00:00, 18.34it/s]\n",
      " 93%|█████████▎| 128/137 [00:08<00:00, 17.68it/s]\n",
      " 95%|█████████▍| 130/137 [00:08<00:00, 17.23it/s]\n",
      " 96%|█████████▋| 132/137 [00:08<00:00, 17.89it/s]\n",
      " 99%|█████████▊| 135/137 [00:08<00:00, 20.30it/s]\n",
      "100%|██████████| 137/137 [00:08<00:00, 15.56it/s]\n"
     ]
    }
   ],
   "source": [
    "!python prepare/preprocess_speaker.py data_svc/waves-16k/ data_svc/speaker"
   ]
  },
  {
   "cell_type": "code",
   "execution_count": 7,
   "id": "6db4dea3-013a-4d1e-8428-ddc7e7ac73a0",
   "metadata": {
    "tags": []
   },
   "outputs": [
    {
     "name": "stderr",
     "output_type": "stream",
     "text": [
      "\n",
      "average soyo:   0%|          | 0/9 [00:00<?, ?it/s]\n",
      "average soyo: 100%|██████████| 9/9 [00:00<00:00, 4519.72it/s]\n"
     ]
    }
   ],
   "source": [
    "!python prepare/preprocess_speaker_ave.py data_svc/speaker/ data_svc/singer"
   ]
  },
  {
   "cell_type": "code",
   "execution_count": 7,
   "id": "a3977c3b-dc2c-4862-8a3c-ca4d5900789d",
   "metadata": {
    "tags": []
   },
   "outputs": [
    {
     "name": "stdout",
     "output_type": "stream",
     "text": [
      "data_svc/waves-32k/\n",
      "data_svc/specs\n"
     ]
    },
    {
     "name": "stderr",
     "output_type": "stream",
     "text": [
      "\n",
      "Processing spec soyo:   0%|          | 0/137 [00:00<?, ?it/s]e:\\.env\\sovit5\\lib\\site-packages\\torch\\functional.py:660: UserWarning: stft with return_complex=False is deprecated. In a future pytorch release, stft will return complex tensors for all inputs, and return_complex=False will raise an error.\n",
      "Note: you can still call torch.view_as_real on the complex output to recover the old return format. (Triggered internally at C:\\actions-runner\\_work\\pytorch\\pytorch\\builder\\windows\\pytorch\\aten\\src\\ATen\\native\\SpectralOps.cpp:879.)\n",
      "  return _VF.stft(input, n_fft, hop_length, win_length, window,  # type: ignore[attr-defined]\n",
      "\n",
      "Processing spec soyo:   5%|▌         | 7/137 [00:00<00:02, 60.92it/s]\n",
      "Processing spec soyo:  10%|█         | 14/137 [00:00<00:01, 63.74it/s]\n",
      "Processing spec soyo:  15%|█▌        | 21/137 [00:00<00:01, 65.31it/s]\n",
      "Processing spec soyo:  20%|██        | 28/137 [00:00<00:01, 64.28it/s]\n",
      "Processing spec soyo:  26%|██▌       | 35/137 [00:00<00:01, 66.12it/s]\n",
      "Processing spec soyo:  31%|███       | 42/137 [00:00<00:01, 66.61it/s]\n",
      "Processing spec soyo:  36%|███▌      | 49/137 [00:00<00:01, 66.70it/s]\n",
      "Processing spec soyo:  41%|████      | 56/137 [00:00<00:01, 67.67it/s]\n",
      "Processing spec soyo:  46%|████▌     | 63/137 [00:00<00:01, 67.91it/s]\n",
      "Processing spec soyo:  51%|█████     | 70/137 [00:01<00:00, 67.58it/s]\n",
      "Processing spec soyo:  56%|█████▌    | 77/137 [00:01<00:00, 67.47it/s]\n",
      "Processing spec soyo:  61%|██████▏   | 84/137 [00:01<00:00, 65.52it/s]\n",
      "Processing spec soyo:  66%|██████▋   | 91/137 [00:01<00:00, 63.50it/s]\n",
      "Processing spec soyo:  72%|███████▏  | 98/137 [00:01<00:00, 62.50it/s]\n",
      "Processing spec soyo:  77%|███████▋  | 105/137 [00:01<00:00, 62.12it/s]\n",
      "Processing spec soyo:  82%|████████▏ | 112/137 [00:01<00:00, 61.95it/s]\n",
      "Processing spec soyo:  87%|████████▋ | 119/137 [00:01<00:00, 61.43it/s]\n",
      "Processing spec soyo:  92%|█████████▏| 126/137 [00:01<00:00, 62.90it/s]\n",
      "Processing spec soyo:  97%|█████████▋| 133/137 [00:02<00:00, 63.13it/s]\n",
      "Processing spec soyo: 100%|██████████| 137/137 [00:02<00:00, 64.75it/s]\n"
     ]
    }
   ],
   "source": [
    "!python prepare/preprocess_spec.py -w data_svc/waves-32k/ -s data_svc/specs"
   ]
  },
  {
   "cell_type": "code",
   "execution_count": 8,
   "id": "5d473682-e8dd-4905-8a42-6b61b86e6927",
   "metadata": {
    "tags": []
   },
   "outputs": [
    {
     "name": "stdout",
     "output_type": "stream",
     "text": [
      "././data_svc/waves-32k//soyo\n"
     ]
    }
   ],
   "source": [
    "!python prepare/preprocess_train.py"
   ]
  },
  {
   "cell_type": "code",
   "execution_count": 9,
   "id": "959e4a1f",
   "metadata": {},
   "outputs": [
    {
     "name": "stdout",
     "output_type": "stream",
     "text": [
      "----------10----------\n"
     ]
    },
    {
     "name": "stderr",
     "output_type": "stream",
     "text": [
      "\n",
      "  0%|          | 0/10 [00:00<?, ?it/s]\n",
      " 80%|████████  | 8/10 [00:00<00:00, 75.99it/s]\n",
      "100%|██████████| 10/10 [00:00<00:00, 77.88it/s]\n",
      "\n",
      "  0%|          | 0/3 [00:00<?, ?it/s]\n",
      " 33%|███▎      | 1/3 [00:00<00:00,  6.56it/s]\n",
      "100%|██████████| 3/3 [00:00<00:00, 12.00it/s]\n"
     ]
    }
   ],
   "source": [
    "!python prepare/preprocess_zzz.py"
   ]
  },
  {
   "cell_type": "code",
   "execution_count": 10,
   "id": "aad019ac-f1e9-4d47-8262-425833a28410",
   "metadata": {
    "collapsed": true,
    "jupyter": {
     "outputs_hidden": true
    },
    "scrolled": true,
    "tags": []
   },
   "outputs": [
    {
     "name": "stdout",
     "output_type": "stream",
     "text": [
      "^C\n"
     ]
    }
   ],
   "source": [
    "!python svc_trainer.py -c configs/base.yaml -n soyo"
   ]
  },
  {
   "cell_type": "code",
   "execution_count": 1,
   "id": "96319503-1e62-47fc-a305-9c0e0b695ab6",
   "metadata": {
    "collapsed": true,
    "jupyter": {
     "outputs_hidden": true
    },
    "tags": []
   },
   "outputs": [],
   "source": [
    "!python svc_trainer.py -c configs/base.yaml -n soyo -p chkpt/soyo/soyo_1165.pt"
   ]
  },
  {
   "cell_type": "code",
   "execution_count": null,
   "id": "40f9740d-b314-43ff-93d4-2748f5333cb8",
   "metadata": {
    "collapsed": true,
    "jupyter": {
     "outputs_hidden": true
    },
    "tags": []
   },
   "outputs": [],
   "source": [
    "!python svc_trainer.py -c configs/base.yaml -n sovits5_no_aug_2 -p chkpt/sovits5_no_aug/sovits5_no_aug_6800.pt"
   ]
  },
  {
   "cell_type": "code",
   "execution_count": 14,
   "id": "4d43f96e-7bd7-4792-b718-a7b25e7e14f6",
   "metadata": {
    "tags": []
   },
   "outputs": [
    {
     "name": "stderr",
     "output_type": "stream",
     "text": [
      "INFO:__main__:got 1 speakers: ['soyo']\n",
      "INFO:__main__:create indexes folder e:\\Data\\Code\\so-vits-svc-5.0\\data_svc\\indexes\n",
      "INFO:__main__:create hubert index for speaker soyo\n",
      "INFO:feature_retrieval.index:start getting feature vectors from e:\\Data\\Code\\so-vits-svc-5.0\\data_svc\\hubert\\soyo\n",
      "INFO:feature_retrieval.index:apply transform to feature matrix\n",
      "INFO:feature_retrieval.transform:condition is not passed. Transform by rule DummyFeatureTransform\n",
      "INFO:feature_retrieval.index:adding features to index with training\n",
      "INFO:feature_retrieval.index:index is trained. Took 23.91 seconds\n",
      "INFO:feature_retrieval.index:adding 23 batches to index\n",
      "\n",
      "  0%|          | 0/23 [00:00<?, ?it/s]\n",
      "  4%|▍         | 1/23 [00:00<00:02,  9.16it/s]\n",
      "  9%|▊         | 2/23 [00:00<00:02,  9.19it/s]\n",
      " 13%|█▎        | 3/23 [00:00<00:02,  9.19it/s]\n",
      " 17%|█▋        | 4/23 [00:00<00:02,  9.08it/s]\n",
      " 22%|██▏       | 5/23 [00:00<00:01,  9.19it/s]\n",
      " 26%|██▌       | 6/23 [00:00<00:01,  9.29it/s]\n",
      " 30%|███       | 7/23 [00:00<00:01,  9.13it/s]\n",
      " 35%|███▍      | 8/23 [00:00<00:01,  8.99it/s]\n",
      " 39%|███▉      | 9/23 [00:00<00:01,  9.03it/s]\n",
      " 43%|████▎     | 10/23 [00:01<00:01,  9.02it/s]\n",
      " 48%|████▊     | 11/23 [00:01<00:01,  9.07it/s]\n",
      " 52%|█████▏    | 12/23 [00:01<00:01,  9.08it/s]\n",
      " 57%|█████▋    | 13/23 [00:01<00:01,  9.12it/s]\n",
      " 61%|██████    | 14/23 [00:01<00:00,  9.03it/s]\n",
      " 65%|██████▌   | 15/23 [00:01<00:00,  8.86it/s]\n",
      " 70%|██████▉   | 16/23 [00:01<00:00,  8.93it/s]\n",
      " 74%|███████▍  | 17/23 [00:01<00:00,  9.02it/s]\n",
      " 78%|███████▊  | 18/23 [00:01<00:00,  9.14it/s]\n",
      " 83%|████████▎ | 19/23 [00:02<00:00,  9.08it/s]\n",
      " 87%|████████▋ | 20/23 [00:02<00:00,  9.05it/s]\n",
      " 91%|█████████▏| 21/23 [00:02<00:00,  9.12it/s]\n",
      " 96%|█████████▌| 22/23 [00:02<00:00,  9.05it/s]\n",
      "100%|██████████| 23/23 [00:02<00:00,  9.17it/s]\n",
      "100%|██████████| 23/23 [00:02<00:00,  9.09it/s]\n",
      "INFO:feature_retrieval.index:all batches added. Took 2.53 seconds\n",
      "INFO:feature_retrieval.index:index saved to e:\\Data\\Code\\so-vits-svc-5.0\\data_svc\\indexes\\soyo\\hubert.index\n",
      "INFO:__main__:create whisper index for speaker soyo\n",
      "INFO:feature_retrieval.index:start getting feature vectors from e:\\Data\\Code\\so-vits-svc-5.0\\data_svc\\whisper\\soyo\n",
      "INFO:feature_retrieval.index:apply transform to feature matrix\n",
      "INFO:feature_retrieval.transform:condition is not passed. Transform by rule DummyFeatureTransform\n",
      "INFO:feature_retrieval.index:adding features to index with training\n",
      "INFO:feature_retrieval.index:index is trained. Took 78.97 seconds\n",
      "INFO:feature_retrieval.index:adding 23 batches to index\n",
      "\n",
      "  0%|          | 0/23 [00:00<?, ?it/s]\n",
      "  4%|▍         | 1/23 [00:00<00:06,  3.29it/s]\n",
      "  9%|▊         | 2/23 [00:00<00:07,  2.94it/s]\n",
      " 13%|█▎        | 3/23 [00:01<00:06,  2.95it/s]\n",
      " 17%|█▋        | 4/23 [00:01<00:06,  2.96it/s]\n",
      " 22%|██▏       | 5/23 [00:01<00:06,  2.94it/s]\n",
      " 26%|██▌       | 6/23 [00:02<00:05,  2.88it/s]\n",
      " 30%|███       | 7/23 [00:02<00:05,  2.92it/s]\n",
      " 35%|███▍      | 8/23 [00:02<00:05,  2.96it/s]\n",
      " 39%|███▉      | 9/23 [00:03<00:04,  2.95it/s]\n",
      " 43%|████▎     | 10/23 [00:03<00:04,  2.89it/s]\n",
      " 48%|████▊     | 11/23 [00:03<00:04,  2.90it/s]\n",
      " 52%|█████▏    | 12/23 [00:04<00:03,  2.95it/s]\n",
      " 57%|█████▋    | 13/23 [00:04<00:03,  3.02it/s]\n",
      " 61%|██████    | 14/23 [00:04<00:02,  3.02it/s]\n",
      " 65%|██████▌   | 15/23 [00:05<00:02,  2.92it/s]\n",
      " 70%|██████▉   | 16/23 [00:05<00:02,  2.93it/s]\n",
      " 74%|███████▍  | 17/23 [00:05<00:02,  2.90it/s]\n",
      " 78%|███████▊  | 18/23 [00:06<00:01,  2.90it/s]\n",
      " 83%|████████▎ | 19/23 [00:06<00:01,  2.89it/s]\n",
      " 87%|████████▋ | 20/23 [00:06<00:01,  2.73it/s]\n",
      " 91%|█████████▏| 21/23 [00:07<00:00,  2.74it/s]\n",
      " 96%|█████████▌| 22/23 [00:07<00:00,  2.78it/s]\n",
      "100%|██████████| 23/23 [00:07<00:00,  2.79it/s]\n",
      "100%|██████████| 23/23 [00:07<00:00,  2.89it/s]\n",
      "INFO:feature_retrieval.index:all batches added. Took 7.97 seconds\n",
      "INFO:feature_retrieval.index:index saved to e:\\Data\\Code\\so-vits-svc-5.0\\data_svc\\indexes\\soyo\\whisper.index\n",
      "INFO:__main__:done!\n"
     ]
    }
   ],
   "source": [
    "!python svc_train_retrieval.py --speakers soyo"
   ]
  },
  {
   "cell_type": "code",
   "execution_count": null,
   "id": "6581e654",
   "metadata": {},
   "outputs": [],
   "source": [
    "!tar -czvf archive.tar.gz data_scv data_svc_no_aug chkpt"
   ]
  },
  {
   "cell_type": "markdown",
   "id": "bd0e4e3b-c605-4604-938e-de0c02c9e00f",
   "metadata": {},
   "source": [
    "# 提取，融合"
   ]
  },
  {
   "cell_type": "code",
   "execution_count": 11,
   "id": "714501bb",
   "metadata": {},
   "outputs": [
    {
     "name": "stdout",
     "output_type": "stream",
     "text": [
      "chkpt\\soyo\\soyo_0425.pt\n",
      "chkpt\\soyo\\soyo_0385.pt\n",
      "0.5\n"
     ]
    }
   ],
   "source": [
    "!python svc_merge.py --model1 chkpt\\soyo\\soyo_0425.pt --model2 chkpt\\soyo\\soyo_0385.pt --rate 0.5"
   ]
  },
  {
   "cell_type": "code",
   "execution_count": 4,
   "id": "97b03a91",
   "metadata": {},
   "outputs": [
    {
     "ename": "",
     "evalue": "",
     "output_type": "error",
     "traceback": [
      "\u001b[1;31mThe Kernel crashed while executing code in the current cell or a previous cell. \n",
      "\u001b[1;31mPlease review the code in the cell(s) to identify a possible cause of the failure. \n",
      "\u001b[1;31mClick <a href='https://aka.ms/vscodeJupyterKernelCrash'>here</a> for more info. \n",
      "\u001b[1;31mView Jupyter <a href='command:jupyter.viewOutput'>log</a> for further details."
     ]
    }
   ],
   "source": [
    "from svc_merge import load_model,average_model,save_model\n",
    "# s1 = load_model('chkpt\\soyo\\soyo_0425.pt')\n",
    "s2 = load_model('chkpt\\soyo\\soyo_1165.pt')\n",
    "s3 = load_model('chkpt\\soyo\\soyo_1160.pt')\n",
    "s4 = load_model('chkpt\\soyo\\soyo_1050.pt')\n",
    "s5 = load_model('chkpt\\soyo\\soyo_1125.pt')\n",
    "\n",
    "# s3 = load_model('chkpt\\sovits5.0\\sovits5.0_0655.pt')\n",
    "\n",
    "avg_model = average_model([s2,s3,s4,s5],[0.2,0.2,0.2,0.2])\n",
    "save_model(avg_model, \"soyo_avg.pth\")"
   ]
  },
  {
   "cell_type": "code",
   "execution_count": 18,
   "id": "9ac68cb5",
   "metadata": {},
   "outputs": [
    {
     "name": "stderr",
     "output_type": "stream",
     "text": [
      "INFO:__main__:got 1 speakers: ['soyo']\n",
      "INFO:__main__:create indexes folder e:\\Data\\Code\\so-vits-svc-5.0\\data_svc\\indexes\n",
      "INFO:__main__:create hubert index for speaker soyo\n",
      "INFO:feature_retrieval.index:start getting feature vectors from e:\\Data\\Code\\so-vits-svc-5.0\\data_svc\\hubert\\soyo\n",
      "INFO:feature_retrieval.index:apply transform to feature matrix\n",
      "INFO:feature_retrieval.transform:condition is not passed. Transform by rule DummyFeatureTransform\n",
      "INFO:feature_retrieval.index:adding features to index with training\n",
      "INFO:feature_retrieval.index:index is trained. Took 24.61 seconds\n",
      "INFO:feature_retrieval.index:adding 23 batches to index\n",
      "\n",
      "  0%|          | 0/23 [00:00<?, ?it/s]\n",
      "  4%|▍         | 1/23 [00:00<00:02,  8.84it/s]\n",
      "  9%|▊         | 2/23 [00:00<00:02,  8.25it/s]\n",
      " 13%|█▎        | 3/23 [00:00<00:02,  8.40it/s]\n",
      " 17%|█▋        | 4/23 [00:00<00:02,  8.81it/s]\n",
      " 22%|██▏       | 5/23 [00:00<00:01,  9.14it/s]\n",
      " 30%|███       | 7/23 [00:00<00:01,  9.39it/s]\n",
      " 35%|███▍      | 8/23 [00:00<00:01,  9.40it/s]\n",
      " 39%|███▉      | 9/23 [00:00<00:01,  9.37it/s]\n",
      " 43%|████▎     | 10/23 [00:01<00:01,  9.38it/s]\n",
      " 48%|████▊     | 11/23 [00:01<00:01,  9.27it/s]\n",
      " 52%|█████▏    | 12/23 [00:01<00:01,  9.11it/s]\n",
      " 57%|█████▋    | 13/23 [00:01<00:01,  9.32it/s]\n",
      " 65%|██████▌   | 15/23 [00:01<00:00,  9.59it/s]\n",
      " 70%|██████▉   | 16/23 [00:01<00:00,  9.54it/s]\n",
      " 74%|███████▍  | 17/23 [00:01<00:00,  9.50it/s]\n",
      " 78%|███████▊  | 18/23 [00:01<00:00,  9.36it/s]\n",
      " 83%|████████▎ | 19/23 [00:02<00:00,  9.11it/s]\n",
      " 87%|████████▋ | 20/23 [00:02<00:00,  9.08it/s]\n",
      " 91%|█████████▏| 21/23 [00:02<00:00,  9.12it/s]\n",
      " 96%|█████████▌| 22/23 [00:02<00:00,  9.12it/s]\n",
      "100%|██████████| 23/23 [00:02<00:00,  9.13it/s]\n",
      "100%|██████████| 23/23 [00:02<00:00,  9.20it/s]\n",
      "INFO:feature_retrieval.index:all batches added. Took 2.52 seconds\n",
      "INFO:feature_retrieval.index:index saved to e:\\Data\\Code\\so-vits-svc-5.0\\data_svc\\indexes\\soyo\\hubert.index\n",
      "INFO:__main__:create whisper index for speaker soyo\n",
      "INFO:feature_retrieval.index:start getting feature vectors from e:\\Data\\Code\\so-vits-svc-5.0\\data_svc\\whisper\\soyo\n",
      "INFO:feature_retrieval.index:apply transform to feature matrix\n",
      "INFO:feature_retrieval.transform:condition is not passed. Transform by rule DummyFeatureTransform\n",
      "INFO:feature_retrieval.index:adding features to index with training\n",
      "INFO:feature_retrieval.index:index is trained. Took 74.89 seconds\n",
      "INFO:feature_retrieval.index:adding 23 batches to index\n",
      "\n",
      "  0%|          | 0/23 [00:00<?, ?it/s]\n",
      "  4%|▍         | 1/23 [00:00<00:09,  2.32it/s]\n",
      "  9%|▊         | 2/23 [00:00<00:07,  2.71it/s]\n",
      " 13%|█▎        | 3/23 [00:01<00:08,  2.47it/s]\n",
      " 17%|█▋        | 4/23 [00:01<00:07,  2.52it/s]\n",
      " 22%|██▏       | 5/23 [00:02<00:07,  2.38it/s]\n",
      " 26%|██▌       | 6/23 [00:02<00:07,  2.40it/s]\n",
      " 30%|███       | 7/23 [00:02<00:07,  2.27it/s]\n",
      " 35%|███▍      | 8/23 [00:03<00:06,  2.29it/s]\n",
      " 39%|███▉      | 9/23 [00:03<00:06,  2.24it/s]\n",
      " 43%|████▎     | 10/23 [00:04<00:05,  2.23it/s]\n",
      " 48%|████▊     | 11/23 [00:04<00:05,  2.24it/s]\n",
      " 52%|█████▏    | 12/23 [00:05<00:04,  2.31it/s]\n",
      " 57%|█████▋    | 13/23 [00:05<00:04,  2.26it/s]\n",
      " 61%|██████    | 14/23 [00:06<00:03,  2.31it/s]\n",
      " 65%|██████▌   | 15/23 [00:06<00:03,  2.33it/s]\n",
      " 70%|██████▉   | 16/23 [00:06<00:02,  2.43it/s]\n",
      " 74%|███████▍  | 17/23 [00:07<00:02,  2.57it/s]\n",
      " 78%|███████▊  | 18/23 [00:07<00:01,  2.69it/s]\n",
      " 83%|████████▎ | 19/23 [00:07<00:01,  2.76it/s]\n",
      " 87%|████████▋ | 20/23 [00:08<00:01,  2.82it/s]\n",
      " 91%|█████████▏| 21/23 [00:08<00:00,  2.85it/s]\n",
      " 96%|█████████▌| 22/23 [00:08<00:00,  2.87it/s]\n",
      "100%|██████████| 23/23 [00:09<00:00,  2.79it/s]\n",
      "100%|██████████| 23/23 [00:09<00:00,  2.49it/s]\n",
      "INFO:feature_retrieval.index:all batches added. Took 9.22 seconds\n",
      "INFO:feature_retrieval.index:index saved to e:\\Data\\Code\\so-vits-svc-5.0\\data_svc\\indexes\\soyo\\whisper.index\n",
      "INFO:__main__:done!\n"
     ]
    }
   ],
   "source": [
    "!python svc_train_retrieval.py"
   ]
  },
  {
   "cell_type": "code",
   "execution_count": 2,
   "id": "5cab3617",
   "metadata": {},
   "outputs": [
    {
     "name": "stderr",
     "output_type": "stream",
     "text": [
      "e:\\.env\\sovit5\\lib\\site-packages\\torch\\nn\\utils\\weight_norm.py:28: UserWarning: torch.nn.utils.weight_norm is deprecated in favor of torch.nn.utils.parametrizations.weight_norm.\n",
      "  warnings.warn(\"torch.nn.utils.weight_norm is deprecated in favor of torch.nn.utils.parametrizations.weight_norm.\")\n"
     ]
    }
   ],
   "source": [
    "!python svc_export.py --config configs/base.yaml --checkpoint_path chkpt\\soyo\\soyo_1125.pt"
   ]
  },
  {
   "cell_type": "code",
   "execution_count": null,
   "id": "aed58ce6-c7cd-48f4-8e74-8cbbe053ca2a",
   "metadata": {
    "tags": []
   },
   "outputs": [],
   "source": [
    "!python svc_export.py --config configs/base.yaml --checkpoint_path sovits5_no_aug_kikyo_8200.pt"
   ]
  },
  {
   "cell_type": "code",
   "execution_count": null,
   "id": "128d8842-d226-4cce-9b5f-fba661023762",
   "metadata": {
    "tags": []
   },
   "outputs": [],
   "source": [
    "!python svc_export.py --config configs/base.yaml --checkpoint_path sovits5_kikyo_10000.pt"
   ]
  },
  {
   "cell_type": "code",
   "execution_count": null,
   "id": "1de417e2-f734-45b5-b181-6fc0abfb80ff",
   "metadata": {
    "tags": []
   },
   "outputs": [],
   "source": [
    "!python svc_merge.py --model1 sovits5_kikyo_10000.pt --model2 sovits5_no_aug_kikyo_8200.pt --rate 0.5"
   ]
  },
  {
   "cell_type": "code",
   "execution_count": null,
   "id": "27263a19-9e5a-4b49-b430-3e8d93aa130b",
   "metadata": {
    "tags": []
   },
   "outputs": [],
   "source": [
    "!python svc_eva.py"
   ]
  },
  {
   "cell_type": "markdown",
   "id": "c90079c6-1de3-49de-a4ca-36c9a2b888c7",
   "metadata": {},
   "source": [
    "# 推理"
   ]
  },
  {
   "cell_type": "code",
   "execution_count": 1,
   "id": "9c23d2b1",
   "metadata": {},
   "outputs": [
    {
     "name": "stdout",
     "output_type": "stream",
     "text": [
      "Auto run : python whisper/inference.py -w カタオモイ.wav -p svc_tmp.ppg.npy\n",
      "カタオモイ.wav\n",
      "svc_tmp.ppg.npy\n",
      "Auto run : python hubert/inference.py -w カタオモイ.wav -v svc_tmp.vec.npy\n",
      "カタオモイ.wav\n",
      "svc_tmp.vec.npy\n",
      "Auto run : python pitch/inference.py -w カタオモイ.wav -p svc_tmp.pit.csv\n",
      "カタオモイ.wav\n",
      "svc_tmp.pit.csv\n",
      "<feature_retrieval.retrieval.DummyRetrieval object at 0x000002CE4D6EA700>\n",
      "pitch shift:  2\n",
      "source pitch statics: mean=360.2,                 min=200.0, max=997.0\n",
      "pit? (6634880,)\n",
      "20734\n",
      "inference? torch.Size([1, 1, 803200])\n",
      "inference? torch.Size([1, 1, 806400])\n",
      "inference? torch.Size([1, 1, 806400])\n",
      "inference? torch.Size([1, 1, 806400])\n",
      "inference? torch.Size([1, 1, 806400])\n",
      "inference? torch.Size([1, 1, 806400])\n",
      "inference? torch.Size([1, 1, 806400])\n",
      "inference? torch.Size([1, 1, 806400])\n",
      "inference? torch.Size([1, 1, 238080])\n",
      "out? (6634879,)\n"
     ]
    },
    {
     "name": "stderr",
     "output_type": "stream",
     "text": [
      "e:\\.env\\sovit5\\lib\\site-packages\\torch\\nn\\utils\\weight_norm.py:28: UserWarning: torch.nn.utils.weight_norm is deprecated in favor of torch.nn.utils.parametrizations.weight_norm.\n",
      "  warnings.warn(\"torch.nn.utils.weight_norm is deprecated in favor of torch.nn.utils.parametrizations.weight_norm.\")\n",
      "e:\\.env\\sovit5\\lib\\site-packages\\torch\\nn\\modules\\transformer.py:685: UserWarning: 1Torch was not compiled with flash attention. (Triggered internally at C:\\actions-runner\\_work\\pytorch\\pytorch\\builder\\windows\\pytorch\\aten\\src\\ATen\\native\\transformers\\cuda\\sdp_utils.cpp:263.)\n",
      "  return torch._transformer_encoder_layer_fwd(\n",
      "e:\\.env\\sovit5\\lib\\site-packages\\torch\\nn\\utils\\weight_norm.py:28: UserWarning: torch.nn.utils.weight_norm is deprecated in favor of torch.nn.utils.parametrizations.weight_norm.\n",
      "  warnings.warn(\"torch.nn.utils.weight_norm is deprecated in favor of torch.nn.utils.parametrizations.weight_norm.\")\n",
      "INFO:__main__:infer without retrival\n"
     ]
    }
   ],
   "source": [
    "!python svc_inference.py --config configs/base.yaml --model soyo_avg.pth --spk ./data_svc/singer/soyo.spk.npy --wave カタオモイ.wav --shift 2\n",
    "#--enable-retrieval --retrieval-ratio 0.5 --n-retrieval-vectors 3"
   ]
  },
  {
   "cell_type": "code",
   "execution_count": null,
   "id": "c9904db9",
   "metadata": {},
   "outputs": [],
   "source": [
    "!ffmpeg -i raw/Beautiful_Soldier1.wav -ac 1 Beautiful_Soldier.wav -y"
   ]
  },
  {
   "cell_type": "code",
   "execution_count": 1,
   "id": "66e0438a-2ac2-4a32-99a1-659c21d34d09",
   "metadata": {
    "tags": []
   },
   "outputs": [],
   "source": [
    "!python svc_inference.py --config configs/base.yaml --model sovits5_no_aug_kikyo_8200.pth --spk kikyo.spk.npy --wave Beautiful_Soldier.wav --shift 1 #--enable-retrieval --retrieval-ratio 0.5 --n-retrieval-vectors 3"
   ]
  },
  {
   "cell_type": "code",
   "execution_count": 3,
   "id": "6fd8b7a4-bd1d-47db-9934-ac0b529f825f",
   "metadata": {
    "tags": []
   },
   "outputs": [
    {
     "name": "stdout",
     "output_type": "stream",
     "text": [
      "svc in wave : 1_1_化石.wav\n",
      "svc out wave : svc_out.wav\n",
      "svc post wave : svc_out_post.wav\n"
     ]
    }
   ],
   "source": [
    "!python svc_inference_post.py --ref 1_1_化石.wav --svc svc_out.wav --out svc_out_post.wav"
   ]
  },
  {
   "cell_type": "code",
   "execution_count": null,
   "id": "84562e8c-4496-4fde-9144-b81377efa53e",
   "metadata": {
    "tags": []
   },
   "outputs": [],
   "source": [
    "!python whisper/inference.py -w Beautiful_Soldier.wav -p Beautiful_Soldier.ppg.npy"
   ]
  },
  {
   "cell_type": "code",
   "execution_count": null,
   "id": "72793333-a3ca-43d5-bbac-b3c88d28ac5b",
   "metadata": {
    "tags": []
   },
   "outputs": [],
   "source": [
    "!python hubert/inference.py -w Beautiful_Soldier.wav -v Beautiful_Soldier.vec.npy"
   ]
  },
  {
   "cell_type": "code",
   "execution_count": null,
   "id": "97b9d268-870b-46dc-b56d-b997ced8d5c9",
   "metadata": {
    "tags": []
   },
   "outputs": [],
   "source": [
    "!python pitch/inference.py -w Beautiful_Soldier.wav -p Beautiful_Soldier.csv"
   ]
  },
  {
   "cell_type": "code",
   "execution_count": null,
   "id": "daea8539-5640-4b1a-b2f6-826cac32cf15",
   "metadata": {
    "tags": []
   },
   "outputs": [],
   "source": [
    "!python svc_inference.py --config configs/base.yaml --model sovits5_no_aug_kikyo.pth --spk kikyo.spk.npy --wave Rainy_proof.wav --ppg Rainy_proof.ppg.npy --vec Rainy_proof.vec.npy --pit Rainy_proof.csv --shift 0 \n",
    "# --enable-retrieval --retrieval-ratio 0.5 --n-retrieval-vectors 3"
   ]
  },
  {
   "cell_type": "code",
   "execution_count": null,
   "id": "a5dd91c0-df2f-485a-9598-2b421235dc34",
   "metadata": {
    "tags": []
   },
   "outputs": [],
   "source": [
    "!python svc_inference_post.py --ref Rainy_proof.wav --svc svc_out.wav --out svc_out_post.wav"
   ]
  }
 ],
 "metadata": {
  "kernelspec": {
   "display_name": "Python 3 (ipykernel)",
   "language": "python",
   "name": "python3"
  },
  "language_info": {
   "codemirror_mode": {
    "name": "ipython",
    "version": 3
   },
   "file_extension": ".py",
   "mimetype": "text/x-python",
   "name": "python",
   "nbconvert_exporter": "python",
   "pygments_lexer": "ipython3",
   "version": "3.9.6"
  }
 },
 "nbformat": 4,
 "nbformat_minor": 5
}
